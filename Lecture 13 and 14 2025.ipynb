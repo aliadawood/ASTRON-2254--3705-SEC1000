{
 "cells": [
  {
   "cell_type": "code",
   "execution_count": 3,
   "metadata": {},
   "outputs": [],
   "source": [
    "%matplotlib inline   \n",
    "                     # this sets up matplotlib to make plots show up in the notebook\n",
    "import numpy as np   # imports the numpy package, abbreviated as np\n",
    "import matplotlib    # imports the matplotlib package for making plots\n",
    "import matplotlib.pyplot as plt    # imports the part of matplotlib we use most,\n",
    "                                   #abbreviated as plt\n",
    "    \n",
    "import scipy.stats as stats\n",
    "import astropy.stats as astats\n",
    "import numpy.random as random\n"
   ]
  },
  {
   "cell_type": "markdown",
   "metadata": {},
   "source": [
    "# Exploring measurements of the Hubble parameter\n",
    "\n"
   ]
  },
  {
   "cell_type": "code",
   "execution_count": 4,
   "metadata": {},
   "outputs": [],
   "source": [
    "from astropy.table import Table\n",
    "import pandas"
   ]
  },
  {
   "cell_type": "markdown",
   "metadata": {},
   "source": [
    "# Reading in an ASCII file\n",
    "\n",
    "See https://pandas.pydata.org/pandas-docs/stable/reference/io.html for `pandas` format options (or http://docs.astropy.org/en/stable/io/unified.html#table-io for `Table.read()` format options). If you have a file that only reads in via astropy, you can convert to a `pandas` DataFrame via the `.to_pandas()` method of an astropy recarray.\n",
    "\n",
    "\n",
    "__1) using the below code box (or a text file viewer) look at the contents of the file H0_data.txt__"
   ]
  },
  {
   "cell_type": "code",
   "execution_count": 5,
   "metadata": {},
   "outputs": [
    {
     "name": "stdout",
     "output_type": "stream",
     "text": [
      "Index\tH0\terror_plus\terror_minus\tyear\tDataset\tReference\n",
      "0\t67.27\t0.6\t-0.6\t2020.0\tPlanck CMB\tPlanck:2018vyg\n",
      "1\t67.36\t0.54\t-0.54\t2020.0\tPlanck CMB+lensing\tPlanck:2018vyg\n",
      "2\t67.49\t0.53\t-0.53\t2021.0\tPlanck+SPT+ACT CMB\tSPT-3G:2021wgf\n",
      "3\t69.6\t1.8\t-1.8\t2020.0\teBOSS+Planck CMB\tPogosian:2020ded\n",
      "4\t68.8\t1.5\t-1.5\t2021.0\tSPT-3G CMB\tSPT-3G:2021eoc\n",
      "5\t67.9\t1.5\t-1.5\t2020.0\tACT CMB\tACT:2020gnv\n",
      "6\t67.6\t1.1\t-1.1\t2020.0\tACT+WMAP CMB\tACT:2020gnv\n",
      "7\t71.3\t2.1\t-2.1\t2018.0\tSPT CMB\tSPT:2017jdf\n",
      "8\t70.0\t2.2\t-2.2\t2013.0\tWMAP9 CMB\t2013ApJS..208...19H\n",
      "9\t68.36\t0.53\t-0.52\t2019.0\tBAO+WMAP CMB\tZhang:2018air\n",
      "10\t68.19\t0.99\t-0.99\t2022.0\tBOSS+BAO+BBN\tZhang:2021yna\n",
      "11\t69.23\t0.77\t-0.77\t2022.0\tP+BAO+BBN\tChen:2021wdi\n",
      "12\t68.31\t0.83\t-0.86\t2022.0\tP+Bispectrum+BAO+BBN\tPhilcox:2021kcw\n",
      "13\t66.98\t1.18\t-1.18\t2018.0\tBAO+BBN\tAddison:2017fdm\n",
      "14\t68.5\t2.2\t-2.2\t2020.0\tBOSS DR12+BBN\tDAmico:2019fhj\n",
      "15\t68.7\t1.5\t-1.5\t2020.0\tBOSS DR12+BBN\tColas:2019ret\n",
      "16\t67.9\t1.1\t-1.1\t2020.0\tBOSS DR12+BBN\tIvanov:2019pdj\n",
      "17\t67.35\t0.97\t-0.97\t2020.0\tBOSS+eBOSS+BBN\teBOSS:2020yzd\n",
      "18\t69.5\t3.0\t-3.5\t2022.0\tLSS teq standard ruler\tFarren:2021grl\n",
      "19\t70.6\t3.0\t-5.4\t2020.0\tLSS teq standard ruler+lensing\tPhilcox:2020xbv\n",
      "20\t69.13\t2.34\t-2.34\t2017.0\tBAO+RSD\tWang:2017yfu\n",
      "21\t73.04\t1.04\t-1.04\t2022.0\tSnIa-Cepheid\tRiess:2021jrx\n",
      "22\t74.3\t1.45\t-1.45\t2021.0\tSnIa-Cepheid\tCamarena:2021jlr\n",
      "23\t73.2\t1.3\t-1.3\t2021.0\tSnIa-Cepheid\tRiess:2020fzl\n",
      "24\t74.03\t1.42\t-1.42\t2019.0\tSnIa-Cepheid\tRiess:2019cxk\n",
      "25\t73.48\t1.66\t-1.66\t2018.0\tSnIa-Cepheid\tRiess:2018uxu\n",
      "26\t72.8\t2.7\t-2.7\t2020.0\tSnIa-Cepheid\tBreuval:2020trd\n",
      "27\t73.0\t2.7\t-2.7\t2020.0\tSnIa-Cepheid\tBreuval:2020trd\n",
      "28\t76.94\t6.4\t-6.4\t2022.0\tSnIa-TRGB\tDhawan:2022yws\n",
      "29\t72.4\t3.3\t-3.3\t2022.0\tSnIa-TRGB\tJones:2022mvo\n",
      "30\t71.5\t1.8\t-1.8\t2021.0\tSnIa-TRGB\tAnand:2021sum\n",
      "31\t69.8\t1.7\t-1.7\t2021.0\tSnIa-TRGB\tFreedman:2021ahq\n",
      "32\t65.8\t4.2\t-4.2\t2021.0\tSnIa-TRGB\tKim:2020gai\n",
      "33\t72.1\t2.1\t-2.1\t2020.0\tSnIa-TRGB\tSoltis:2020gpl\n",
      "34\t69.6\t1.9\t-1.9\t2020.0\tSnIa-TRGB\tFreedman:2020dne\n",
      "35\t69.8\t1.9\t-1.9\t2019.0\tSnIa-TRGB\tFreedman:2019jwv\n",
      "36\t71.1\t1.9\t-1.9\t2019.0\tSnIa-TRGB\tReid:2019tiq\n",
      "37\t72.4\t2.0\t-2.0\t2019.0\tSnIa-TRGB\tYuan:2019npk\n",
      "38\t73.3\t4.0\t-4.0\t2020.0\tSnIa-Miras\tHuang:2019yhh\n",
      "39\t73.3\t2.5\t-2.5\t2021.0\tSBF\tBlakeslee:2021rqi\n",
      "40\t70.5\t4.1\t-4.1\t2020.0\tSBF\tKhetan:2020hmh\n",
      "41\t71.9\t7.1\t-7.1\t2018.0\tSBF\tCantiello:2018ffy\n",
      "42\t75.4\t3.6\t-3.7\t2022.0\tSneII\tdeJaeger:2022lit\n",
      "43\t75.8\t5.2\t-4.9\t2020.0\tSneII\tdeJaeger:2020zpb\n",
      "44\t71.8\t3.9\t-3.3\t2021.0\tTime-delay (TD) lensing\tDenzel:2020zuq\n",
      "45\t73.3\t1.7\t-1.8\t2020.0\tTD lensing\tWong:2019kwg\n",
      "46\t72.8\t1.6\t-1.7\t2020.0\tTD lensing\tLiao:2020zko\n",
      "47\t72.2\t2.1\t-2.1\t2020.0\tTD lensing\tLiao:2019qoc\n",
      "48\t73.65\t1.95\t-2.26\t2020.0\tTD lensing\tYang:2020eoh\n",
      "49\t74.2\t1.6\t-1.6\t2020.0\tTD lensing\tMillon:2019slk\n",
      "50\t73.6\t1.8\t-1.6\t2021.0\tTD lensing\tQi:2020rmm\n",
      "51\t74.2\t2.7\t-3.0\t2020.0\tTD lensing\tShajib:2019toy\n",
      "52\t74.5\t5.6\t-6.1\t2020.0\tTD lensing\tBirrer:2020tax\n",
      "53\t67.4\t4.1\t-3.2\t2020.0\tTD lensing+SLACS\tBirrer:2020tax\n",
      "54\t76.8\t2.6\t-2.6\t2019.0\tTD  lensing+SLACS\tChen:2019ejq\n",
      "55\t67.0\t6.3\t-3.8\t2022.0\tGW Standard Sirens\tMukherjee:2022afz\n",
      "56\t68.0\t12.0\t-7.0\t2021.0\tGW Standard Sirens\tLIGOScientific:2021aug\n",
      "57\t72.77\t11.0\t-7.55\t2021.0\tGW Standard Sirens\tPalmese:2021mjm\n",
      "58\t73.4\t6.9\t-10.7\t2021.0\tGW Standard Sirens\tGayathri:2020mra\n",
      "59\t75.0\t59.0\t-13.0\t2020.0\tGW Standard Sirens\tAbbott:2020khf\n",
      "60\t50.4\t28.1\t-19.5\t2020.0\tGW Standard Sirens\tMukherjee:2020kki\n",
      "61\t67.6\t4.3\t-4.2\t2020.0\tGW Standard Sirens\tMukherjee:2020kki\n",
      "62\t48.0\t23.0\t-10.0\t2020.0\tGW Standard Sirens\tChen:2020gek\n",
      "63\t69.0\t16.0\t-8.0\t2019.0\tGW Standard Sirens\tAbbott:2019yzh\n",
      "64\t75.0\t40.0\t-32.0\t2019.0\tGW Standard Sirens\tSoares-Santos:2019irc\n",
      "65\t68.9\t4.7\t-4.6\t2019.0\tGW Standard Sirens\tHotokezaka:2018dfi\n",
      "66\t77.0\t37.0\t-18.0\t2019.0\tGW Standard Sirens\tFishbach:2018gjp\n",
      "67\t70.0\t12.0\t-8.0\t2017.0\tGW Standard Sirens\tAbbott:2017xzu\n",
      "68\t73.9\t3.0\t-3.0\t2020.0\tMasers\tPesce:2020xfe\n",
      "69\t73.5\t1.4\t-1.4\t2019.0\tMasers\tReid:2019tiq\n",
      "70\t66.0\t6.0\t-6.0\t2016.0\tMasers\tGao:2015tqd\n",
      "71\t73.0\t26.0\t-22.0\t2015.0\tMasers\tKuo:2014bqa\n",
      "72\t68.0\t9.0\t-9.0\t2013.0\tMasers\tKuo:2012hg\n",
      "73\t68.9\t7.1\t-7.1\t2013.0\tMasers\tReid:2012hm\n",
      "74\t76.0\t2.6\t-2.6\t2020.0\tTully Fisher\tKourkchi:2020iyz\n",
      "75\t75.1\t2.8\t-2.8\t2020.0\tTully Fisher\tSchombert:2020pxm\n",
      "76\t67.4\t6.0\t-6.2\t2019.0\tgamma-ray attenuation\tDominguez:2019jqc\n",
      "77\t64.9\t4.6\t-4.3\t2019.0\tgamma-ray attenuation\tZeng:2019mae\n",
      "78\t71.0\t2.8\t-2.8\t2018.0\tHII galaxy\tFernandez-Arenas:2017isq\n",
      "79\t76.12\t3.47\t-3.44\t2017.0\tHII galaxy\tWang:2016pag\n",
      "80\t66.5\t5.4\t-5.4\t2022.0\tCosmic chronometers, flat LCDM with systematics\tMoresco:2022phi\n",
      "81\t67.8\t8.7\t-7.2\t2022.0\tCosmic chronometers, open wCDM with systematics\tMoresco:2022phi\n",
      "82\t67.06\t1.68\t-1.68\t2018.0\tCosmic chronometers, without systematics\tGomez-Valent:2018hwc\n",
      "83\t67.0\t4.0\t-4.0\t2018.0\tCosmic chronometers, without systematics\tYu:2017iju\n",
      "84\t68.3\t2.7\t-2.6\t2017.0\tCosmic chronometers, without systematics\tChen:2016uno\n",
      "85\t69.7\t1.2\t-1.2\t2022.0\tH(z)+BAO+SN-Pantheon+SN-DES+QSO+HIIG+ GRB\tCao:2022ugh\n",
      "86\t73.5\t5.3\t-5.3\t2021.0\tCMB (rs-independent)+lensing+Pantheon\tBaxter:2020qlr\n",
      "87\t73.8\t1.1\t-1.1\t2020.0\tSnIa-Cepheid and TD lensing\tWong:2019kwg\n",
      "88\t70.3\t1.36\t-1.35\t2019.0\tSnIa+BAO+TD lensing+cosmic chronometers+ LSS\tDutta:2019pio\n",
      "89\t67.2\t1.2\t-1.0\t2018.0\tBAO+BBN+WL-CC\tAbbott:2017smn\n",
      "90\t68.52\t2.68\t-2.68\t2018.0\tSnIa+BAO+CC\tHaridasu:2018gqm\n",
      "91\t50.0\t2.0\t-2.0\t1996.0\tAS\tTammann, G. \\& Sandage, A. 1996in IAU Symp 168, {\\it Examining the Black Bodyand DiffuseBackground Raduation}, M. Kafatos, ed. (Dordrecht: Kluwer) p163.\n",
      "92\t77.0\t22.0\t-2.0\t1996.02\tAV\tVandenBergh, S. 1996, in IAU Symp 168, {\\it Examining the Black Body and Diffuse BackgroundRaduation}, M. Kafatos, ed. (Dordrecht: Kluwer) p157. Wierd limits\n",
      "93\t56.0\t5.0\t-5.0\t1996.05\tOS\tSandage, A. 1996, AJ 111, 1.  Spiral Luminosity Functions\n",
      "94\t55.0\t5.0\t-5.0\t1996.07\tOS\tSandage, A. 1996, AJ 111, 18. M31+M101 look alikes.\n",
      "95\t55.0\t10.0\t-10.0\t1996.1\tAS\tTammann, G., Labhardt, L., Federspiel, M.\n",
      "96\t84.0\t4.0\t-4.0\t1996.143\tPK\tFord, H. \\etal 1996, ApJ 458, 455\n",
      "97\t76.0\t8.0\t-8.0\t1996.15\tO\tZasov 1996, AstronLett 22, 71  Theory, Disk Stability\n",
      "98\t67.0\t9.0\t-9.0\t1996.17\tS\tHoeflich, P. \\& Khokhlov, A. 1996, ApJ 457, 500. SN Theory\n",
      "99\t57.0\t4.0\t-4.0\t1996.22\tSS\tSandage, A. \\etal 1996, ApJL 460, L15. N4639 + six  Ia's\n",
      "100\t65.0\t8.0\t-8.0\t1996.25\tS\tHendry \\& Kanbur 1996, in Mapping, Measuring and Modeling the Universe, Coles\\etaleds,ASP \\#94,p357.\n",
      "101\t55.0\t3.0\t-3.0\t1996.26\tS\tSchaefer, B. 1996, ApJL 460, L19. SN 1960F\n",
      "102\t57.0\t4.0\t-4.0\t1996.333\tS\tSchaefer, B. 1996, AJ 111, 1668 SN1937C\n",
      "103\t40.0\t10.0\t-10.0\t1996.375\tZ\tLasenby \\& Jones 1997, in CDS, Livio \\etal eds (Cambridge: Cambridge) p76.\n",
      "104\t70.0\t5.0\t-5.0\t1996.377\tR\tGiovanelli, R. 1997, in  in CDS, Livio \\etal eds (Cambridge: Cambridge) p113\n",
      "105\t60.0\t3.0\t-3.0\t1996.379\tSS\tSaha, A. 1997, in CDS, Livio \\etal eds (Cambridge: Cambridge) p128\n",
      "106\t54.0\t4.0\t-4.0\t1996.381\tSS\tTammann, G. \\& Federspeil, M. 1997,  in CDS, Livio \\etal eds (Cambridge: Cambridge)p137.\n",
      "107\t73.0\t10.0\t-10.0\t1996.383\tTK\tMould \\etal 1997, in CDS, Livio \\etal eds (Cambridge: Cambridge) p7158\n",
      "108\t73.0\t10.0\t-10.0\t1996.385\tTK\tFreedman, W. Madore, B. \\& Kennicutt, R. 1997,  in CDS, Livio \\etal eds (Cambridge:Cambridge)p7171\n",
      "109\t74.0\t11.0\t-11.0\t1996.38\tTK\tBureau, M., Mould, J. \\& Staveley-Smith, L. 1996, ApJ 463, 60.  TF to Fornax\n",
      "110\t82.0\t13.0\t-13.0\t1996.387\tG\tWhitmore, B. 1997,  in CDS, Livio \\etal eds (Cambridge: Cambridge) p7254\n",
      "111\t81.0\t6.0\t-6.0\t1996.389\tF\tTonry, J. 1997,  in CDS, Livio \\etal eds (Cambridge: Cambridge) p7297*\n",
      "112\t62.0\t9.0\t-9.0\t1996.44\tGS\tSandage, A. \\& Tammann, G. 1996, ApJ 464, L51 GCLF Virgo\n",
      "113\t85.0\t10.0\t-13.0\t1996.444\tL\tGrogin, N. \\& Narayan, R. 1996, ApJ 464, 92 (0957+561)\n",
      "114\t60.0\t10.0\t-10.0\t1996.48\tA\tGouguemheim, L. \\etal 1996, Rev Mod Astr 9, 127.\n",
      "115\t55.0\t10.0\t-10.0\t1996.5\tAS\tTammann, G. 1996, Rev Mod Astr 9, 139.\n",
      "116\t68.0\t7.0\t-7.0\t1996.53\tS\tRuiz La Puente, P. 1996,  ApJ 465 83. % SnI Theory\n",
      "117\t56.0\t3.0\t-3.0\t1996.554\tSS\tSaha, A. \\etal 1996, ApJ 466, 55. N4536.\n",
      "118\t73.0\t7.0\t-7.0\t1996.58\t2\tEastman, R., Schmidt, B. \\& Kirshner, R. 1996, ApJ 466, 911. %    SnII\n",
      "119\t69.0\t8.0\t-8.0\t1996.667\tA\tAmendola A&A 312,353. %   summary\n",
      "120\t72.0\t10.0\t-12.0\t1996.68\tG\tForbes, D. AJ 112, 954. %  GCLF N4365\n",
      "121\t57.0\t5.0\t-5.0\t1996.78\tS\tBranch, D. \\etal 1996, ApJ 470, 7. % SnI\n",
      "122\t63.0\t12.0\t-12.0\t1996.84\tL\tKundic, Turner \\etal 0957 G Lens\n",
      "123\t51.0\t14.0\t-13.0\t1996.89\tL\tKeeton and Kochanek, Astroph199611216v2 PG1115+080\n",
      "124\t58.0\t9.0\t-9.0\t1996.91\tO\tSofue \\etal 191996, PASJ 48, 657 (CO TF relation)\n",
      "125\t55.0\t5.0\t-5.0\t1996.92\tSS\tSandage, A. \\& Tammann, G. in {\\it Critical Dialogues in Cosmology}, N. Turok, ed (Singapore:World Scientific) p., Astroph199611170\n",
      "126\t73.0\t10.0\t-10.0\t1996.92\tAK\tFreedman. W. 1997, in {\\it Critical Dialogues in Cosmology}, N. Turok, ed (Singapore: WorldScientific) p92., Astroph199612024\n",
      "127\t63.0\t3.0\t-3.0\t1996.92\tS\tHamuy, M. \\etal 1996, AJ 112, 2398.  SnI\n",
      "128\t65.0\t8.0\t-8.0\t1996.93\tGK\tForbes, D., Brodie, J. \\& Huchra, J. 1996,  AJ 112, 2448, GCLF N5846\n",
      "129\t55.0\t10.0\t-10.0\t1996.93\tAS\tTammann, G. 1996, PASP 108, 1083.  A Discourse.\n",
      "130\t72.0\t6.0\t-9.0\t1996.94\tAV\tVan den Bergh, S. 1996, PASP 108, 1091\n",
      "131\t70.0\t10.0\t-10.0\t1996.95\tZ\tKobayashi \\etal PASJ 48, L107  SZ- Summary\n",
      "132\t98.0\t12.0\t-11.0\t1996.96\tL\tGrogin, N. \\& Narayan, R. 1996, ApJ 473, 570 (0957+561 erratum)\n",
      "133\t72.0\t12.0\t-12.0\t1996.97\tH\tMalhotra, Spergel and Rhodes ApJ 473, 687\n",
      "134\t58.0\t7.0\t-8.0\t1996.98\tSS\tSaha, A. \\etal 1996, ApJ 486, 1, 1997. N4639 SnI\n",
      "135\t55.0\t10.0\t-10.0\t1997.0\tAS\tSandage \\& Tammann 1997, Critical Dialogues in Cosmology, N   Turok, ed (Singapore:WorldScientific) p130.\n",
      "136\t93.0\t12.0\t-10.0\t1997.01\tO\tChiba, M. \\& Yoshi, Y. 1997, in Origin f Matter and Evolution of galaxies, Kajino \\etal eds, WorldScientific, p137. Disk Structure\n",
      "137\t70.0\t7.0\t-7.0\t1997.02\tD\tHjorth & Tanvir , N.1997, ApJ 482, 68.  Astroph9701025\n",
      "138\t67.0\t8.0\t-8.0\t1997.02\tD\tHjorth & Tanvir 1997, ApJ 482, 68.  Astroph9701025\n",
      "139\t68.0\t6.0\t-6.0\t1997.03\tG\tBaum, W. \\etal AJ in press GCLF to Coma (also BAAS28, 1288)\n",
      "140\t73.0\t8.0\t-8.0\t1997.04\tTK\tMadore \\etal Fornax  BAAS 28 1420\n",
      "141\t67.0\t9.0\t-9.0\t1997.05\tS\tHoeflich, P. \\etal SnI Theory BAAS 189 451\n",
      "142\t64.0\t20.0\t-22.0\t1997.06\tL\tSchechter, P. \\etal Grav lens 1997 ApJ 475, 85 1115+080\n",
      "143\t81.0\t6.0\t-6.0\t1997.08\tF\tTonry, J. \\etal SBF 1997 ApJ 475 399\n",
      "144\t80.0\t8.0\t-9.0\t1997.09\tSV\t\"vandenBergh, S. 1997, in {\\it The Evolution of the Universe}, G. B\\\"\"orner \\&S. Gottl\\\"\"ober, eds.(New York: Wiley) pg 35.\"\n",
      "145\t74.0\t5.0\t-5.0\t1997.1\tS\t\"Ellis, G. F. R. 1997, in {\\it The Evolution of the Universe}, G. B\\\"\"orner \\&S. Gottl\\\"\"ober, eds.(New York: Wiley) pg 50.\"\n",
      "146\t82.0\t10.0\t-10.0\t1997.11\tB\tYasuda, Fukugita & Okamura BTF in Virgo   ApJS 108, 417\n",
      "147\t68.0\t8.0\t-8.0\t1997.13\tT\tShanks, T. preprint\n",
      "148\t62.0\t7.0\t-7.0\t1997.137\tL\tFalco, E. \\etal ApJ in press. Astroph9702152. 0957 lens\n",
      "149\t92.0\t12.0\t-12.0\t1997.15\tO\tBizyaev, D. Astronom. Zhurnal 74, 172 (1997) Spiral Disks\n",
      "150\t69.0\t5.0\t-5.0\t1997.17\tR\tGiovanelli, R. \\etal ApJ 477, L1  ITF\n",
      "151\t75.0\t6.0\t-6.0\t1997.18\tD\tGregg, M. 1997, New Astron 1, 363. Astroph 9703031 Leo/Coma Fund Plane\n",
      "152\t69.0\t8.0\t-8.0\t1997.19\tA\tKochanek, C. Astroph 9703059  SnI + new Cephs\n",
      "153\t74.0\t14.0\t-14.0\t1997.21\trK\tSakai, S. \\etal 1997, ApJ 478, 49  Leo  RGB\n",
      "154\t68.0\t3.0\t-3.0\t1997.225\tSI\tKirshner, R. 1997,  Irvine  PNAS   SN I and II\n",
      "155\t70.0\t10.0\t-10.0\t1997.23\tAKI\tFreedman, W. 1997,   Irvine  PNAS   Summary, Ho Key Project Team\n",
      "156\t67.0\t3.0\t-3.0\t1997.235\tCI\tBond, R. 1997, Irvine CMB Spectrum\n",
      "157\t65.0\t10.0\t-10.0\t1997.24\tLI\tNarayan, R. 1997, Irvine  PNAS Lenses\n",
      "158\t60.0\t10.0\t-10.0\t1997.245\tZI\tCarlstrom, J. 1997, Irvine PNAS SZ\n",
      "159\t58.0\t10.0\t-5.0\t1997.25\tA\tHoyle, F., Burbidge, G. \\& Narlikar, J. 1997, MNRAS 286, 173 summary\n",
      "160\t65.0\t16.0\t-16.0\t1997.306\tL\tOscoz, A. \\etal ApJL 479, L92.  0957 G Lens\n",
      "161\t52.0\t6.0\t-6.0\t1997.333\tO\tGoodwin, Gribbin & Hendry Astroph 9704289. Diameters\n",
      "162\t78.0\t60.0\t-40.0\t1997.36\tZ\tHolzapfel, W. \\etal ApJ 480, 449. SZ on A2163\n",
      "163\t52.0\t14.0\t-14.0\t1997.368\tL\tKundic \\etal Astroph9704109, PG1115+080\n",
      "164\t53.0\t10.0\t-7.0\t1997.371\tL\tCourbin \\etal A&A in press. Astroph9705093. PG1115+080 Lens\n",
      "165\t66.0\t5.0\t-5.0\t1997.376\tS\t\"Wheeler, J. \\& H\\\"\"oflich, P. 1998, Rev.Mex A\\&A Conf. Series 7, 73.  65.73 km/s/Mpc...\"\n",
      "166\t71.0\t11.0\t-11.0\t1997.384\tF\tThomsen, B., Baum, W., Hammergren, M. & Worthy, G. 1997, ApJL 483, L37. ComaSBF\n",
      "167\t55.0\t5.0\t-5.0\t1997.4\tB\tTheureau, G. 1997, J. Astron. Francais 55, 57. B Band TF\n",
      "168\t44.0\t7.0\t-7.0\t1997.41\tZ\tRephaeli, Y. \\& Yankovich, D. 1997, ApJL 481, L55. Relativistic Corrections to SZ lower H0\n",
      "169\t60.0\t2.0\t-2.0\t1997.42\tO\tWitasse, O. \\& Paturel, G. 1997, A\\&A 321, 10. Sosies. Internal error only\n",
      "170\t70.0\t10.0\t-10.0\t1997.436\tTK\tFreedman 1997, in 18th Texas Symposium, Olinto, Frieman and Schramm eds (Singapore:WorldScientific)  (Astroph9706072)\n",
      "171\t54.0\t14.0\t-14.0\t1997.22\tZ\tMyers, S., Baker, J., Readhead, A. Leitch, E. \\& Herbig, T. 1997, ApJ 485, 1.% Astroph973123, OVRO preprint 97-6. SZ in A478, A2142 and A2256\n",
      "172\t53.0\t5.0\t-5.0\t1997.5\tB\tTheureau, G. \\etal 1997, A\\&A 322, 730. via magnitudes\n",
      "173\t57.0\t5.0\t-5.0\t1997.5\tB\tTheureau, G. \\etal 1997, A\\&A 322, 730. via diamters\n",
      "174\t50.0\t20.0\t-20.0\t1997.625\tC\tHancock \\etal Astroph9708254, CMB Fluct MNRAS 294, L1 (1998)\n",
      "175\t89.0\t10.0\t-10.0\t1997.659\tF\tLauer \\etal 1998, ApJ 499, 577. Astroph9708252. Far field H0, clusters\n",
      "176\t82.0\t8.0\t-8.0\t1997.661\tF\t\"Lauer \\etal 1998, ApJ 499, 577.   \"\"             \"\"        \"\"   BCG's\"\n",
      "177\t53.0\t3.0\t-3.0\t1997.667\tO\tSciama 1997, MNRAS 289,945 (decaying neutrino theory)\n",
      "178\t66.0\t12.0\t-12.0\t1997.7\tS\tIwamoto, K. \\& Nomoto, K. 1997, in IUA Symp 183, Cosmological Paramters and the Evolutionof the Universe.. SN Theory\n",
      "179\t61.0\t9.0\t-9.0\t1997.689\tL\tWilliams & Schechter Astroph9709059 Lensing\n",
      "180\t56.0\t7.0\t-7.0\t1997.75\tSS\tSandage & Tammann, Hipparcos+SnI preprint\n",
      "181\t57.0\t5.0\t-5.0\t1997.8\tB\tTheureau, G. \\etal 1997, in IAU Symp 183.\n",
      "182\t50.0\t3.0\t-3.0\t1997.944\tS\tLanoix, 1998, A\\&A 331, 421.  Astroph9712137\n",
      "183\t65.0\t10.0\t-10.0\t1997.958\tS\t\"Hendry, M. 1997, Observatory 117, 329. Summary of \"\"How Far Can You GHo\"\" Workshop.\"\n",
      "184\t60.0\t10.0\t-10.0\t1998.021\tS\tBranch 1998, ARA\\&A 36, 17. Astroph9801065\n",
      "185\t47.0\t23.0\t-15.0\t1998.051\tZ\tHughes & Birkinshaw 1998, ApJ501,1. Astroph9801183 Cl0016+16\n",
      "186\t65.0\t20.0\t-14.0\t1998.074\tB\tWatanabe, Ichikawa & Okamura, 1998, ApJ 503, 553. Astroph9801256\n",
      "187\t66.0\t15.0\t-14.0\t1998.081\tL\tGoicoechea, Mediavilla, Oscoz, Serra and Buitrago Astroph9801315\n",
      "188\t82.0\t16.0\t-16.0\t1998.092\tR\tTully, R. B. 1999, IAU Symp 183 {\\it Cosmological Parameters and the Evolution of the Universe}, K. Sato ed. p 54. TF (Astroph9802027)\n",
      "189\t30.0\t18.0\t-7.0\t1998.1\tCM\tLineweaver, C. \\& Barbosa, D. 1998, A\\&A 329, 799. %  CBP Acoustic Fit\n",
      "190\t47.0\t6.0\t-6.0\t1998.113\tCM\tWebster, A., Bridle, S., Hobson, M., Lasenby, A., Lahav, O. \\& Rocha, G. 1998, ApJL509,L65Astroph9802109 CMB Accoustic peak, Omega = 1 assumed\n",
      "191\t42.0\t12.0\t-9.0\t1998.14\tZ\tGrainge, K. 1998, in Observational Cosmology with New Radio Surveys, Bremer \\etal eds (Dordrecht:Kluwer) p 83. SZ to A2218 and A1413\n",
      "192\t62.0\t7.0\t-7.0\t1998.16\tL\tWambsganss, J. 1998, in Observational Cosmology with New Radio Surveys, Bremer \\etal eds(Dordrecht: Kluwer) p 317. SZ to A2218 and A1413\n",
      "193\t72.0\t12.0\t-12.0\t1998.2\tTK\tMadore \\etal 1998, ApJ in press Implications paper.\n",
      "194\t58.0\t11.0\t-11.0\t1998.158\tCM\tLineweaver, C. \\& Barbosa, D. 1988 ApJ 496, 624. % Astroph9706077\n",
      "195\t57.0\t7.0\t-7.0\t1998.169\tBS\tFederspiel, Tammann & Sandage  ApJ 495, 115 Virgo Distance from 21-cm Linewidths\n",
      "196\t60.0\t11.0\t-11.0\t1998.194\tO\tSalaris \\& Cassisi MNRAS 298, 166. Astroph9803103 Red Giant Tip Calibration\n",
      "197\t56.0\t3.0\t-3.0\t1998.2\tB\tTheureau, G. 1998, A\\&A 331, 1. B Band TF HST Cal\n",
      "198\t51.0\t4.0\t-4.0\t1998.2\tB\tTheureau, G. 1998, A\\&A 331, 1. B Band TF Hipparcos Cal\n",
      "199\t57.0\t8.0\t-8.0\t1998.212\tO\tNarasimha & Mazumdar Astroph9803195 Ceph to M100 + Virgo z\n",
      "200\t58.0\t19.0\t-18.0\t1998.214\tL\tImpey \\etal Astroph9803207  Lens PG1115+080\n",
      "201\t70.0\t10.0\t-10.0\t1998.22\tZ\tCen, R.  ApJL 498, L99. Astroph9803250  SZ summary\n",
      "202\t57.0\t7.0\t-7.0\t1998.223\tAS\tTammann, G. 1999, IAU Symp 183 {\\it Cosmological Parameters and the Evolutionof the Universe}, K.Sato ed. p 31. Astroph9803255\n",
      "203\t74.0\t8.0\t-7.0\t1998.231\tL\tChartas \\etal Astroph9803285  0957 x-ray mass  q=0 assumed\n",
      "204\t60.0\t6.0\t-6.0\t1998.25\tS\tTripp R. 1998, A\\&A 331, 815\n",
      "205\t57.0\t7.0\t-7.0\t1998.344\tAS\tTammann, G. in 8th Marcel Grossmann Symp  Astroph9805013\n",
      "206\t62.0\t6.0\t-6.0\t1998.345\tG\tDella Valle, Kissler-Pattig, Danziger, J. \\& Storm, J. 1998, MNRAS 299, 267 %Astroph980524 GCLFcalib of SN Ia\n",
      "207\t61.0\t13.0\t-15.0\t1998.9\tL\tRomanowsky \\& Kochanek 1998, Astroph9805080. Revised number 0957+561\n",
      "208\t68.0\t5.0\t-5.0\t1998.37\tA\tNevalainen & Roos, M. 1998, Preprint. A&A in press. Astroph9805136\n",
      "209\t79.0\t7.0\t-7.0\t1998.382\tA\tLuri, X. Gomez, A., Torra, J., Figueras, F. \\& Mennessier, M. 1998, A\\&A 335,81L.Astroph9805215\n",
      "210\t61.0\t5.0\t-5.0\t1998.406\tO\tBaum, W. 1998, AJ 116, 31. Preprint.  Based on Coma distance and ages.\n",
      "211\t77.0\t8.0\t-8.0\t1998.444\tO\tHarris, W. Durrell, P., Pierce, M. \\& Secker, J. 1998, Nature 395, 45. Astroph 9806153 (RGinVirgo)\n",
      "212\t55.0\t10.0\t-10.0\t1998.5\tL\tFassnacht, C. \\etal in IAU Colloquium 164, (PASP 144) J. Zensus \\etal eds, p311. CLASS1608+656. large errors\n",
      "213\t65.0\t3.0\t-3.0\t1998.55\tS\tSuntzeff, N. \\& Phillips, M. 1998, NOAO Newsletter \\#54, 2.\n",
      "214\t87.0\t11.0\t-11.0\t1998.6\tF\tJensen, J., Tonry, J. \\& Luppino, G. 1999, ApJ 510, 71. Astroph 9807326.  SBFto Hydra andComa\n",
      "215\t55.0\t8.0\t-8.0\t1998.621\tS\tSchaefer, B. 1998, ApJ 509, 80. Astroph9808157  SN1974G in N4414\n",
      "216\t49.0\t29.0\t-29.0\t1998.632\tZ\tCooray, A. 1998, A\\&A 339, 623. Astroph9808186. SZ+Lensing combined constaints.\n",
      "217\t79.0\t12.0\t-12.0\t1998.667\tD\tPierce, M. \\& Tripoli, R. in NOAO Newsletter \\#55, Sept 98. Dn-sigma to Coma.\n",
      "218\t47.0\t14.0\t-14.0\t1998.67\tZ\tFuruzawa, A. \\etal 1998, ApJ 504, 35. SZ on CL0016+16\n",
      "219\t70.0\t18.0\t-18.0\t1998.678\tAT\tMadore, B. \\etal 1998, Nature 395, 47. (Fornax as a cluster)\n",
      "220\t71.0\t13.0\t-13.0\t1998.681\tL\tTonry, J. \\& Franx, M. ApJ in press. Astroph 9809064 0957+561 dispersion\n",
      "221\t82.0\t8.0\t-8.0\t1998.714\tG\tGrillmair, C., Forbes, D. Brodie, J. \\& Elson, R. 1998, AJ in press (Astroph9809210) FornaxGlobs\n",
      "222\t77.0\t4.0\t-4.0\t1998.756\tR\tTully R. 1998, in Post-Hipparcos Cosmic Candles, Caputo \\& Heck, eds. Astroph9809394\n",
      "223\t60.0\t10.0\t-10.0\t1998.775\tO\tPaturel, G. \\etal 1998, A\\&A 339, 6771. Hipparcos + sosies Astroph9810155\n",
      "224\t53.0\t38.0\t-28.0\t1998.85\tZ\tAndreani \\etal 1999, ApJ 513, 23. Astroph9811093, SZ to RXJ0658-5557.  Assumed q_0=45659\n",
      "225\t64.0\t4.0\t-4.0\t1998.869\tS\tSuntzeff, N. \\etal 1999, AJ 117, 1175. Astroph9811205, SN1998bu\n",
      "226\t42.0\t9.0\t-9.0\t1998.883\tO\tCollier, S., Horne, K., Wanders, I. \\& Peterson, B. 1999, MNRAS 302, L24. Astroph9811278AGN reverberation mapping\n",
      "227\t69.0\t8.0\t-8.0\t1999.07\tR\tShanks, 1999 in Harmonizing Cosmic Distance Scales in a Post-Hipparcos Era, eds D.Egretand A. Heck, ASP Conference Series   TF  Astroph9901335\n",
      "228\t64.0\t4.0\t-4.0\t1999.0\tS\tJha, S. \\etal 1998, BAAS SN1998bu\n",
      "229\t73.0\t8.0\t-8.0\t1999.02\tAK\tFreedman, W., Mould, J., Kennicutt, R., \\& Madore, B. 1999, IAU Symp 183 {\\itCosmologicalParameters and the Evolution of the Universe}, K. Sato ed. p 17.\n",
      "230\t58.0\t11.0\t-11.0\t1999.04\tOC\tLineweaver, C. 1999, IAU Symp 183 {\\it Cosmological Parameters and the Evolution ofthe Universe},K. Sato ed. p 98.\n",
      "231\t61.0\t6.0\t-6.0\t1999.095\tS\tMeikle \\& Hernandez, 1999, JIIAS. astro-ph/9902056 SN1998bu\n",
      "232\t44.0\t7.0\t-7.0\t1999.155\tZ\tKomatsu, E. \\etal 1999, ApJL, in press.  Astroph9902351, SZ on RXJ1347-1145\n",
      "233\t59.0\t5.0\t-5.0\t1999.21\tS\tTammann, G. \\& Reindl 1999, in Assergi Supernova Workshop, Astroph9903220\n",
      "234\t77.0\t29.0\t-24.0\t1999.218\tL\tBernstein, G. \\& Fischer, P. 1999, AJ 118, 14. Astroph9903274, 0957 model+cluster\n",
      "235\t69.0\t13.0\t-19.0\t1999.253\tL\tBiggs, A., Browne, I., Helbig, P., Koopmans, L. Wilkinson, P. \\& Perley, R. 1999, MNRAS 34, 349B0218+357 time delay\n",
      "236\t65.0\t5.0\t-5.0\t1999.258\tA\tTurner, M. in {\\it The Proceedings of Particle Physics and the Universe (Cosmo-98)}, D. O.Caldwell, ed. (AIP, Woodbury, NY)  Astroph9904051.\n",
      "237\t57.0\t23.0\t-16.0\t1999.288\tZC\tGrainge, K., Jones M.,Pooley, G., Saunders, R., Edge, A. \\& Kneissl, R. 2002,MNRAS333,318Astroph 9904165 SZ with Ryle telescope A1413, Assumed SCDM\n",
      "238\t46.0\t14.0\t-11.0\t1999.29\tZ\tSaunders, R. \\etal 1999, MNRAS in press. Astroph9904168 SZ on A773\n",
      "239\t63.0\t7.0\t-7.0\t1999.3\tL\tMyers, S. 1999, PNAS 96, 4236. Summary, 4 lens #'s averaged by JPH.\n",
      "240\t62.0\t5.0\t-5.0\t1999.317\tS\tTripp, R. \\& Branch, D. 1999, ApJ  in press. Astroph9904347\n",
      "241\t56.0\t6.0\t-6.0\t1999.322\tOS\tTammann, G., Sandage, A. \\& Reindl, B. 1999, in 19th Texas Symp., Astroph 9904360DistanceofVirgo\n",
      "242\t52.0\t5.0\t-4.0\t1999.325\tB\tEkholm, T., Teerikorpi, P/, Theureau, G., Hanski, M., Paturel, G.,  Bottinelli, L.\\& Gouguenheim,L. 1999, A\\&A in press. Astroph9904372 B Band TF\n",
      "243\t60.0\t2.0\t-2.0\t1999.328\tSS\tSaha, A., Sandage, A., Tammann, G., Labhardt, L., Macchetto, F. \\& Panagia. N. 1999, ApJinpress.Ast9904389 SN1989B\n",
      "244\t65.0\t2.0\t-2.0\t1999.35\tS\t\"Filippenko, A. \\& Riess, A. 1999, in  \"\"Type Ia Supernovae: Theory & Cosmology\"\" J. Niemeyer\\&J. Truran, eds.   astro-ph/9905049\"\n",
      "245\t72.0\t6.0\t-6.0\t1999.352\tO\tRichtler, T. \\etal 1999, in Science in the VLT Era and Beyond., Astroph9905080.  Fornax distance\n",
      "246\t70.0\t5.0\t-6.0\t1999.382\tAK\t\"Freedman, W. 1999, in \"\"Particle Physics and the Universe, (Singapore: World Scientific) Ast9905222\"\n",
      "247\t79.0\t7.0\t-7.0\t1999.403\tS\tJensen \\etal   SBF Far field e-mail\n",
      "248\t68.0\t10.0\t-10.0\t1999.409\tA\tLineweaver, C. 1999, Science 284, 1503.\n",
      "249\t73.0\t11.0\t-13.0\t1999.41\tZ\tMason and Myers, S. 19.04D  AAS Meeting\n",
      "250\t78.0\t11.0\t-11.0\t1999.419\tDK\tKelson, D. \\etal KP AAS  FP\n",
      "251\t71.0\t8.0\t-8.0\t1999.42\tBK\tSakaim S. \\etal KP AAS   TF\n",
      "252\t69.0\t7.0\t-7.0\t1999.43\tOK\tFerrarese, L. \\etal KP AAS PopII (SBF)\n",
      "253\t68.0\t5.0\t-5.0\t1999.44\tSK\tGibson, B. \\etal KP AAS SNIa\n",
      "254\t68.0\t6.0\t-6.0\t1999.445\tAK\tMould \\etal KP AAS Combination + Fe corr\n",
      "255\t71.0\t6.0\t-6.0\t1999.445\tAK\tMould \\etal KP AAS Comb no Fe corr\n",
      "256\t79.0\t7.0\t-7.0\t1999.446\tS\tTonry \\etal AAS\n",
      "257\t60.0\t12.0\t-12.0\t1999.447\tZ\tReese \\etal 46.03 AAS Meeting  SCDM\n",
      "258\t63.0\t12.0\t-12.0\t1999.447\tZ\tReese \\etal 46.03              Open U\n",
      "259\t67.0\t12.0\t-12.0\t1999.447\tZ\tReese \\etal 46.03              Lambda U\n",
      "260\t69.0\t18.0\t-12.0\t1999.448\tL\tChae, K.-H. 1999, ApJ in press. astroph9906179 0957 lens\n",
      "261\t64.0\t8.0\t-6.0\t1999.458\tS\tJha, S. \\etal ApJS in press. SN1998bu Astroph9906220\n",
      "262\t65.0\t8.0\t-8.0\t1999.464\tA\tRowan-Robinson, M. 1999,  astroph 9906277. Summary\n",
      "263\t63.0\t4.0\t-4.0\t1999.516\tS\tPhillips, M. \\etal 1999, AJ in press. Ast9907052\n",
      "264\t77.0\t7.0\t-7.0\t1999.52\tF\tTonry, J. \\etal 1999, Astroph9907062, ApJ in press.\n",
      "265\t74.0\t7.0\t-7.0\t1999.538\tF\tBlakeslee, J \\etal 1999 in Cosmic Flows workshop.\n",
      "266\t59.0\t8.0\t-7.0\t1999.556\tLC\tFassnacht \\etal, 1999, ApJ 527, 498. Astroph9907257.  B1608+656\n",
      "267\t68.0\t13.0\t-13.0\t1999.557\tLC\tKoopmans, L. \\& Fassnacht, C. 1999, ApJ 527, 513. for M=0.3 L=0.7\n",
      "268\t74.0\t18.0\t-17.0\t1999.56\tL\tChae at Gravitational lensing conf. 0957\n",
      "269\t55.0\t15.0\t-14.0\t1999.56\tL\tChae at Gravitational lensing conf. 0957\n",
      "270\t71.0\t7.0\t-5.0\t1999.561\tL\tLovell, J. \\etal at Gravitational Lensing Conf PKS1830-211\n",
      "271\t69.0\t13.0\t-10.0\t1999.562\tL\tWilkott, T \\& Cas.... at Gravitational Lensing Conf PKS1830-211\n",
      "272\t65.0\t1.0\t-1.0\t1999.575\tS\tWang, Y. 2000,  ApJ 536, 531. Astroph 9907405,\n",
      "273\t68.0\t5.0\t-5.0\t1999.618\tSK\tGibson, B. \\etal 2000, ApJ 529,723. Astroph 9908149, KP SN Result\n",
      "274\t66.0\t6.0\t-6.0\t1999.669\tO\tHendry, M. \\& Rauzy, S. 1999,in Cosmic Flows, Courteau \\etal eds.\n",
      "275\t69.0\t6.0\t-6.0\t1999.672\tFK\tFerrarese, L. \\etal. 2000, ApJ 529,745. Astroph9908192. Pop II indicators\n",
      "276\t71.0\t7.0\t-7.0\t1999.675\tAK\tFreedman, W. 1999, Astroph 9909076, in Schramm Memorial Volumes.\n",
      "277\t72.0\t4.0\t-4.0\t1999.689\tS\tRichtler, T. \\& Drenkhahn, G. 1999, in Cosmology and Astrophysics, Kundt W.,van deBruckC. (Eds.) Astoph9909117. SN and Fornax\n",
      "278\t71.0\t6.0\t-6.0\t1999.692\tAK\tFerrarese, L. \\etal 1999, in Cosmic Flows, Courteau \\etal eds. Astroph 9909134\n",
      "279\t78.0\t10.0\t-10.0\t1999.706\tDK\tKelson, D. \\etal 2000, ApJ 529,768. astroph9909222. KP FP + Dn-sig\n",
      "280\t60.0\t20.0\t-15.0\t1999.708\tL\tWilliams, L. \\& Saha, P. 2000,in {\\it Gravitational Lensing: Recent Progressand Future Goals}, T.Brainerd, J. Hewitt \\& C. Kochanek eds. % Astroph9909248. Pixellated lenses\n",
      "281\t71.0\t8.0\t-8.0\t1999.711\tTK\tSakai, S. \\etal 2000, ApJ 529,698. Astroph9909269 KP TF\n",
      "282\t71.0\t6.0\t-6.0\t1999.715\tAK\tMould, J. \\etal 2000, ApJ 529,786. Astroph9909260 KP summary  with out FE\n",
      "283\t68.0\t6.0\t-6.0\t1999.717\tAK\tMould, J. \\etal 2000, ApJ 529,786. Astroph9909260 KP summary  with FE\n",
      "284\t69.0\t13.0\t-19.0\t1999.733\tL\tBiggs, A. \\etal 1999, in Gravitational Lensing: Recent    Progress and FutureGoals', T.G.Brainerd and C. S. Kochanek (eds.). astro-ph/9909377, B0218+357.\n",
      "285\t74.0\t4.0\t-4.0\t1999.803\tS\tBlakeslee, J. \\etal 1999, ApJL 527, L73. Ast9910340.\n",
      "286\t57.0\t3.0\t-3.0\t1999.808\tO\tEkholm, T. \\etal 1999, A\\&A in press. Ast9910387. SN + Cepheids nearby\n",
      "287\t77.0\t8.0\t-8.0\t1999.846\tR\tTully, R. B. \\& Pierce, M. 2000, ApJ 533, 744. Ast9911052.\n",
      "288\t81.0\t10.0\t-10.0\t1999.847\tH\tRothberg, B., \\etal 1999, ApJ in press.  Ast9911053.\n",
      "289\t69.0\t9.0\t-9.0\t1999.866\tG\tKavelaars, J., Harris, W., Hanes, D., Hesser, J. and Pritchet, C. 2000, ApJ 533, 125. ComaE'sAst9911206\n",
      "290\t61.0\t11.0\t-11.0\t1999.87\tL\tWilliams, L. \\& Saha, P. 2000, AJ 119, 439. % Ast9911231. Pixellated lenses\n",
      "291\t58.0\t5.0\t-5.0\t1999.88\tSS\tTammann, G., Parodi, B \\& Reindl, B. 2000, in IAU Coll. 176, Ast9911284.\n",
      "292\t63.0\t21.0\t-21.0\t1999.92\tZ\tReese, E. \\etal 2000, ApJ 533, 38. Ast9912071.  SZ to MS0451-03 and CL0016+16.  Assume Lambdacosmology\n",
      "293\t55.0\t3.0\t-3.0\t1999.97\tO\tSandage, A. 1999, ApJ 527, 479.\n",
      "294\t70.0\t12.0\t-12.0\t1999.98\tO\tNovosyadlyj, B. \\etal A\\&A submitted. Ast9912511. LSS Theory\n",
      "295\t50.0\t22.0\t-17.0\t2000.01\tZ\tPatel, S., Joy, M., Carlstrom, J., Holder, G., Reese, E., Gomez, P., Hughes,J., Grego, L.\\&Holzapfel, W. 1999, BAAS 195, 64.03.  % AAS Mtg Abell 1995\n",
      "296\t70.0\t15.0\t-32.0\t2000.167\tO\t\"Novosyadlyj, B., Durrer, R., Gottl\\\"\"ober, S., Lukash, V. \\& Apunevych, S 2000, Gravitation\\&Cosmology, Supplement 5, in press. Ast0002522. LSS Theory\"\n",
      "297\t59.0\t6.0\t-6.0\t2000.267\tSS\tB. R. Parodi, A. Saha, A. Sandage, G. A. Tammann, 2000, ApJ in press  astro-ph/000463\n",
      "298\t71.0\t7.0\t-7.0\t2000.286\tA\tFukugita, M. 2000, Ast0005069.  Summary\n",
      "299\t85.0\t5.0\t-5.0\t2000.35\tO\tWillick, J. \\& Batra, P. 2001, ApJ, 548, 564. Ast0005112. IRAS Flow model\n",
      "300\t92.0\t5.0\t-5.0\t2000.354\tO\tWillick, J. \\& Batra, P. 2001, ApJ, 548, 564. Ast0005112. Phenom Flow model\n",
      "301\t40.0\t13.0\t-13.0\t2000.4\tO\tQin, Y.-P. Modern Physics Letters A, 14, 1073. Ast0005578.\n",
      "302\t67.0\t2.0\t-2.0\t2000.436\tA\tGott, J. R. III, Vogeley, M., Podariu, S. \\& Ratra, B. 2001, ApJ 549, 1. Ast06103.\n",
      "303\t70.0\t4.0\t-4.0\t2000.508\tS\tHernandez, M. \\etal 2000, MNRAS in press. ast0007022. SN1998bu\n",
      "304\t71.0\t7.0\t-7.0\t2000.524\tAK\tFreedman, W. Physics Reports, 2000, Vol. 333-334,  13.\n",
      "305\t52.0\t14.0\t-8.0\t2000.53\tL\tBurud, I. \\etal 2000, ApJ 544, 117.   astro-ph/0007136. B1600+434\n",
      "306\t65.0\t8.0\t-8.0\t2000.535\tA\tPrimack, J. 2000, Ast0007187. at 4th International Symposium on Sources and Detection ofDarkMatter in the Universe (DM 2000), Marina del Rey, California, D. Cline,ed. p 3.\n",
      "307\t59.0\t38.0\t-28.0\t2000.586\tZC\tMauskopf, P. et al. 2000, ApJ 538, 505. SZ to A1835 Omega_m=1, Omega_L=0 assumed\n",
      "308\t65.0\t2.0\t-2.0\t2000.591\tS\tFilippenko, A. \\& Riess, A. 2000, in Second Tropical Workshop on Particle Physics and Cosmology: Neutrino and Flavor Physics, ed. J. F. Nieves (New York: American Institute of Physics) Astroph0008057. statistical errors only\n",
      "309\t68.0\t10.0\t-10.0\t2000.63\tO\tTegmark, M., Zaldariagga, M. \\& Hamilton, A. 2000, Astroph0008167. Concordance fitCMB+LSS\n",
      "310\t62.0\t18.0\t-18.0\t2000.678\tLC\tSchechter, P. 2000, in ASP conf series. {\\it New Cosmology and the Values ofthe Fundamental Parameters}, IAU Symp 201,ed. A. Lazenby \\& A. Wilkinson,  Ast0009048 (O_M=03, O_L=0.7)\n",
      "311\t71.0\t22.0\t-19.0\t2000.681\tOC\tDurrer, R. \\& Novosyadlyj, B. 2001, MNRAS 324, 560. Ast0009057, LSS++\n",
      "312\t62.0\t8.0\t-2.0\t2000.794\tCC\tPadmanabhan, T. \\& Sethi, S. 2000, ApJL submitted. Astroph0010309. CMB\n",
      "313\t58.0\t6.0\t-6.0\t2000.814\tSS\tTammann, G., Sandage, A. \\& Saha, A. 2003, in {\\it A Decade of HST Science},eds. M. Livio,K.Noll, & M. Stiavelli, (Cambridge: CUP), p222. Ast0010422. SN Summary\n",
      "314\t71.0\t6.0\t-6.0\t2000.852\tLC\tGiovi, F.\\& Amendola, L. 2001, MNRAS 325, 1097. Ast0011109. Empty Beam\n",
      "315\t64.0\t4.0\t-4.0\t2000.853\tLC\tGiovi, F.\\& Amendola, L. 2001, MNRAS 325, 1097. Ast0011109. Filled Beam\n",
      "316\t69.0\t13.0\t-19.0\t2000.87\tL\tBiggs, A., Browne, I., Muxlow, T. \\& Wilkinson, P. 2001, MNRAS in press. Ast011142.  B0218357\n",
      "317\t76.0\t1.0\t-1.0\t2000.88\tF\tJensen, J., Tonry, J., Thompson, R., Ajhar, E., Lauer, T., Rieke, M., Postman, M.,Liu, M.,2001,ApJ 550, 503. AST0011288. Distant SBF\n",
      "318\t73.0\t2.0\t-2.0\t2000.89\tF\tJensen, J., Tonry, J., Thompson, R., Ajhar, E., Lauer, T., Rieke, M., Postman, M.,Liu, M.,2001,ApJ 550, 503. AST0011288. More Distant SBF\n",
      "319\t70.0\t9.0\t-9.0\t2000.892\tAC\tBond, J. R. et al. 2001, ASP Conf.,  Ast 0011378.\n",
      "320\t73.0\t7.0\t-7.0\t2000.906\tSK\tGibson, B, \\& Stetson, P. 2001, ApJL 547, L103. Ast0011478. NGC4527 SN1991T.\n",
      "321\t73.0\t7.0\t-7.0\t2000.91\tSK\t\"Gibson, B. \\& Brook, C. 2001, in \"\"New Cosmological Data and the Values of theFundamentalParameters,\"\" ASP Conf. ed Lazenby, A. \\& Wilkinson, A.  Ast0011567.\"\n",
      "322\t63.0\t6.0\t-6.0\t2000.926\tA\tRowan Robinson, M. 2001, ast0012026. in 'IDM2000: 3rd International Workshopon IdentificationofDark Matter', ed N.Spooner (World Scientific)\n",
      "323\t70.0\t5.0\t-5.0\t2000.928\tA\tSharpe, J. et al, MNRAS in press. ast 0012027, flow field\n",
      "324\t72.0\t8.0\t-8.0\t2000.95\tAK\tFreedman, W., Madore, B., Gibson, B., Ferrarese, L., Kelson, D., Sakai, S.,Mould,J.,Kennicutt, R., Ford, H. Graham, J., Huchra, J., Hughes, S., Illingworth, G., Macri, L. \\& Stetson, P. ApJ in press. ast0012376\n",
      "325\t71.0\t12.0\t-9.0\t2000.968\tA\tFukugita, M. 2001, hep-ph0012214.\n",
      "326\t79.0\t4.0\t-4.0\t2000.984\tC\tLahav, O. 2001, in AU Symposium 201, New Cosmological Data and the Values ofthe Fundamental Parameters'. ast0012475\n",
      "327\t66.0\t14.0\t-11.0\t2001.029\tZC\tMason, B., Myers, S. \\& Readhead, A. 2001, ApJL 555, L11.  Ast0101169. (Lambda CDM)\n",
      "328\t64.0\t14.0\t-11.0\t2001.029\tZC\tMason, B., Myers, S. \\& Readhead, A. 2001, ApJL 555, L11.  Ast0101169. (Standard CDM)\n",
      "329\t66.0\t14.0\t-11.0\t2001.03\tZC\tMason, B., Myers, S. \\& Readhead, A. 2001, in press in Proc. 9th Marcel Grossman Mtg. (World scientific).  Ast0101170. (Lambda CDM)\n",
      "330\t64.0\t14.0\t-11.0\t2001.03\tZC\tMason, B., Myers, S. \\& Readhead, A. 2001, in press in Proc. 9th Marcel Grossman Mtg. (World scientific).  Ast0101170. (Standard CDM)\n",
      "331\t70.0\t7.0\t-7.0\t2001.098\tA\tTurner, M. 2001, PASP in press. Ast0102057.\n",
      "332\t73.0\t4.0\t-4.0\t2001.128\tH\tWatanabe, M., Yasuda, N. \\& Itoh, N. 2001, ApJ in press.Ast0102260.\n",
      "333\t68.0\t6.0\t-6.0\t2001.143\tA\tKrauss, L. 2001, in Third International Conference on the Identification of Dark Matter,York,England (World Scientific) Ast0102305.\n",
      "334\t63.0\t7.0\t-7.0\t2001.164\tI\tAllen, P. \\& Shanks, T. 2004, MNRAS 347, 1101. ast0102447. (original value in2001was 58+/-7)\n",
      "335\t59.0\t8.0\t-7.0\t2001.179\tZC\tJones, M. et al 2001, MNRAS in press. Ast0103046. SZ+SCDM\n",
      "336\t65.0\t8.0\t-7.0\t2001.181\tZC\tJones, M. et al 2001, MNRAS in press. Ast0103046. SZ+LCDM\n",
      "337\t61.0\t15.0\t-15.0\t2001.379\tCT\tNetterfield, C. \\etal 2001, ApJ sub.  Ast0104460. BOOMERANG CMB constraints.\n",
      "338\t69.0\t4.0\t-4.0\t2001.42\tF\tTonry, J. 2001, ast0105413, in {\\it Astrophysical Ages and Timescales}, ASP Conf. Series,vonHippel, T., Manset, N. \\& Simpson, C. eds.\n",
      "339\t69.0\t6.0\t-5.0\t2001.447\tL\tPatnaik, A. \\& Narasimha, D. 2001, MNRAS in press. Ast0106104. B1422+231\n",
      "340\t65.0\t6.0\t-6.0\t2002.5\tT\tHendry, M., Rauzy, S., Goodwin, S. \\& Gribbin, J.  2001, MNRAS 324, 717. KLUNdiam+line widths.\n",
      "341\t65.0\t6.0\t-6.0\t2001.532\tO\tHendry, M., Rauzy, S., Goodwin, S. \\& Gribbin, J. 2001, MNRAS 324, 717.  Sosies --diameters+rotation curves\n",
      "342\t59.0\t6.0\t-6.0\t2001.551\tSS\tSaha, A., Sandage, A., Tammann, G., Dolphin, A., Christensen, J., Panagia, N.\\& Macchetto,F.D.ApJ in press. Ast0107391\n",
      "343\t71.0\t8.0\t-8.0\t2001.6\tF\tLiu, M. \\& Graham, J. 2001, ApJL in press. Ast0107471 . N4874\n",
      "344\t60.0\t10.0\t-10.0\t2001.64\tH\t\n",
      "345\t67.0\t8.0\t-8.0\t2001.796\tA\t\"Feast, M. 2001, in ``Variable Stars 2001\"\" to appear in Odessa Astronomical Publications 14,Astroph0110360.\"\n",
      "346\t48.0\t4.0\t-4.0\t2001.847\tLC\tGil-Merino, R., Wisotski, L. \\& Wambsganss, J. 2001,A\\&A in press. HE1104-1805 lens, poortimedelay.\n",
      "347\t62.0\t4.0\t-4.0\t2001.847\tLC\tGil-Merino, R., Wisotski, L. \\& Wambsganss, J. 2001,A\\&A in press. HE1104-1805 lens, poortimedelay. M/L=C+shear L=0, O=1\n",
      "348\t73.0\t11.0\t-11.0\t2001.858\tF\tBlakeslee, J., Lucey, J., Tonry, J., Hudson, M., Narayanan, V. \\& Baris, B. 2002, MNRAS 330, 443Ast111183.\n",
      "349\t58.0\t17.0\t-15.0\t2001.925\tLC\tCardone, V., Capozziello, S. \\& Piedipalumbo, E. 2002, A\\&A in press. Ast112025. PG1115,B1422\n",
      "350\t73.0\t11.0\t-11.0\t2001.922\tA\tBlakeslee, J. 2002, in A New Era in Cosmology, ASP conference series, eds. T.Shanks \\& N.Metcalfe  astro-ph/0112358.\n",
      "351\t65.0\t8.0\t-8.0\t2001.943\tLC\tBurud, I. et al 2002, A\\&A 383, 71. HE2149-2745. astro-ph/0112225\n",
      "352\t77.0\t4.0\t-4.0\t2001.954\tLC\tWucknitz, O. 2002, A New Era in Cosmology, ASP conf. ser. B0218+357  astro-ph/0112330\n",
      "353\t72.0\t8.0\t-8.0\t2001.964\tA\tLineweaver, C. 2002, in COSMO-01. astro-ph/0112381\n",
      "354\t57.0\t2.0\t-2.0\t2001.98\tAS\tTammann, G. et al Astroph112489\n",
      "355\t55.0\t12.0\t-12.0\t2002.046\t2\tHamuy, M. \\& Pinto, P. 2002, ApJL 566, L63. Astro-ph/0201279\n",
      "356\t72.0\t7.0\t-7.0\t2002.08\tAK\tFreedman, W. 2002, astroph0202006.\n",
      "357\t91.0\t10.0\t-10.0\t2002.086\tT\tRussell, D. 2002, ApJ 565, 681. JPH errors. TF on ScI galaxy diameters.\n",
      "358\t44.0\t9.0\t-9.0\t2002.089\tLC\tWinn, J., Kochanek, C., Mcleod, B., Falco, E., Impey, C. \\& Rix, H.-W.  2002,ApJ in press.PKS 1830-211, astroph0201551\n",
      "359\t72.0\t6.0\t-2.0\t2002.143\tA\tErdogdu, P.,Ettori, S. \\& Lahav, O. 2003, MNRAS 340, 573. astro-ph/0202357\n",
      "360\t48.0\t7.0\t-4.0\t2002.259\tL\tKochanek, C. 2002, ApJ in press. Flat Rotation Curves. astroph0204043\n",
      "361\t71.0\t6.0\t-6.0\t2002.261\tL\tKochanek, C. 2002, ApJ in press. Constant M/L. astroph0204043\n",
      "362\t62.0\t7.0\t-7.0\t2002.263\tL\tKochanek, C. 2002, ApJ in press. Average. astroph0204043\n",
      "363\t71.0\t8.0\t-8.0\t2002.355\tL\tHjorth, J. et al. 2002, ApJL 572, L11. astro-ph/0205124. RXJ0911.4+0551\n",
      "364\t72.0\t4.0\t-13.0\t2002.366\tA\tPlionis, M. 2002, 1st Aegean Cosmology Summer School, astro-ph/0205166.\n",
      "365\t73.0\t8.0\t-8.0\t2002.389\tLC\tKochanek, C. 2002, ApJ in press. astro-ph 0205319. Constant M/L\n",
      "366\t51.0\t5.0\t-5.0\t2002.391\tLC\tKochanek, C. 2002, ApJ in press. astro-ph 0205319. DM Halo M/L\n",
      "367\t60.0\t13.0\t-18.0\t2002.395\tZC\tReese, E. et al. 2002, ApJ in press, astro-ph0205350. O_M=0.3 O_L=0.7\n",
      "368\t78.0\t7.0\t-7.0\t2002.453\tP\tCiardullo, R. et al. 2002, ApJ 577. 31. astro-ph 0206177\n",
      "369\t56.0\t6.0\t-4.0\t2002.597\tLC\t\"Courbin, F., Saha, P. \\& Schechter, P. 2002, in \"\"Dark Matter \\& GravitationalLensing,\"\" eds. Courbin, Minniti) (Berlin: Springer-Verlag). astro-ph0208043. Assumes E-dS cosmo\"\n",
      "370\t57.0\t2.0\t-2.0\t2002.594\tSS\t\"Tammann, G. \\& Reindl, B. 2002, the proceedings of the XXXVIIth Moriond Astrophysics Meeting \"\"TheCosmological Model\"\", Les Arcs, France, March 16-23, 2002, astroph0208176.\"\n",
      "371\t63.0\t17.0\t-17.0\t2002.645\tLC\tFassnacht, C., Xanthopoulos, E., Koopmans, L. \\& Rusin, D. 2002, ApJ in press,astroph0208420B1608+656.\n",
      "372\t51.0\t9.0\t-9.0\t2002.663\tLC\tBurud, I. et al. 2002, A\\&A 391, 481. SBS1520+530\n",
      "373\t66.0\t6.0\t-6.0\t2002.655\tO\tTerry, J., Paturel, G. \\& Ekholm, T. 2002, A\\&A 393, 57. Sosies.\n",
      "374\t59.0\t12.0\t-7.0\t2002.918\tLC\tTreu, T. \\& Koopmans, L., 2002, MNRAS 337, L6. (PG1115+080)\n",
      "375\t71.0\t6.0\t-6.0\t2002.949\tF\tMei, S., Scodeggio, M., SDilva, D. \\& Quinn, P. 2003, A\\&A in press. Astroph0212262. SBFtoN564 \\& N7619.\n",
      "376\t72.0\t15.0\t-13.0\t2002.973\tCC\tSlosar, A. \\et al 2003, MNRAS in press. Astroph0212497. VSA-CMB\n",
      "377\t81.0\t10.0\t-10.0\t2003.04\t2\tHamuy, M. 2003, in Carnegie Observatories Astrophysics Series, Vol. 2: Measuring and ModelingtheUniverse, ed. W. L. Freedman (Cambridge: Cambridge Univ. Press) Astroph0301281. SNII.\n",
      "378\t67.0\t4.0\t-4.0\t2003.055\tS\tHoeflich, P., Gerardy, C., Linder, E. \\& Marion, H. 2003, in {\\it Stellar Candles},eds.Gieren etal. Lecture Notes in Physics. astro-ph/0301334\n",
      "379\t71.0\t4.0\t-3.0\t2003.122\tOC\tSpergel, D. et al. ApJ in press. WMAP   astro-ph/0302209\n",
      "380\t70.0\t3.0\t-3.0\t2003.155\tOC\tContaldi, C., Hoekstra, H. \\& Lewis, A. 2003, PRL submitted. Astroph0302435\n",
      "381\t56.0\t4.0\t-4.0\t2003.177\tO\t\n",
      "382\t57.0\t2.0\t-2.0\t2003.215\tAS\tTammann, G., Sandage, A. \\& Reindel, B. 2003, A\\&A in press. Astroph0303378.\n",
      "383\t70.0\t10.0\t-10.0\t2003.218\tS\tPerlmutter, S. \\& Schmidt, B. 2003,  astroph 0303428.\n",
      "384\t77.0\t20.0\t-20.0\t2003.239\tZ\tBattistelli, E. et al 2003, ApJL 598, L75. astro-ph/0303587. SZ on Coma.\n",
      "385\t66.0\t5.0\t-5.0\t2003.25\tA\tMelchiorri, A., Bode,P., Bahcall,N. \\& Silk,J. 2003, ApJL 586, L12. ArXiv0212276\n",
      "386\t72.0\t8.0\t-8.0\t2003.3\tAK\tFreedman, W. Kennicutt, R., Mould, J. \\& Madore, B. 2003, in {\\it A Decade ofHubble SpaceTelescope Science}, M. Livio, K. Noll \\& M. Stiavelli, eds. (Cambridge: Cambridge), p 214.\n",
      "387\t57.0\t15.0\t-15.0\t2003.376\t2\tLeonard, D., Kanbur, S., Ngeow, C. \\& Tanvir, N. 2003, ApJ in press. (EPM) Astroph0305259.SN1999em, NGC1637.\n",
      "388\t59.0\t11.0\t-11.0\t2003.376\t2\tLeonard, D., Kanbur, S., Ngeow, C. \\& Tanvir, N. 2003, ApJ in press. (SCM) Astroph0305259.SN1999em, NGC1637.\n",
      "389\t77.0\t19.0\t-15.0\t2003.39\tZC\tSaunders et al 2003, MNRAS 341,937. SZ in A773 SCDM\n",
      "390\t85.0\t20.0\t-17.0\t2003.39\tZC\tSaunders et al 2003, MNRAS 341,937. SZ in A773 LCDM\n",
      "391\t48.0\t3.0\t-3.0\t2003.422\tLC\tKochanek, C. \\& Schechter, P. 2003, in Carnegie Symp. \\#2, astroph0306040,  lensesisothermal,flat rotation curves.\n",
      "392\t71.0\t3.0\t-3.0\t2003.422\tLC\tKochanek, C. \\& Schechter, P. 2003, in Carnegie Symp. \\#2, astroph0306040,  lensesconstantM/L.\n",
      "393\t61.0\t18.0\t-18.0\t2003.431\tZC\tReese, E. 2003, Carnegie Symposium V2. astroph0306073\n",
      "394\t75.0\t7.0\t-6.0\t2003.45\tLC\tKoopmans, L., Treu, Y., Fassnacht, C, Blandford, R. \\& Surpi, G. 2003, ApJ inpress. astroph036216. B1608+656\n",
      "395\t72.0\t7.0\t-7.0\t2003.648\tAK\tFreedman, W. \\& Turner, M. 2003, Rev. Mod. Phys. 75, 1433. Astroph0308418.\n",
      "396\t58.0\t4.0\t-3.0\t2003.728\tZC\tSereno, M. 2003, A\\&A 412, 341. astroph0309591\n",
      "397\t72.0\t8.0\t-8.0\t2003.74\tS\tFilippenko, A. 2004, in {\\it The Early Universe and Observational Cosmology,}ed. N. Breton, J. L.Cervantes-Cota \\& M. Salgado (New York: Springer-Verlag), Lect.Notes Phys. 646, 191. Astroph0309739.\n",
      "398\t70.0\t4.0\t-3.0\t2003.825\tCC\tTegmark, M. et al. 2004, ApJ in press. astroph0310723. SDSS+WMAP\n",
      "399\t68.0\t2.0\t-2.0\t2003.9\tOC\tAllen, S., Schmidt, R. \\& Bridle, S. 2003, MNRAS 346, 593.\n",
      "400\t78.0\t6.0\t-6.0\t2003.94\tLC\tWucknitz, O., Biggs, A. \\& Browne, I. 2004, MNRAS 349, 14. astroph0312263.  B0218+357\n",
      "401\t71.0\t3.0\t-3.0\t2004.04\tS\tAltavilla, G. et al. 2004, MNRAS in press. astroph0401273. SN I.\n",
      "402\t31.0\t19.0\t-17.0\t2004.109\tZC\tGrego, L. et al. 2004, ApJ 608, 731. astroph0402139. SZ on MS1137.5+6625\n",
      "403\t73.0\t9.0\t-5.0\t2004.141\tCC\tRebolo, R. et al, 2004, astro-ph/0402466.  CMB fit\n",
      "404\t69.0\t8.0\t-8.0\t2004.15\tCK\tSakai, S., Ferrarese, L., Kennicutt, R. \\& Saha, A. 2004, ApJ 608, 42. astroph0402499 CephFe/H recal\n",
      "405\t70.0\t5.0\t-5.0\t2004.347\tLC\tYork, T. et al. 2005, MNRAS 357, 124. astro-ph/0405115. CLASS B0218+357\n",
      "406\t57.0\t15.0\t-14.0\t2004.35\tOC\tOdman, C., Hobson,M., Lasenby, A. \\& Melchiorri, A. 2004, IJMP-D 13, 1661. astro-ph/0405118. LSS+SN\n",
      "407\t69.0\t8.0\t-8.0\t2004.387\tZC\tSchmidt, R., Allen, S. \\& Fabian, A. 2004, MNRAS 352, 1413. SZ astro-ph/0405374\n",
      "408\t67.0\t5.0\t-5.0\t2004.409\tZC\tFosalba, P. \\& Szapudi, I. 2004, ApJL in press. WMAP reanalysed. astroph0405589\n",
      "409\t75.0\t8.0\t-8.0\t2004.42\tLC\tKoopmans, L. \\& Blandford, R. 2004, Physics Today June issue. B1608+656/\n",
      "410\t73.0\t3.0\t-3.0\t2004.5\tOC\tLahav, O. \\& Liddle, A. 2004, in Review of Particle Physics. S. Eidelman et al. (ParticleDataGroup), Physics Letters B592, 1. astro-ph/0406681\n",
      "411\t56.0\t23.0\t-23.0\t2004.518\tLC\tTortora, C., Piedipalumbo, E. \\& Cardone, V. 2004, MNRAS in press. astro-ph/0407134.\n",
      "412\t49.0\t6.0\t-11.0\t2004.52\tLC\tTortora, C., Piedipalumbo, E. \\& Cardone, V. 2004, MNRAS in press. astro-ph/0407134.\n",
      "413\t72.0\t7.0\t-7.0\t2004.55\tAK\tFreedman, W. \\& Turner, M. 2004, in {\\it Measuring and Modeling the Universe}, pg.79. TheCarnegie Observatories Centennial  Symposia (Cambridge: Cambridge).\n",
      "414\t67.0\t15.0\t-6.0\t2004.584\tZC\tUdomprasert, P., Mason, B., Readhead, A. \\& Pearson, T. 2004, ApJ in press. Astroph408005\n",
      "415\t78.0\t6.0\t-6.0\t2004.68\tLC\tSchechter, P. 2004, in {\\it IAU Symposium No. 225: The Impact of Gravitational Lensing onCosmology,} Y. Mellier and G. Meylan, eds. astro-ph/0408338.\n",
      "416\t64.0\t9.0\t-7.0\t2004.7\tLC\tJakobsson, P., Hjorth, J., Burud, I., Letawe, G., Lidman, C. \\& Courbin, F. 2004, A\\&A inpress. FBQ0951+2635 lens. Astroph04094444\n",
      "417\t70.0\t7.0\t-7.0\t2004.91\tCC\tChu, M. et al. ApJ in press. Asroph0411737. CMB fits.\n",
      "418\t76.0\t6.0\t-6.0\t2004.92\tLC\tBrynjolfsson, A. astroph0411666. Lensing in Plasma Cosmo\n",
      "419\t73.0\t5.0\t-5.0\t2005.58\tS\tRiess, A., Li, W., Stetson, P., Filippenko, A.V., Jha, S., Kirshner, R., Challis, P., Garnavich, P. \\& Chornock, R. 2005, ApJ 627, 579. (N3370 + N3982)\n",
      "420\t74.0\t2.0\t-2.0\t2005.6\tOC\tSanchez, A. et al. 2005, MNRAS 366, 189. Astroph0507583 2dF\n",
      "421\t60.0\t7.0\t-7.0\t2005.9\tA\tPaturel, P \\& Teerikorpi, P. A\\&A 443, 883.\n",
      "422\t77.0\t10.0\t-8.0\t2005.95\tZC\tBonamente, M. et al. ApJ in press. Astroph0512349 38 Cluster SZ\n",
      "423\t63.0\t5.0\t-5.0\t2005.97\tSS\tTammann, G. 2006, Rev. Mod. Astron. 19, 1. Astroph0512584.\n",
      "424\t73.0\t3.0\t-3.0\t2006.218\tCC\tSpergel, D. et al. 2006, ApJ in press. Astroph0603449. WMAP 3rd year\n",
      "425\t72.0\t6.0\t-6.0\t2006.2\tSC\tWang, X., Wang, L., Pain, R., Zhou, X. \\& Li, Z. 2006, ApJ in press. astroph0603392109 SN\n",
      "426\t62.0\t5.0\t-5.0\t2006.228\tSS\tSandage, A., Tammann, G.A., Saha, A., Reindl, B., Macchetto, F. \\& Panagia, N. 2006, ApJ653,843HST Ia Summary. Astroph0603647.\n",
      "427\t74.0\t5.0\t-5.0\t2006.25\tS\tNgeow, C. \\& Kanbur, 2006, ApJL 642, L29. Astrop0603643.\n",
      "428\t71.0\t2.0\t-2.0\t2006.267\tOC\tHuetsi, G. 2006, Astroph0604129. SDSS PS\n",
      "429\t70.0\t2.0\t-2.0\t2006.39\tSC\tCarneiro, S., Pigozzo, C., Borges, H. \\& Alcaniz, J. astroph0605607.\n",
      "430\t74.0\t4.0\t-4.0\t2006.45\tSC\tPeirani, S \\& de Freitas Pacheco, J. 2006, in Ann Mtg French Society A\\&A, A.Barrett \\etaleds. p293\n",
      "431\t72.0\t6.0\t-6.0\t2006.5\tS\tWang, X. \\etal 2006, ApJ 645, 488. Ia's and dust\n",
      "432\t76.0\t10.0\t-8.0\t2006.6\tZ\tBonamente, M. \\etal  2006, ApJ 647, 25.  X-Ray+SZ\n",
      "433\t56.0\t9.0\t-7.0\t2006.664\tTS\tSandage, A \\& Tammann, G. 2006, ApJ Submitted. Astroph0608677.  Virgo TF\n",
      "434\t68.0\t8.0\t-8.0\t2006.739\tLC\tOguri, M. 2007, ApJ 660. 1.  Astroph0609694.\n",
      "435\t74.0\t6.0\t-6.0\t2006.75\tT\tMasters, K., Springob, C., Haynes, M. \\& Giovanelli, R. 2006, ApJ 653, in press. astro-ph/0609249SFI TF calibration.\n",
      "436\t63.0\t5.0\t-5.0\t2006.8\tFS\tDunn, L. \\& Jergen, H. 2006, AJ 132, 1384.  Fornax SBF\n",
      "437\t77.0\t5.0\t-5.0\t2006.853\tP\tFeldmeier, J., Jacoby, G. \\& Phillips, M. 2007, ApJ 657, 76.  Astroph0611231.\n",
      "438\t74.0\t4.0\t-4.0\t2006.917\tZC\tCunha, J., Marassi, L. \\& Lima, J.  2007, MNRAS in press. Astroph0611934.\n",
      "439\t74.0\t6.0\t-6.0\t2006.93\tAK\tMacri, L. \\etal 2006, ApJ 652, 1133.  NGC4258\n",
      "440\t49.0\t6.0\t-11.0\t2007.13\tLC\tTortora, C. 2007, astroph0702501. Lensing estimates\n",
      "441\t52.0\t4.0\t-3.0\t2007.72\tLC\tVuissoz, C. \\etal 2007, A\\&A 464, 845. J1650+4251   model dependent\n",
      "442\t76.0\t8.0\t-8.0\t2007.364\tA\tvan Leeuwen, F., Feast, M., Whitelock, P. & Laney, C. 2007, MNRAS in press. Astroph7051592\n",
      "443\t73.0\t8.0\t-8.0\t2007.591\tS\tWang, X. et al. 2008, ApJ 675, 626.  astroph07080140. M100 SN200\n",
      "444\t71.0\t4.0\t-4.0\t2007.708\tOC\tLima, J., Jesus, J. \\& Cuhna, J. 2007 astroph0709.2195.\n",
      "445\t77.0\t7.0\t-7.0\t2007.903\tO\tAn, D., Terndrup, D. \\& Pinnsoneault, M. 2007, ApJ 671, 1640. Astroph0707.3144. NewCepheidzeropoint.\n",
      "446\t61.0\t9.0\t-8.0\t2007.949\tT\tSandage, A. 2008, PASP in press. Astroph 0712.2066\n",
      "447\t70.0\t1.0\t-1.0\t2008.175\tCC\tHinshaw, G. et al. 2008, WMAP 5 Year results. Astroph 0803.0732\n",
      "448\t71.0\t1.0\t-2.0\t2008.177\tCC\tKomatsu, E. et al. 2009, WMAP 5 Year resilts  arXiv0803.0547\n",
      "449\t52.0\t4.0\t-4.0\t2008.833\t2\tJones, M. 2008, MSc Thesis, Universidad de Chile. arXiv0810.5538  12 SN II\n",
      "450\t62.0\t8.0\t-4.0\t2009.18\tLC\tParaficz, D., Hjorth, J. \\& Eliasdottir, A. 2009, arXiv0903.1027 5 SDSS Lenses\n",
      "451\t74.0\t4.0\t-4.0\t2009.45\tS\tRiess, A. et al.  2009, arXiv:0905.0695\n",
      "452\t64.0\t5.0\t-5.0\t2009.355\tS\tZhang, Q-J. \\& Wu, Y-L. 2009, SN+BAO+SGL arXiv0905.1234\n",
      "453\t76.0\t25.0\t-24.0\t2009.36\t2\tJones, M. et al. 2009. ApJ 696, 1176. SN II\n",
      "454\t72.0\t1.0\t-1.0\t2009.551\tM\tDinculescu, A. 2009, Astrophysics \\& Space Science, in press. arXiv:0907.3281\n",
      "455\t63.0\t2.0\t-2.0\t2010.277\tAS\tSandage, A., Reindl, B. \\& Tammann, G. 2010, ApJ 714, 1441.\n",
      "456\t73.0\t4.0\t-4.0\t2010.281\tAK\tFreedman, W. \\& Madore, B. 2010, Ann. Rev 48, xx. ArXiv:1004.1856.\n",
      "457\t62.0\t6.0\t-4.0\t2010.689\tLC\tCourbin, F. et al. 2010, A\\&A in press. ArXiv:1009.1473.  HE0435-1223\n",
      "458\t625.0\t50.0\t-50.0\t1927.0\tO\tLemaitre, G. 1927, Ann. of the Scientifc Society of Bruselles 47A, 49\n",
      "459\t460.0\t40.0\t-50.0\t1928.0\tO\tRobertson, H. 1928, Phil. Mag. 5, 835. (error bars estimated jph)\n",
      "460\t500.0\t50.0\t-50.0\t1929.046\tA\tHubble 1929, PNAS 15, 168  (10\\% error)\n",
      "461\t558.0\t50.0\t-50.0\t1931.18\tA\tHubble and Humason 1931, ApJ 74, 43 (<10\\% error)\n",
      "462\t290.0\t290.0\t-145.0\t1931.914\tO\tOort 1931, BAN 6, 155.\n",
      "463\t865.0\t100.0\t-100.0\t1935.1\tO\tEddington, 1935, MNRAS 95, 636 (Large Number Hypothesis)\n",
      "464\t524.0\t50.0\t-50.0\t1936.0\tO\tHubble 1936, Realm of the Nebulae (Dover)\n",
      "465\t260.0\t170.0\t-100.0\t1951.08\tO\tBehr 1951, Astr. Nachr. 279, 97\n",
      "466\t280.0\t28.0\t-28.0\t1952.694\tO\tBaade, 1954, Trans IAU 8, 397\n",
      "467\t180.0\t36.0\t-36.0\t1956.3\tAS\tHumason, Mayall \\& Sandage 1956, AJ 61, 97 (error prob > 20%)\n",
      "468\t75.0\t25.0\t-25.0\t1958.35\tAS\tSandage 1958, ApJ 127, 513\n",
      "469\t136.0\t14.0\t-14.0\t1958.0\tA\tHolmberg 1958, Lund. Medd Ser. II 136\n",
      "470\t120.0\t25.0\t-20.0\t1960.27\tAV\tvandenBergh 1960, JRASC 54, 49\n",
      "471\t100.0\t20.0\t-17.0\t1960.0\tAV\tvandenBergh 1960, Zf.Ap. 49, 198\n",
      "472\t125.0\t5.0\t-5.0\t1960.79\tO\tSersic 1960, Zf.f. Ap. 50, 168\n",
      "473\t130.0\t30.0\t-30.0\t1961.0\tO\tMcVittie, G. 1961, in {\\it Fact \\& Theory in Cosmology}, (New York: Macmillan).\n",
      "474\t98.0\t15.0\t-15.0\t1962.5\tAS\tSandage 1961, IAU Symp 15, 359 (Problems of Extragalactic Research, G. C. McVittie,ed (NewYork:MacMillan))\n",
      "475\t79.0\t12.0\t-12.0\t1968.164\tG\tRacine 1968, JRASC 62, 327 % M87 GC's\n",
      "476\t75.0\t19.0\t-15.0\t1968.43\tAS\tSandage 1968, ApJL 152, L149 % M87 GC's\n",
      "477\t95.0\t15.0\t-12.0\t1970.104\tAV\tvandenBergh 1970, Nature 225, 503\n",
      "478\t40.0\t25.0\t-13.0\t1973.0\tS\tBranch, D. \\& Patchett, B. 1973, MNRAS 161, 71. % SN\n",
      "479\t95.0\t36.0\t-36.0\t1972.72\tNV\tvandenBergh 1972, A\\&A 20, 469. Novae\n",
      "480\t60.0\t15.0\t-15.0\t1974.71\t2\tKirshner, R \\& Kwan, J. 1974, ApJ 193, 27. EPM on N1068 and M101\n",
      "481\t55.0\t9.0\t-9.0\t1974.912\tOS\tSandage \\& Tammann, 1974c, ApJ 194, 223  III. M101 Group\n",
      "482\t57.0\t6.0\t-6.0\t1974.957\tOS\tSandage \\& Tammann, 1974d, ApJ 194, 559   IV. Luminosity Classes\n",
      "483\t57.0\t3.0\t-3.0\t1975.169\tOS\tSandage \\& Tammann, 1975a, ApJ 196, 313    V. Nearby Gals\n",
      "484\t59.0\t4.0\t-4.0\t1975.291\tOS\tSandage \\& Tammann, 1975b, ApJ 197, 265   VI. Remote ScI's\n",
      "485\t95.0\t15.0\t-12.0\t1975.5\tAV\tvandenBergh, 1975, in Galaxies and the Universe (Vol IX) (Chicago: Chicago) p509\n",
      "486\t55.0\t5.0\t-5.0\t1975.52\tAS\tSandage, 1975, in Galaxies and the Universe (Vol IX) (Chicago: Chicago) p761.\n",
      "487\t41.0\t3.0\t-3.0\t1976.67\tO\tTeerikorpi, P. 1976, A\\&A 50, 455.  Sc's\n",
      "488\t76.0\t8.0\t-8.0\t1976.708\tO\tBottinelli \\& Gougenheim 1976, A\\&Ap 51, 275\n",
      "489\t50.0\t4.0\t-4.0\t1976.875\tBS\tSandage \\& Tammann, 1976, ApJ 210, 7     VII. BTF\n",
      "490\t80.0\t8.0\t-8.0\t1977.175\tB\tTully \\& Fisher 1977, A\\&A 54, 661\n",
      "491\t54.0\t58.0\t-28.0\t1977.25\tO\tNoonan, T. 1977, A\\&A 55, 285. spiral rotation curves\n",
      "492\t49.0\t2.0\t-2.0\t1977.624\tOS\tVisvanathan and Sandage 1977, ApJ 216, 214\n",
      "493\t49.0\t9.0\t-9.0\t1977.42\tS\tBranch, D. 1977, MNRAS 179, 401\n",
      "494\t52.0\t2.0\t-2.0\t1977.5\tAS\tTammann 1977, CNRS Coll. 263, 43\n",
      "495\t83.0\t19.0\t-19.0\t1977.52\tB\tHeidmann 1977, CNRS Coll. 263, 487\n",
      "496\t76.0\t8.0\t-8.0\t1977.54\tB\tBottinelli \\& Gouguenheim 1977, CNRS Coll. 263, 481\n",
      "497\t90.0\t10.0\t-10.0\t1977.56\tAV\tdeVaucouleurs, G., Peters \\& Corwin 1977, CNRS Coll. 263, 150\n",
      "498\t110.0\t10.0\t-10.0\t1977.875\tO\tLynden-Bell, D. 1977, Nature 270, 396 QSO jets\n",
      "499\t51.0\t2.0\t-2.0\t1979.128\tO\tVisvanathan, N. 1979, ApJ 228, 81\n",
      "500\t58.0\t17.0\t-5.0\t1979.207\tOK\tKennicutt, R. 1979a, ApJ 228, 696  (HII Regions, Isophotal diameters)\n",
      "501\t60.0\t15.0\t-10.0\t1979.209\tOK\tKennicutt, R. 1979b, ApJ 228, 704  (HII regions)\n",
      "502\t56.0\t15.0\t-15.0\t1979.24\tS\tBranch, D. 1979, MNRAS 186, 609.\n",
      "503\t61.0\t4.0\t-4.0\t1979.253\tHK\tAaronson, Mould \\& Huchra 1979, ApJ 229, 1  IRTF Virgo+Uma\n",
      "504\t59.0\t8.0\t-8.0\t1979.42\tO\tVisvanathan, N. \\& Griersmith, D. 1979, ApJ 230, 1. Virgo and luminosity classes\n",
      "505\t80.0\t11.0\t-11.0\t1979.67\tG\tHanes, D 1979, MNRAS 188, 901\n",
      "506\t100.0\t10.0\t-10.0\t1979.739\tAV\tdeVaucouleurs,1979 in Problems of the Cosmos (Rome Symposium)\n",
      "507\t100.0\t10.0\t-10.0\t1979.79\tAV\tdeVaucouleurs \\& Bollinger 1979a, ApJ 233, 433\n",
      "508\t75.0\t15.0\t-15.0\t1980.125\tO\tStenning \\& Hartwick, 1980, AJ 85, 101  (Sb Luminosity classes)\n",
      "509\t65.0\t4.0\t-4.0\t1980.419\tHK\tMould, Aaronson \\& Huchra 1980, ApJ 238, 458  (Virgo IRTF)\n",
      "510\t95.0\t4.0\t-4.0\t1980.503\tHK\tAaronson \\etal 1980, ApJ 239, 12   Clusters\n",
      "511\t50.0\t8.0\t-8.0\t1980.75\tAS\tTammann, G., Sandage, A. \\& Yahil, A. 1980, in {\\it Physical Cosmology}, 1979Les HouchesSummerSchool\n",
      "512\t55.0\t6.0\t-6.0\t1981.503\tOK\tKennicutt, 1981, ApJ 247, 9 (HII Regions and Virgo)\n",
      "513\t50.0\t7.0\t-7.0\t1982.0\tAS\t\"Sandage, A. \\& Tammann,G. 1982, in {\\it Astrophysical Cosmology}, Br\\\"\"uck, Coyne \\&Longairm eds,Pontifical Academy of Sciences \\#48, p23.\"\n",
      "514\t95.0\t10.0\t-10.0\t1982.731\tAV\tdeVaucouleurs 1982, Nature 299, 303\n",
      "515\t63.0\t10.0\t-10.0\t1982.458\tHK\tTully, Mould \\& Aaronson 1982, ApJ 257, 527 (Color Mag to Virgo)\n",
      "516\t50.0\t7.0\t-7.0\t1982.374\tAS\tSandage \\& Tammann, 1982, ApJ 256, 339     VIII. Global Value\n",
      "517\t71.0\t2.0\t-2.0\t1982.5\tR\tVisvanathan, N. 1982, Proc.ASA 4, 419. VR+I TF\n",
      "518\t100.0\t10.0\t-10.0\t1983.05\tAV\tdeVaucouleurs 1983, MNRAS 202, 367\n",
      "519\t82.0\t10.0\t-10.0\t1983.083\tHK\tAaronson \\& Mould 1983, ApJ 265, 1 (groups)\n",
      "520\t93.0\t10.0\t-10.0\t1983.169\tO\tButa, R. \\& deVaucouleurs 1983, ApJ 266, 1. Inner Rings\n",
      "521\t74.0\t11.0\t-11.0\t1983.957\tR\tVisvanathan 1983, ApJ ,275, 430. ITF\n",
      "522\t55.0\t9.0\t-9.0\t1984.07\tH\tSandage \\& Tammann 1984, Nature 307, 326. IRTF\n",
      "523\t91.0\t3.0\t-3.0\t1984.207\tHK\tBothun, G. \\etal 1984, ApJ 278, 475 (ScI's)\n",
      "524\t85.0\t5.0\t-5.0\t1984.54\tO\tPaturel, G. 1984, ApJ 282, 382. Sosies Long\n",
      "525\t102.0\t8.0\t-8.0\t1984.56\tO\tPaturel, G. 1984, ApJ 282, 382. Sosies Short\n",
      "526\t101.0\t10.0\t-10.0\t1984.919\tA\tdeVaucouleurs \\& Peters, 1984, ApJ 287, 1\n",
      "527\t97.0\t20.0\t-20.0\t1985.086\tS\tdeVaucouleurs, G. 1985, ApJ 289, 5. Tycho's SN\n",
      "528\t99.0\t7.0\t-7.0\t1985.75\tSV\tdeVaucouleurs, G. \\& Corwin, H. 1985, ApJ 297, 23\n",
      "529\t50.0\t7.0\t-7.0\t1985.5\tAS\tSandage \\& Tammann 1985, in SN as Distance Indicators, Bartel, ed (Berlin: Springer) p1.\n",
      "530\t70.0\t30.0\t-30.0\t1985.52\tS\tBartel, N. 1985, in SN as Distance Indicators, Bartel, ed (Berlin: Springer)p107.\n",
      "531\t55.0\t15.0\t-15.0\t1985.54\tS\tBranch, D. 1985, in SN as Distance Indicators, Bartel, ed (Berlin: Springer)p138.\n",
      "532\t43.0\t10.0\t-10.0\t1985.56\tSS\tCadonau, S \\& T 1985,  in SN as Distance Indicators, Bartel, ed (Berlin: Springer)p151.\n",
      "533\t120.0\t20.0\t-20.0\t1985.5\tO\tGiraud, E. 1885, A\\&A 153, 125\n",
      "534\t52.0\t2.0\t-2.0\t1985.54\tAS\tTammann, G. \\& Sandage, A. 1985, ApJ 294, 81. Virgo\n",
      "535\t60.0\t10.0\t-10.0\t1985.58\tS\tKirshner, R. 1985, in SN as Distance Indicators, Bartel, ed (Berlin: Springer) p171.\n",
      "536\t55.0\t15.0\t-15.0\t1985.6\tS\tWheeler, J. C. 1985, in SN as Distance Indicators, Bartel, ed (Berlin: Springer) p20\n",
      "537\t67.0\t4.0\t-4.0\t1985.64\tH\tVisvanathan, N. 1985, PASAu 6, 140. Virgo\n",
      "538\t50.0\t7.0\t-7.0\t1986.0\tAS\tSandage \\& Tammann 1986, in Innerspace/Outerspace,  Kolb \\etal eds, (Chicago:Chicago) p41\n",
      "539\t85.0\t25.0\t-20.0\t1986.02\tHK\tHuchra, J. 1986, in Innerspace/Outerspace, Kolb \\etal eds., (Chicago: Chicago) p65.\n",
      "540\t92.0\t1.0\t-1.0\t1986.207\tHK\tAaronson \\etal 1986, ApJ 302, 536\n",
      "541\t90.0\t20.0\t-20.0\t1986.253\tAK\tAaronson \\& Mould 1986, ApJ 303, 1\n",
      "542\t109.0\t4.0\t-4.0\t1986.355\tO\tdeVaucouleurs, G. and Peters, W. 1986, ApJ 303, 19. Sosies\n",
      "543\t43.0\t10.0\t-10.0\t1986.5\tAS\tSandage, 1986, in Luminous Stars ... p 40.\n",
      "544\t50.0\t7.0\t-7.0\t1985.502\tO\tTammann, G. \\& Sandage, A. 1985, ApJ 294, 81. Infall, CMB and H\n",
      "545\t99.0\t10.0\t-10.0\t1986.6\tAV\tdeVaucouleurs 1986, in Galaxy Distances and Deviations, Madore and Tully eds(Dordrecht:Reidel) p1\n",
      "546\t60.0\t10.0\t-10.0\t1986.62\tS\tWheeler \\& Harkness 1986, in Galaxy Distances and Deviations, Madore and Tully eds(Dordrecht:Reidel) p45.\n",
      "547\t85.0\t15.0\t-15.0\t1986.64\tHK\tAaronson 1986, in Galaxy Distances and Deviations, Madore and Tully eds (Dordrecht:Reidel)p55\n",
      "548\t55.0\t5.0\t-5.0\t1986.66\tB\tHuchtmeier 1986, in Galaxy Distances and Deviations, Madore and Tully eds (Dordrecht: Reidel)p63.\n",
      "549\t60.0\t6.0\t-6.0\t1986.68\tBS\tKraan-Korteweg \\etal 1986, in Galaxy Distances and Deviations, Madore and Tully eds(Dordrecht: Reidel) p65.\n",
      "550\t72.0\t3.0\t-3.0\t1986.7\tB\tBottinelli \\etal 1986, in Galaxy Distances and Deviations, Madore and Tully eds (Dordrecht:Reidel) p73.\n",
      "551\t70.0\t5.0\t-5.0\t1986.72\tA\tVisvanathan 1986, in Galaxy Distances and Deviations, Madore and Tully eds (Dordrecht: Reidel)p99.\n",
      "552\t105.0\t11.0\t-11.0\t1986.79\tA\tButa, R. \\& Corwin, H. 1986, ApJS 62, 283.  Hercules distance\n",
      "553\t55.0\t7.0\t-7.0\t1987.2\tAS\tTammann 1987, in Observational Cosmology, IAU Symp 124, Hewitt \\etal eds (Dordrrecht: Kluwer)p151.\n",
      "554\t90.0\t10.0\t-10.0\t1987.22\tHK\tAaronson 1987, in Observational Cosmology, IAU Symp 124, Hewitt \\etal eds (Dordrrecht: Kluwer)p187\n",
      "555\t67.0\t10.0\t-10.0\t1987.417\tD\tDressler  Dn-sig 1987, ApJ 317, 1\n",
      "556\t92.0\t30.0\t-30.0\t1987.5\tHK\tHuchra 1987, Texas Symposium on Relativistic Astrophysics\n",
      "557\t50.0\t10.0\t-10.0\t1987.52\tAS\t\"Tammann 1987,  \"\"     \"\"              \"\"\"\n",
      "558\t69.0\t14.0\t-14.0\t1987.54\tN\tPritchet \\& vandenBergh 1987, ApJ 318, 507, (Virgo Novae)\n",
      "559\t60.0\t15.0\t-15.0\t1987.669\tS\tBranch 1987, ApJL 320, 23 (1987A)\n",
      "560\t48.0\t12.0\t-12.0\t1988.458\tO\tSistero, R 1988, ApLC 27, 41.\n",
      "561\t75.0\t5.0\t-5.0\t1988.79\tD\tTerndrup, D. 1988, PASP 100, 1226\n",
      "562\t88.0\t35.0\t-35.0\t1988.92\tHK\tHuchra 1988, in Extragalactic Distance Scale, van den Bergh and Pritchet, eds, p 257\n",
      "563\t55.0\t15.0\t-15.0\t1988.94\tD\tTerndrup, D. 1988 in Extragalactic Distance Scale Symp\n",
      "564\t70.0\t20.0\t-20.0\t1988.96\tAV\tvandenBergh, S. 1988, in Extragalactic Distance Scale Symp, p375\n",
      "565\t57.0\t10.0\t-10.0\t1988.98\tS\t\"Branch, D.  1988, in   \"\"               \"\"      \"\"    \"\"\"\n",
      "566\t66.0\t10.0\t-10.0\t1988.1\tA\tRowan-Robinson, M. 1988, Space Science Rev. 48, 1\n",
      "567\t90.0\t5.0\t-5.0\t1988.556\tA\tTully, R. B. 1988, Nature 334, 209.\n",
      "568\t65.0\t25.0\t-20.0\t1988.5\tS\tBartel, N. 1988, in Impact of VLBI on Astrophysics and Geophysics, Ried \\& Moran, eds, IAUSymp 129, pg 175.\n",
      "569\t56.0\t12.0\t-12.0\t1988.333\tNS\tSandage \\& Tammann  1988, ApJ 328, 1  (Virgo Novae)\n",
      "570\t85.0\t10.0\t-10.0\t1988.54\tR\tPierce \\& Tully 1988, ApJ 330, 579\n",
      "571\t42.0\t11.0\t-11.0\t1988.622\tAS\tSandage, 1988, ApJ 331, 583\n",
      "572\t56.0\t13.0\t-13.0\t1988.624\tAS\tSandage 1988, ApJ 331, 605\n",
      "573\t57.0\t1.0\t-1.0\t1988.626\tBS\tKraan-Korteweg, Cameron \\& Tammann 1988, ApJ 331, 620\n",
      "574\t89.0\t10.0\t-10.0\t1988.874\tO\tMelnick, Terelvich \\& Moles 1988, MNRAS 235, 297\n",
      "575\t75.0\t15.0\t-15.0\t1989.0\tL\tLehar, Hewitt \\& Roberts 1989, in Gravitational Lenses, Moran \\etal eds (Berlin: Springer)p84.\n",
      "576\t105.0\t35.0\t-35.0\t1989.02\tL\tVandereist \\etal 1989, in Gravitational Lenses, Moran \\etal eds (Berlin: Springer)p90.\n",
      "577\t88.0\t26.0\t-20.0\t1989.874\tF\tTonry, Ajar \\& Luppino 1989, ApJL 346, L57\n",
      "578\t90.0\t15.0\t-15.0\t1989.207\tHK\tAaronson \\etal 1989, ApJ 338, 654\n",
      "579\t85.0\t5.0\t-5.0\t1989.708\tD\tPierce, ApJL 344, L57.\n",
      "580\t72.0\t3.0\t-3.0\t1989.5\tB\tGouguenheim, L. 1989, in The World of Galaxies (Berlin: Springer)\n",
      "581\t67.0\t8.0\t-8.0\t1989.55\tAV\tvandenBergh 1989, A\\&A Reviews 1, 111\n",
      "582\t24.0\t13.0\t-10.0\t1990.04\tO\tMcHardy \\etal 1990, MNRAS 242, 215\n",
      "583\t68.0\t8.0\t-8.0\t1990.054\tB\tFouque, Bottinelli, Gouguenheim \\& Paturel 1990, ApJ 349, 1\n",
      "584\t73.0\t10.0\t-10.0\t1990.2\tA\tVisvanathan 1990, Aust J Phys 43, 189\n",
      "585\t87.0\t13.0\t-12.0\t1990.472\tPK\tJacoby, G., Ciardullo, R. \\& Ford, H. 1990, ApJ 356, 332\n",
      "586\t71.0\t4.0\t-3.0\t1990.5\tB\tGouguenheim, L. et al. 1990, in The Quest for Fundamental Constants in Cosmology, J. Audouze \\& J.Tran Thanh Van, eds.  Editions Frontieres, pg 3.\n",
      "587\t45.0\t3.0\t-3.0\t1990.944\tAS\tSandage \\& Tammann 1990 ApJ 365, 1\n",
      "588\t70.0\t10.0\t-10.0\t1991.0\tA\tRowan-Robinson, M. 1991, in Observational Tests of Cosmological Inflation, T.Shanks, \\etaleds. (Dordrecht: Kluwer), p 161.\n",
      "589\t84.0\t10.0\t-10.0\t1991.02\tA\tPierce, M. 1991, in Observational Tests of Cosmological Inflation, T. Shanks,\\etaleds.(Dordrecht: Kluwer), p 173\n",
      "590\t52.0\t2.0\t-2.0\t1991.04\tAS\tTammann, G. 1991, in Observational Tests of Cosmological Inflation, T. Shanks, \\etal eds.(Dordrecht: Kluwer), p 179.\n",
      "591\t69.0\t14.0\t-14.0\t1991.06\tA\tPritchet, C. 1991, in Observational Tests of Cosmological Inflation, T. Shanks, \\etal eds.(Dordrecht: Kluwer), p 199.\n",
      "592\t50.0\t17.0\t-17.0\t1991.223\tL\tRhee, G. 1991, Nature 350, 211\n",
      "593\t82.0\t7.0\t-7.0\t1991.387\tF\tTonry, J. 1991, ApJL 373, L1\n",
      "594\t52.0\t2.0\t-2.0\t1991.5\tA\tBurbidge, G. 1991, in {\\it Physical Cosmology}, pg 55, A. Blanchard \\etal eds(GifSur Yvette:Editions Frontieres)\n",
      "595\t55.0\t15.0\t-15.0\t1991.52\tZ\tBirkinshaw, M. 1991, in Physical Cosmology, A. Blanchard \\etal eds (Gif Sur Yvette:Editions Frontieres)\n",
      "596\t92.0\t21.0\t-17.0\t1991.554\tB\tFukugita, M. \\etal 1991, ApJ 376, 8\n",
      "597\t45.0\t12.0\t-12.0\t1991.753\tZ\tBirkinshaw, Hughes \\& Arnaud 1991, ApJ379, 466\n",
      "598\t87.0\t12.0\t-12.0\t1991.97\tPK\tCiardullo \\etal 1991, ApJ 383, 487\n",
      "599\t90.0\t10.0\t-10.0\t1992.25\tA\tTully, R. B. 1992, in PNAS from Irvine meeting of March 1992.\n",
      "600\t85.0\t10.0\t-10.0\t1992.297\tAK\tHuchra, J. 1992, Science 256, 321\n",
      "601\t55.0\t25.0\t-25.0\t1992.5\tL\tRefsdal in Gravitational Lenses, Kayser \\etal eds (Berlin: Springer) p61.\n",
      "602\t45.0\t9.0\t-9.0\t1992.943\tSS\tSaha, A. \\etal 1992, ApJL 401, L7\n",
      "603\t80.0\t12.0\t-12.0\t1992.6\tA\tJacoby, G. \\etal 1992, PASP 104, 599\n",
      "604\t44.0\t3.0\t-3.0\t1992.75\tO\tDuemmler, R. 1992, A\\&A 264, 1.  (Luminosity Function) DM_virgo = 31.7\n",
      "605\t63.0\t3.0\t-3.0\t1992.78\tO\tDuemmler, R. 1992, A\\&A 264, 1.  (Luminosity Function) DM_virgo = 30.9\n",
      "606\t77.0\t8.0\t-8.0\t1992.919\tO\tLauer and Postman 1992, ApJL 400, L47\n",
      "607\t43.0\t11.0\t-11.0\t1993.002\tOS\tSandage 1993, ApJ 402, 3  Angluar Diameters\n",
      "608\t44.0\t12.0\t-12.0\t1993.5\tOS\tSandage 1993, in Observational Cosmology, Chincarini \\etal eds (PASP Vol 51)pg 3.Gal Diams\n",
      "609\t90.0\t10.0\t-10.0\t1993.52\tA\tTully 1993, in Observational Cosmology, Chincarini \\etal eds (PASP Vol 51) pg18\n",
      "610\t58.0\t10.0\t-10.0\t1993.54\tS\tSchmidt, Kirshner \\& Eastman 1993, in Observational Cosmology, Chincarini \\etal eds(PASPVol51)pg 30\n",
      "611\t86.0\t18.0\t-18.0\t1993.6\tP\tMendez \\etal A\\&A 275, 534\n",
      "612\t47.0\t5.0\t-5.0\t1993.72\tSS\tSandage 1993, ApJ 415, 1 (SnI in V)\n",
      "613\t89.0\t6.0\t-6.0\t1993.722\tAV\tdeVaucouleurs 1993, ApJ 415, 10\n",
      "614\t85.0\t4.0\t-4.0\t1993.724\tGV\tdeVaucouleurs 1993, ApJ 415, 33 (GC Specific Freqiencies)\n",
      "615\t75.0\t8.0\t-8.0\t1993.777\tG\tMcMillan \\etal 1993, ApJ 416, 62\n",
      "616\t55.0\t17.0\t-17.0\t1994.002\tZ\tBirkinshaw \\& Hughes 1994, ApJ 420, 33\n",
      "617\t53.0\t8.0\t-8.0\t1994.169\tSS\tSandage \\etal 1994, ApJL 423, L13\n",
      "618\t52.0\t9.0\t-9.0\t1994.278\tSS\tSaha \\etal 1994, ApJ 425, 14\n",
      "619\t81.0\t17.0\t-15.0\t1994.291\tS\tSchmidt \\etal 1994, AJ 107, 1444  SnII 1992am\n",
      "620\t73.0\t7.0\t-7.0\t1994.669\tS\tSchmidt \\etal 1994, ApJ 432, 42  SnII\n",
      "621\t80.0\t17.0\t-17.0\t1994.823\tTK\tFreedman, W. \\etal 1994, Nature 371, 757\n",
      "622\t67.0\t7.0\t-7.0\t1995.0\tS\tRiess, Press and Kirshner 1995, ApJL 438, L17. SN Ia LCS\n",
      "623\t52.0\t8.0\t-8.0\t1995.002\tSS\tSaha \\etal 1995, ApJ 438, 8.  NGC5253\n",
      "624\t58.0\t6.0\t-6.0\t1995.25\tZ\tRephaeli 1995, Ann. Rev A\\&A 33, 541, SZ Summary\n",
      "625\t55.0\t7.0\t-7.0\t1995.44\tAS\tSandage, A. \\& Tammann, G. 1995, ApJ 446, 1.  Virgo\n",
      "626\t50.0\t5.0\t-5.0\t1995.5\tAS\tSandage 1995, in The Deep Universe, Saas-Fee \\#23, Binngeli and Buser, eds, (Berlin: Springer)p189\n",
      "627\t60.0\t4.0\t-4.0\t1995.55\tS\tFisher, A. Branch, D., Hoflich, P. \\& Khokhlov, A. 1995, ApJL 447, L73.\n",
      "628\t71.0\t30.0\t-25.0\t1995.61\tZ\tHerbig \\etal 1995, ApJL 449, L5. SZ to Coma\n",
      "629\t80.0\t17.0\t-17.0\t1995.637\tTK\tMould \\etal 1995, ApJ 449, 413\n",
      "630\t69.0\t8.0\t-8.0\t1995.686\tA\tTanvir, N. \\etal 1995, Nature 377, 27.  Leo HST\n",
      "631\t80.0\t17.0\t-17.0\t1995.791\tTK\tKennicutt, Freedman \\& Mould, 1995, AJ 110, 1476\n",
      "632\t70.0\t13.0\t-13.0\t1995.804\tO\tDella Valle \\& Livio 1995, ApJ 452, 704\n",
      "633\t57.0\t3.0\t-2.0\t1995.86\tSV\tVandenBergh, S. 1995, ApJL 453, L55\n",
      "634\t78.0\t11.0\t-11.0\t1995.917\tG\tWhitmore, B. \\etal 1995, ApJL 454, L73\n",
      "635\t70.0\t9.0\t-9.0\t1995.93\tAK\tFreedman, W. 1995, in {\\it Science with the Hubble Space Telescope II}, P. Benvenuti, D.Macchetto\\& E. Schreier, eds. Pg 3.\n",
      "636\t55.0\t10.0\t-10.0\t1995.94\tAS\tTammann, G. \\etal 1995, in {\\it Science with the Hubble Space Telescope II},P. Benvenuti,D.Macchetto \\& E. Schreier, eds. Pg 9.\n",
      "637\t69.0\t8.0\t-8.0\t1995.95\tO\tTanvir, N. 1995, in {\\it Science with the Hubble Space Telescope II}, P. Benvenuti,D. Macchetto \\& E. Schreier, eds. Pg 38.\n",
      "638\t78.0\t11.0\t-11.0\t1995.96\tG\tSparks, W. \\etal 1995, in {\\it Science with the Hubble Space Telescope II}, P. Benvenuti,D. Macchetto \\& E. Schreier, eds. Pg 43.\n",
      "639\t81.0\t8.0\t-8.0\t1995.976\tOV\tVandenBergh, S. 1995, Science 270, 1942\n",
      "640\t66.0\t6.0\t-6.0\t1995.99\tS\tRiess, A., Press, W. \\& Kirshner, R. 1995, BAAS 187, 1712.\n",
      "641\t67.4\t0.5\t-0.5\t2018.5\tC\tPlanck, A&A https://www.cosmos.esa.int/documents/387566/387653/Planck_2018_results_L06.pdf/38659860-210c-ffac-3921-e5eac3ae4101\n",
      "642\t67.4\t0.7\t-3.8\t2018.5\tC\tPlanck, A&A, when LCDM assumptions are relaxed, systematic offset only\n",
      "643\t73.5\t1.6\t-1.6\t2018.5\tS\tRiess, ApJ https://iopscience.iop.org/article/10.3847/1538-4357/aac82e/meta\n",
      "#\t\t\t\t\t\t\t\t\t\t\t\t\t\t\t\n",
      "#\n",
      "#\n",
      "#\n",
      "#Types of Estimates:\t\t\t\t\t\t\t\t\t\t\t\t\t\t\t\n",
      "#S =SnI2 =SnIIG =GCLF  L = Lens         r = Red Giants\t\t\t\t\t\t\t\t\t\t\t\t\t\t\t\n",
      "#B =BTFR =ITF,RTFH =IRTF  F = Fluctuations D = Dn-Sig/Fund Plane\"\t\t\t\t\t\t\t\t\t\t\t\t\t\t\t\n",
      "#A =Global SummaryZ =Sunyaev-Zeldovich      T = TF\t\t\t\t\t\t\t\t\t\t\t\t\t\t\t\n",
      "#O =Other  N =NovaeP =PNLF                   C = CMB Fit\t\t\t\t\t\t\t\t\t\t\t\t\t\t\t\n",
      "#Secondary Types:\t\t\t\t\t\t\t\t\t\t\t\t\t\t\t\n",
      "#C =Cosmologydependent\t\t\t\t\t\t\t\t\t\t\t\t\t\t\t\n",
      "#M =Theory with assumed Omega\t\t\t\t\t\t\t\t\t\t\t\t\t\t\t\n",
      "#K =KeyProject or KeyProject team member\t\t\t\t\t\t\t\t\t\t\t\t\t\t\t\n",
      "#S =Sandage and/or Tammann\t\t\t\t\t\t\t\t\t\t\t\t\t\t\t\n",
      "#V =deVaucouleurs or van den Bergh\t\t\t\t\t\t\t\t\t\t\t\t\t\t\t\n",
      "#I =results presented at Irvine conf\t\t\t\t\t\t\t\t\t\t\t\t\t\t\t"
     ]
    }
   ],
   "source": [
    "!cat H0_data.txt\n"
   ]
  },
  {
   "cell_type": "markdown",
   "metadata": {},
   "source": [
    "Now, we read in the file into a table named `data`:"
   ]
  },
  {
   "cell_type": "code",
   "execution_count": 6,
   "metadata": {},
   "outputs": [],
   "source": [
    "# to read in with astropy.table:\n",
    "data_table=Table.read('H0_data.txt',format='ascii.tab')\n",
    "\n",
    "# to read in with pandas:\n",
    "data=pandas.read_csv('H0_data.txt',sep='\\t',comment='#')\n"
   ]
  },
  {
   "cell_type": "markdown",
   "metadata": {},
   "source": [
    "Using the below code box, check what's in each version of the table:\n",
    "\n",
    "__1) print out the list of column names:__ This is an attribute of the `data` object created by `pandas`: i.e., `data.columns`, not `data.columns()`).  For an `astropy` `Table` or `recarray` the equivalent is `data_table.colnames`\n",
    "\n",
    "__2) print out the first record in the table:__ In `pandas` this is `data.iloc[0]` or equivalently `data.iloc[0,:]`; for an astropy `Table` or `recarray` it is `data_table[0]` .  `.iloc` indicates integer-based location specification -- the first coordinate slices on rows, the second slices on columns (e.g. the h0 value is column 0).  \n",
    "\n",
    "__3) look at what you get if you put just `data` or `data_table` in a code box. Both `pandas` and the astropy `Table` class provide 'pretty' print output in this case.__\n",
    "\n",
    "__4) Check out the attributes and methods associated with `data` and `data_table`: e.g., type `data.` and hit the Tab key to see a list.__"
   ]
  },
  {
   "cell_type": "code",
   "execution_count": 7,
   "metadata": {},
   "outputs": [
    {
     "name": "stdout",
     "output_type": "stream",
     "text": [
      "Index(['Index', 'H0', 'error_plus', 'error_minus', 'year', 'Dataset',\n",
      "       'Reference'],\n",
      "      dtype='object') ['Index', 'H0', 'error_plus', 'error_minus', 'year', 'Dataset', 'Reference']\n"
     ]
    },
    {
     "data": {
      "text/plain": [
       "Index                       0\n",
       "H0                      67.27\n",
       "error_plus                0.6\n",
       "error_minus              -0.6\n",
       "year                   2020.0\n",
       "Dataset            Planck CMB\n",
       "Reference      Planck:2018vyg\n",
       "Name: 0, dtype: object"
      ]
     },
     "execution_count": 7,
     "metadata": {},
     "output_type": "execute_result"
    }
   ],
   "source": [
    "print(data.columns,data_table.colnames) \n",
    "data.iloc[0]\n",
    "data.iloc[0,:]\n",
    "\n"
   ]
  },
  {
   "cell_type": "code",
   "execution_count": 8,
   "metadata": {},
   "outputs": [
    {
     "data": {
      "text/plain": [
       "Index(['Index', 'H0', 'error_plus', 'error_minus', 'year', 'Dataset',\n",
       "       'Reference'],\n",
       "      dtype='object')"
      ]
     },
     "execution_count": 8,
     "metadata": {},
     "output_type": "execute_result"
    }
   ],
   "source": [
    "data.columns"
   ]
  },
  {
   "cell_type": "code",
   "execution_count": 9,
   "metadata": {},
   "outputs": [
    {
     "data": {
      "text/plain": [
       "['Index', 'H0', 'error_plus', 'error_minus', 'year', 'Dataset', 'Reference']"
      ]
     },
     "execution_count": 9,
     "metadata": {},
     "output_type": "execute_result"
    }
   ],
   "source": [
    "data_table.colnames"
   ]
  },
  {
   "cell_type": "code",
   "execution_count": 10,
   "metadata": {},
   "outputs": [
    {
     "data": {
      "text/html": [
       "<i>Row index=0</i>\n",
       "<table id=\"table6038769168\">\n",
       "<thead><tr><th>Index</th><th>H0</th><th>error_plus</th><th>error_minus</th><th>year</th><th>Dataset</th><th>Reference</th></tr></thead>\n",
       "<thead><tr><th>int64</th><th>float64</th><th>float64</th><th>float64</th><th>float64</th><th>str47</th><th>str224</th></tr></thead>\n",
       "<tr><td>0</td><td>67.27</td><td>0.6</td><td>-0.6</td><td>2020.0</td><td>Planck CMB</td><td>Planck:2018vyg</td></tr>\n",
       "</table>"
      ],
      "text/plain": [
       "<Row index=0>\n",
       "Index    H0   error_plus error_minus   year   Dataset     Reference   \n",
       "int64 float64  float64     float64   float64   str47        str224    \n",
       "----- ------- ---------- ----------- ------- ---------- --------------\n",
       "    0   67.27        0.6        -0.6  2020.0 Planck CMB Planck:2018vyg"
      ]
     },
     "execution_count": 10,
     "metadata": {},
     "output_type": "execute_result"
    }
   ],
   "source": [
    "data_table[0]"
   ]
  },
  {
   "cell_type": "code",
   "execution_count": 11,
   "metadata": {},
   "outputs": [
    {
     "data": {
      "text/plain": [
       "Index                           1\n",
       "H0                          67.36\n",
       "error_plus                   0.54\n",
       "error_minus                 -0.54\n",
       "year                       2020.0\n",
       "Dataset        Planck CMB+lensing\n",
       "Reference          Planck:2018vyg\n",
       "Name: 1, dtype: object"
      ]
     },
     "execution_count": 11,
     "metadata": {},
     "output_type": "execute_result"
    }
   ],
   "source": [
    "data.iloc[1]"
   ]
  },
  {
   "cell_type": "code",
   "execution_count": 12,
   "metadata": {},
   "outputs": [
    {
     "ename": "SyntaxError",
     "evalue": "invalid syntax (1141461352.py, line 1)",
     "output_type": "error",
     "traceback": [
      "\u001b[0;36m  Cell \u001b[0;32mIn[12], line 1\u001b[0;36m\u001b[0m\n\u001b[0;31m    data.\u001b[0m\n\u001b[0m            ^\u001b[0m\n\u001b[0;31mSyntaxError\u001b[0m\u001b[0;31m:\u001b[0m invalid syntax\n"
     ]
    }
   ],
   "source": [
    "data.   "
   ]
  },
  {
   "cell_type": "code",
   "execution_count": 31,
   "metadata": {},
   "outputs": [
    {
     "data": {
      "text/html": [
       "<div>\n",
       "<style scoped>\n",
       "    .dataframe tbody tr th:only-of-type {\n",
       "        vertical-align: middle;\n",
       "    }\n",
       "\n",
       "    .dataframe tbody tr th {\n",
       "        vertical-align: top;\n",
       "    }\n",
       "\n",
       "    .dataframe thead th {\n",
       "        text-align: right;\n",
       "    }\n",
       "</style>\n",
       "<table border=\"1\" class=\"dataframe\">\n",
       "  <thead>\n",
       "    <tr style=\"text-align: right;\">\n",
       "      <th></th>\n",
       "      <th>Index</th>\n",
       "      <th>H0</th>\n",
       "      <th>error_plus</th>\n",
       "      <th>error_minus</th>\n",
       "      <th>year</th>\n",
       "      <th>Dataset</th>\n",
       "      <th>Reference</th>\n",
       "    </tr>\n",
       "  </thead>\n",
       "  <tbody>\n",
       "    <tr>\n",
       "      <th>0</th>\n",
       "      <td>0</td>\n",
       "      <td>67.27</td>\n",
       "      <td>0.60</td>\n",
       "      <td>-0.60</td>\n",
       "      <td>2020.000</td>\n",
       "      <td>Planck CMB</td>\n",
       "      <td>Planck:2018vyg</td>\n",
       "    </tr>\n",
       "    <tr>\n",
       "      <th>1</th>\n",
       "      <td>1</td>\n",
       "      <td>67.36</td>\n",
       "      <td>0.54</td>\n",
       "      <td>-0.54</td>\n",
       "      <td>2020.000</td>\n",
       "      <td>Planck CMB+lensing</td>\n",
       "      <td>Planck:2018vyg</td>\n",
       "    </tr>\n",
       "    <tr>\n",
       "      <th>2</th>\n",
       "      <td>2</td>\n",
       "      <td>67.49</td>\n",
       "      <td>0.53</td>\n",
       "      <td>-0.53</td>\n",
       "      <td>2021.000</td>\n",
       "      <td>Planck+SPT+ACT CMB</td>\n",
       "      <td>SPT-3G:2021wgf</td>\n",
       "    </tr>\n",
       "    <tr>\n",
       "      <th>3</th>\n",
       "      <td>3</td>\n",
       "      <td>69.60</td>\n",
       "      <td>1.80</td>\n",
       "      <td>-1.80</td>\n",
       "      <td>2020.000</td>\n",
       "      <td>eBOSS+Planck CMB</td>\n",
       "      <td>Pogosian:2020ded</td>\n",
       "    </tr>\n",
       "    <tr>\n",
       "      <th>4</th>\n",
       "      <td>4</td>\n",
       "      <td>68.80</td>\n",
       "      <td>1.50</td>\n",
       "      <td>-1.50</td>\n",
       "      <td>2021.000</td>\n",
       "      <td>SPT-3G CMB</td>\n",
       "      <td>SPT-3G:2021eoc</td>\n",
       "    </tr>\n",
       "    <tr>\n",
       "      <th>...</th>\n",
       "      <td>...</td>\n",
       "      <td>...</td>\n",
       "      <td>...</td>\n",
       "      <td>...</td>\n",
       "      <td>...</td>\n",
       "      <td>...</td>\n",
       "      <td>...</td>\n",
       "    </tr>\n",
       "    <tr>\n",
       "      <th>639</th>\n",
       "      <td>639</td>\n",
       "      <td>81.00</td>\n",
       "      <td>8.00</td>\n",
       "      <td>-8.00</td>\n",
       "      <td>1995.976</td>\n",
       "      <td>OV</td>\n",
       "      <td>VandenBergh, S. 1995, Science 270, 1942</td>\n",
       "    </tr>\n",
       "    <tr>\n",
       "      <th>640</th>\n",
       "      <td>640</td>\n",
       "      <td>66.00</td>\n",
       "      <td>6.00</td>\n",
       "      <td>-6.00</td>\n",
       "      <td>1995.990</td>\n",
       "      <td>S</td>\n",
       "      <td>Riess, A., Press, W. \\&amp; Kirshner, R. 1995, BAA...</td>\n",
       "    </tr>\n",
       "    <tr>\n",
       "      <th>641</th>\n",
       "      <td>641</td>\n",
       "      <td>67.40</td>\n",
       "      <td>0.50</td>\n",
       "      <td>-0.50</td>\n",
       "      <td>2018.500</td>\n",
       "      <td>C</td>\n",
       "      <td>Planck, A&amp;A https://www.cosmos.esa.int/documen...</td>\n",
       "    </tr>\n",
       "    <tr>\n",
       "      <th>642</th>\n",
       "      <td>642</td>\n",
       "      <td>67.40</td>\n",
       "      <td>0.70</td>\n",
       "      <td>-3.80</td>\n",
       "      <td>2018.500</td>\n",
       "      <td>C</td>\n",
       "      <td>Planck, A&amp;A, when LCDM assumptions are relaxed...</td>\n",
       "    </tr>\n",
       "    <tr>\n",
       "      <th>643</th>\n",
       "      <td>643</td>\n",
       "      <td>73.50</td>\n",
       "      <td>1.60</td>\n",
       "      <td>-1.60</td>\n",
       "      <td>2018.500</td>\n",
       "      <td>S</td>\n",
       "      <td>Riess, ApJ https://iopscience.iop.org/article/...</td>\n",
       "    </tr>\n",
       "  </tbody>\n",
       "</table>\n",
       "<p>644 rows × 7 columns</p>\n",
       "</div>"
      ],
      "text/plain": [
       "     Index     H0  error_plus  error_minus      year             Dataset  \\\n",
       "0        0  67.27        0.60        -0.60  2020.000          Planck CMB   \n",
       "1        1  67.36        0.54        -0.54  2020.000  Planck CMB+lensing   \n",
       "2        2  67.49        0.53        -0.53  2021.000  Planck+SPT+ACT CMB   \n",
       "3        3  69.60        1.80        -1.80  2020.000    eBOSS+Planck CMB   \n",
       "4        4  68.80        1.50        -1.50  2021.000          SPT-3G CMB   \n",
       "..     ...    ...         ...          ...       ...                 ...   \n",
       "639    639  81.00        8.00        -8.00  1995.976                  OV   \n",
       "640    640  66.00        6.00        -6.00  1995.990                   S   \n",
       "641    641  67.40        0.50        -0.50  2018.500                   C   \n",
       "642    642  67.40        0.70        -3.80  2018.500                   C   \n",
       "643    643  73.50        1.60        -1.60  2018.500                   S   \n",
       "\n",
       "                                             Reference  \n",
       "0                                       Planck:2018vyg  \n",
       "1                                       Planck:2018vyg  \n",
       "2                                       SPT-3G:2021wgf  \n",
       "3                                     Pogosian:2020ded  \n",
       "4                                       SPT-3G:2021eoc  \n",
       "..                                                 ...  \n",
       "639            VandenBergh, S. 1995, Science 270, 1942  \n",
       "640  Riess, A., Press, W. \\& Kirshner, R. 1995, BAA...  \n",
       "641  Planck, A&A https://www.cosmos.esa.int/documen...  \n",
       "642  Planck, A&A, when LCDM assumptions are relaxed...  \n",
       "643  Riess, ApJ https://iopscience.iop.org/article/...  \n",
       "\n",
       "[644 rows x 7 columns]"
      ]
     },
     "execution_count": 31,
     "metadata": {},
     "output_type": "execute_result"
    }
   ],
   "source": [
    "data"
   ]
  },
  {
   "cell_type": "markdown",
   "metadata": {},
   "source": [
    "Let's store the columns as separate arrays for convenience; we'll mainly use the `pandas` version from here on."
   ]
  },
  {
   "cell_type": "code",
   "execution_count": 17,
   "metadata": {},
   "outputs": [],
   "source": [
    "# the following method works in both pandas and astropy\n",
    "h0 = data['H0']\n",
    "h0t = data_table['H0']\n",
    "errplus = data['error_plus']\n",
    "errminus=-data['error_minus']\n",
    "date=data['year']\n",
    "\n",
    "# this method works in pandas only\n",
    "h0 = data.H0\n",
    "errplus = data.error_plus\n",
    "errminus=-data.error_minus\n",
    "date=data.year"
   ]
  },
  {
   "cell_type": "code",
   "execution_count": 16,
   "metadata": {},
   "outputs": [
    {
     "data": {
      "text/plain": [
       "(50.0, 80.0)"
      ]
     },
     "execution_count": 16,
     "metadata": {},
     "output_type": "execute_result"
    },
    {
     "data": {
      "image/png": "[encoded data removed]",
      "text/plain": [
       "<Figure size 640x480 with 1 Axes>"
      ]
     },
     "metadata": {},
     "output_type": "display_data"
    }
   ],
   "source": [
    "plt.plot(date,h0,'bo')\n",
    "plt.xlim(2000,2025)\n",
    "plt.ylim(50,80)"
   ]
  },
  {
   "cell_type": "markdown",
   "metadata": {},
   "source": [
    "## Making plots with error bars\n",
    "\n",
    "__Bring up the documentation on `plt.errorbar` in the below code box.__"
   ]
  },
  {
   "cell_type": "code",
   "execution_count": 25,
   "metadata": {},
   "outputs": [
    {
     "name": "stdout",
     "output_type": "stream",
     "text": [
      "\u001b[0;31mSignature:\u001b[0m\n",
      "\u001b[0mplt\u001b[0m\u001b[0;34m.\u001b[0m\u001b[0merrorbar\u001b[0m\u001b[0;34m(\u001b[0m\u001b[0;34m\u001b[0m\n",
      "\u001b[0;34m\u001b[0m    \u001b[0mx\u001b[0m\u001b[0;34m:\u001b[0m \u001b[0;34m'float | ArrayLike'\u001b[0m\u001b[0;34m,\u001b[0m\u001b[0;34m\u001b[0m\n",
      "\u001b[0;34m\u001b[0m    \u001b[0my\u001b[0m\u001b[0;34m:\u001b[0m \u001b[0;34m'float | ArrayLike'\u001b[0m\u001b[0;34m,\u001b[0m\u001b[0;34m\u001b[0m\n",
      "\u001b[0;34m\u001b[0m    \u001b[0myerr\u001b[0m\u001b[0;34m:\u001b[0m \u001b[0;34m'float | ArrayLike | None'\u001b[0m \u001b[0;34m=\u001b[0m \u001b[0;32mNone\u001b[0m\u001b[0;34m,\u001b[0m\u001b[0;34m\u001b[0m\n",
      "\u001b[0;34m\u001b[0m    \u001b[0mxerr\u001b[0m\u001b[0;34m:\u001b[0m \u001b[0;34m'float | ArrayLike | None'\u001b[0m \u001b[0;34m=\u001b[0m \u001b[0;32mNone\u001b[0m\u001b[0;34m,\u001b[0m\u001b[0;34m\u001b[0m\n",
      "\u001b[0;34m\u001b[0m    \u001b[0mfmt\u001b[0m\u001b[0;34m:\u001b[0m \u001b[0;34m'str'\u001b[0m \u001b[0;34m=\u001b[0m \u001b[0;34m''\u001b[0m\u001b[0;34m,\u001b[0m\u001b[0;34m\u001b[0m\n",
      "\u001b[0;34m\u001b[0m    \u001b[0;34m*\u001b[0m\u001b[0;34m,\u001b[0m\u001b[0;34m\u001b[0m\n",
      "\u001b[0;34m\u001b[0m    \u001b[0mecolor\u001b[0m\u001b[0;34m:\u001b[0m \u001b[0;34m'ColorType | None'\u001b[0m \u001b[0;34m=\u001b[0m \u001b[0;32mNone\u001b[0m\u001b[0;34m,\u001b[0m\u001b[0;34m\u001b[0m\n",
      "\u001b[0;34m\u001b[0m    \u001b[0melinewidth\u001b[0m\u001b[0;34m:\u001b[0m \u001b[0;34m'float | None'\u001b[0m \u001b[0;34m=\u001b[0m \u001b[0;32mNone\u001b[0m\u001b[0;34m,\u001b[0m\u001b[0;34m\u001b[0m\n",
      "\u001b[0;34m\u001b[0m    \u001b[0mcapsize\u001b[0m\u001b[0;34m:\u001b[0m \u001b[0;34m'float | None'\u001b[0m \u001b[0;34m=\u001b[0m \u001b[0;32mNone\u001b[0m\u001b[0;34m,\u001b[0m\u001b[0;34m\u001b[0m\n",
      "\u001b[0;34m\u001b[0m    \u001b[0mbarsabove\u001b[0m\u001b[0;34m:\u001b[0m \u001b[0;34m'bool'\u001b[0m \u001b[0;34m=\u001b[0m \u001b[0;32mFalse\u001b[0m\u001b[0;34m,\u001b[0m\u001b[0;34m\u001b[0m\n",
      "\u001b[0;34m\u001b[0m    \u001b[0mlolims\u001b[0m\u001b[0;34m:\u001b[0m \u001b[0;34m'bool | ArrayLike'\u001b[0m \u001b[0;34m=\u001b[0m \u001b[0;32mFalse\u001b[0m\u001b[0;34m,\u001b[0m\u001b[0;34m\u001b[0m\n",
      "\u001b[0;34m\u001b[0m    \u001b[0muplims\u001b[0m\u001b[0;34m:\u001b[0m \u001b[0;34m'bool | ArrayLike'\u001b[0m \u001b[0;34m=\u001b[0m \u001b[0;32mFalse\u001b[0m\u001b[0;34m,\u001b[0m\u001b[0;34m\u001b[0m\n",
      "\u001b[0;34m\u001b[0m    \u001b[0mxlolims\u001b[0m\u001b[0;34m:\u001b[0m \u001b[0;34m'bool | ArrayLike'\u001b[0m \u001b[0;34m=\u001b[0m \u001b[0;32mFalse\u001b[0m\u001b[0;34m,\u001b[0m\u001b[0;34m\u001b[0m\n",
      "\u001b[0;34m\u001b[0m    \u001b[0mxuplims\u001b[0m\u001b[0;34m:\u001b[0m \u001b[0;34m'bool | ArrayLike'\u001b[0m \u001b[0;34m=\u001b[0m \u001b[0;32mFalse\u001b[0m\u001b[0;34m,\u001b[0m\u001b[0;34m\u001b[0m\n",
      "\u001b[0;34m\u001b[0m    \u001b[0merrorevery\u001b[0m\u001b[0;34m:\u001b[0m \u001b[0;34m'int | tuple[int, int]'\u001b[0m \u001b[0;34m=\u001b[0m \u001b[0;36m1\u001b[0m\u001b[0;34m,\u001b[0m\u001b[0;34m\u001b[0m\n",
      "\u001b[0;34m\u001b[0m    \u001b[0mcapthick\u001b[0m\u001b[0;34m:\u001b[0m \u001b[0;34m'float | None'\u001b[0m \u001b[0;34m=\u001b[0m \u001b[0;32mNone\u001b[0m\u001b[0;34m,\u001b[0m\u001b[0;34m\u001b[0m\n",
      "\u001b[0;34m\u001b[0m    \u001b[0mdata\u001b[0m\u001b[0;34m=\u001b[0m\u001b[0;32mNone\u001b[0m\u001b[0;34m,\u001b[0m\u001b[0;34m\u001b[0m\n",
      "\u001b[0;34m\u001b[0m    \u001b[0;34m**\u001b[0m\u001b[0mkwargs\u001b[0m\u001b[0;34m,\u001b[0m\u001b[0;34m\u001b[0m\n",
      "\u001b[0;34m\u001b[0m\u001b[0;34m)\u001b[0m \u001b[0;34m->\u001b[0m \u001b[0;34m'ErrorbarContainer'\u001b[0m\u001b[0;34m\u001b[0m\u001b[0;34m\u001b[0m\u001b[0m\n",
      "\u001b[0;31mDocstring:\u001b[0m\n",
      "Plot y versus x as lines and/or markers with attached errorbars.\n",
      "\n",
      "*x*, *y* define the data locations, *xerr*, *yerr* define the errorbar\n",
      "sizes. By default, this draws the data markers/lines as well as the\n",
      "errorbars. Use fmt='none' to draw errorbars without any data markers.\n",
      "\n",
      ".. versionadded:: 3.7\n",
      "   Caps and error lines are drawn in polar coordinates on polar plots.\n",
      "\n",
      "\n",
      "Parameters\n",
      "----------\n",
      "x, y : float or array-like\n",
      "    The data positions.\n",
      "\n",
      "xerr, yerr : float or array-like, shape(N,) or shape(2, N), optional\n",
      "    The errorbar sizes:\n",
      "\n",
      "    - scalar: Symmetric +/- values for all data points.\n",
      "    - shape(N,): Symmetric +/-values for each data point.\n",
      "    - shape(2, N): Separate - and + values for each bar. First row\n",
      "      contains the lower errors, the second row contains the upper\n",
      "      errors.\n",
      "    - *None*: No errorbar.\n",
      "\n",
      "    All values must be >= 0.\n",
      "\n",
      "    See :doc:`/gallery/statistics/errorbar_features`\n",
      "    for an example on the usage of ``xerr`` and ``yerr``.\n",
      "\n",
      "fmt : str, default: ''\n",
      "    The format for the data points / data lines. See `.plot` for\n",
      "    details.\n",
      "\n",
      "    Use 'none' (case-insensitive) to plot errorbars without any data\n",
      "    markers.\n",
      "\n",
      "ecolor : :mpltype:`color`, default: None\n",
      "    The color of the errorbar lines.  If None, use the color of the\n",
      "    line connecting the markers.\n",
      "\n",
      "elinewidth : float, default: None\n",
      "    The linewidth of the errorbar lines. If None, the linewidth of\n",
      "    the current style is used.\n",
      "\n",
      "capsize : float, default: :rc:`errorbar.capsize`\n",
      "    The length of the error bar caps in points.\n",
      "\n",
      "capthick : float, default: None\n",
      "    An alias to the keyword argument *markeredgewidth* (a.k.a. *mew*).\n",
      "    This setting is a more sensible name for the property that\n",
      "    controls the thickness of the error bar cap in points. For\n",
      "    backwards compatibility, if *mew* or *markeredgewidth* are given,\n",
      "    then they will over-ride *capthick*. This may change in future\n",
      "    releases.\n",
      "\n",
      "barsabove : bool, default: False\n",
      "    If True, will plot the errorbars above the plot\n",
      "    symbols. Default is below.\n",
      "\n",
      "lolims, uplims, xlolims, xuplims : bool or array-like, default: False\n",
      "    These arguments can be used to indicate that a value gives only\n",
      "    upper/lower limits.  In that case a caret symbol is used to\n",
      "    indicate this. *lims*-arguments may be scalars, or array-likes of\n",
      "    the same length as *xerr* and *yerr*.  To use limits with inverted\n",
      "    axes, `~.Axes.set_xlim` or `~.Axes.set_ylim` must be called before\n",
      "    :meth:`errorbar`.  Note the tricky parameter names: setting e.g.\n",
      "    *lolims* to True means that the y-value is a *lower* limit of the\n",
      "    True value, so, only an *upward*-pointing arrow will be drawn!\n",
      "\n",
      "errorevery : int or (int, int), default: 1\n",
      "    draws error bars on a subset of the data. *errorevery* =N draws\n",
      "    error bars on the points (x[::N], y[::N]).\n",
      "    *errorevery* =(start, N) draws error bars on the points\n",
      "    (x[start::N], y[start::N]). e.g. errorevery=(6, 3)\n",
      "    adds error bars to the data at (x[6], x[9], x[12], x[15], ...).\n",
      "    Used to avoid overlapping error bars when two series share x-axis\n",
      "    values.\n",
      "\n",
      "Returns\n",
      "-------\n",
      "`.ErrorbarContainer`\n",
      "    The container contains:\n",
      "\n",
      "    - data_line : A `~matplotlib.lines.Line2D` instance of x, y plot markers\n",
      "      and/or line.\n",
      "    - caplines : A tuple of `~matplotlib.lines.Line2D` instances of the error\n",
      "      bar caps.\n",
      "    - barlinecols : A tuple of `.LineCollection` with the horizontal and\n",
      "      vertical error ranges.\n",
      "\n",
      "Other Parameters\n",
      "----------------\n",
      "data : indexable object, optional\n",
      "    If given, the following parameters also accept a string ``s``, which is\n",
      "    interpreted as ``data[s]`` if ``s`` is a key in ``data``:\n",
      "\n",
      "    *x*, *y*, *xerr*, *yerr*\n",
      "\n",
      "**kwargs\n",
      "    All other keyword arguments are passed on to the `~.Axes.plot` call\n",
      "    drawing the markers. For example, this code makes big red squares\n",
      "    with thick green edges::\n",
      "\n",
      "        x, y, yerr = rand(3, 10)\n",
      "        errorbar(x, y, yerr, marker='s', mfc='red',\n",
      "                 mec='green', ms=20, mew=4)\n",
      "\n",
      "    where *mfc*, *mec*, *ms* and *mew* are aliases for the longer\n",
      "    property names, *markerfacecolor*, *markeredgecolor*, *markersize*\n",
      "    and *markeredgewidth*.\n",
      "\n",
      "    Valid kwargs for the marker properties are:\n",
      "\n",
      "    - *dashes*\n",
      "    - *dash_capstyle*\n",
      "    - *dash_joinstyle*\n",
      "    - *drawstyle*\n",
      "    - *fillstyle*\n",
      "    - *linestyle*\n",
      "    - *marker*\n",
      "    - *markeredgecolor*\n",
      "    - *markeredgewidth*\n",
      "    - *markerfacecolor*\n",
      "    - *markerfacecoloralt*\n",
      "    - *markersize*\n",
      "    - *markevery*\n",
      "    - *solid_capstyle*\n",
      "    - *solid_joinstyle*\n",
      "\n",
      "    Refer to the corresponding `.Line2D` property for more details:\n",
      "\n",
      "    Properties:\n",
      "    agg_filter: a filter function, which takes a (m, n, 3) float array and a dpi value, and returns a (m, n, 3) array and two offsets from the bottom left corner of the image\n",
      "    alpha: scalar or None\n",
      "    animated: bool\n",
      "    antialiased or aa: bool\n",
      "    clip_box: `~matplotlib.transforms.BboxBase` or None\n",
      "    clip_on: bool\n",
      "    clip_path: Patch or (Path, Transform) or None\n",
      "    color or c: :mpltype:`color`\n",
      "    dash_capstyle: `.CapStyle` or {'butt', 'projecting', 'round'}\n",
      "    dash_joinstyle: `.JoinStyle` or {'miter', 'round', 'bevel'}\n",
      "    dashes: sequence of floats (on/off ink in points) or (None, None)\n",
      "    data: (2, N) array or two 1D arrays\n",
      "    drawstyle or ds: {'default', 'steps', 'steps-pre', 'steps-mid', 'steps-post'}, default: 'default'\n",
      "    figure: `~matplotlib.figure.Figure` or `~matplotlib.figure.SubFigure`\n",
      "    fillstyle: {'full', 'left', 'right', 'bottom', 'top', 'none'}\n",
      "    gapcolor: :mpltype:`color` or None\n",
      "    gid: str\n",
      "    in_layout: bool\n",
      "    label: object\n",
      "    linestyle or ls: {'-', '--', '-.', ':', '', (offset, on-off-seq), ...}\n",
      "    linewidth or lw: float\n",
      "    marker: marker style string, `~.path.Path` or `~.markers.MarkerStyle`\n",
      "    markeredgecolor or mec: :mpltype:`color`\n",
      "    markeredgewidth or mew: float\n",
      "    markerfacecolor or mfc: :mpltype:`color`\n",
      "    markerfacecoloralt or mfcalt: :mpltype:`color`\n",
      "    markersize or ms: float\n",
      "    markevery: None or int or (int, int) or slice or list[int] or float or (float, float) or list[bool]\n",
      "    mouseover: bool\n",
      "    path_effects: list of `.AbstractPathEffect`\n",
      "    picker: float or callable[[Artist, Event], tuple[bool, dict]]\n",
      "    pickradius: float\n",
      "    rasterized: bool\n",
      "    sketch_params: (scale: float, length: float, randomness: float)\n",
      "    snap: bool or None\n",
      "    solid_capstyle: `.CapStyle` or {'butt', 'projecting', 'round'}\n",
      "    solid_joinstyle: `.JoinStyle` or {'miter', 'round', 'bevel'}\n",
      "    transform: unknown\n",
      "    url: str\n",
      "    visible: bool\n",
      "    xdata: 1D array\n",
      "    ydata: 1D array\n",
      "    zorder: float\n",
      "\n",
      "Notes\n",
      "-----\n",
      "\n",
      ".. note::\n",
      "\n",
      "    This is the :ref:`pyplot wrapper <pyplot_interface>` for `.axes.Axes.errorbar`.\n",
      "\u001b[0;31mFile:\u001b[0m      ~/.local/share/mamba/envs/datascience/lib/python3.13/site-packages/matplotlib/pyplot.py\n",
      "\u001b[0;31mType:\u001b[0m      function"
     ]
    }
   ],
   "source": [
    "?plt.errorbar"
   ]
  },
  {
   "cell_type": "markdown",
   "metadata": {},
   "source": [
    "__In the below box, make a plot of H0 vs. year with error-bars given by either `errplus` or `errminus`.  Use the `fmt=` keyword to draw the points as blue circles (it uses the same format coding as `plt.plot`).  You will want to use the `yerr=` keyword.__"
   ]
  },
  {
   "cell_type": "code",
   "execution_count": 41,
   "metadata": {},
   "outputs": [
    {
     "data": {
      "text/plain": [
       "(50.0, 80.0)"
      ]
     },
     "execution_count": 41,
     "metadata": {},
     "output_type": "execute_result"
    },
    {
     "data": {
      "image/png": "[encoded data removed]",
      "text/plain": [
       "<Figure size 640x480 with 1 Axes>"
      ]
     },
     "metadata": {},
     "output_type": "display_data"
    }
   ],
   "source": [
    "plt.errorbar(date,h0,yerr=errminus,fmt='bo')\n",
    "# minus_error=abs(errminus)\n",
    "# plus_error=abs(errplus)\n",
    "# yerr=[minus_error,plus_error]\n",
    "plt.xlim(2000,2025)\n",
    "plt.ylim(50,80)\n",
    "\n"
   ]
  },
  {
   "cell_type": "markdown",
   "metadata": {},
   "source": [
    "__Now, we want to modify the plot in the above code box to use asymmetric error bars.__  To do that, you provide a Python `list` of two arrays containg one error for each measurement; i.e., generically, `yerr = [minus_error,plus_error]` where `minus_error` is the length of the lower error bar and `plus_error` is the length of the upper.\n",
    "\n",
    "__Also, limit the plot x range to only show results from 2000 - 2010.__"
   ]
  },
  {
   "cell_type": "code",
   "execution_count": null,
   "metadata": {},
   "outputs": [
    {
     "data": {
      "text/plain": [
       "(30.0, 100.0)"
      ]
     },
     "execution_count": 43,
     "metadata": {},
     "output_type": "execute_result"
    },
    {
     "data": {
      "image/png": "[encoded data removed]",
      "text/plain": [
       "<Figure size 640x480 with 1 Axes>"
      ]
     },
     "metadata": {},
     "output_type": "display_data"
    }
   ],
   "source": [
    "plt.errorbar(date,h0,yerr=[errminus,errplus],fmt='bo')\n",
    "plt.xlim(2000,2012)\n",
    "plt.ylim(30,100)"
   ]
  },
  {
   "cell_type": "markdown",
   "metadata": {},
   "source": [
    "## Plotting histograms of $H_0$ values\n",
    "\n",
    "We want to compare the distributions of $H_0$ values from 1999-2001 (pre-Key Project release), 2001-2012, and 2012+.  \n",
    "\n",
    "__In the below code box, select measurements from each era and overplot histograms using different colors for each.  Use the `bins=` and/or `range=` keywords to ensure that the same binning is used for each sample, and make sure that your binning is fine enough to be able to see the shape of the histogram (the default of 10 bins is rarely appropriate). Be sure to include a legend!__\n",
    "\n",
    "If you read things in with pandas, you can use `np.where()` to get the indices in each array for a given date range, and then plot the corresponding values by slicing h0.iloc with those indices; e.g.:\n",
    "\n",
    "    wh90s = np.where( np.logical_and(date > 1990, date < 2000) )\n",
    "    plt.hist(h0.iloc[wh90s],bins=20)\n",
    "    \n",
    "Alternatively, you can use a boolean array to select the rows you want:\n",
    "\n",
    "    is90s = np.logical_and(date > 1990, date < 2000) \n",
    "    plt.hist(h0[is90s],bins=20)\n",
    "\n",
    "If you read things in as an astropy `Table` or `recarray`, you can use `np.where()` to get the indices, and then plot the corresponding values by slicing the h0 values with those indices; e.g.:\n",
    "\n",
    "    wh90s = np.where( np.logical_and(date > 1990, date < 2000) )\n",
    "    plt.hist(h0t[wh90s],bins=20)\n",
    "    \n",
    "    "
   ]
  },
  {
   "cell_type": "code",
   "execution_count": 54,
   "metadata": {},
   "outputs": [
    {
     "data": {
      "text/plain": [
       "(array([ 1.,  1.,  0.,  0.,  0.,  0.,  0.,  0.,  0.,  0.,  0.,  1.,  3.,\n",
       "        21., 16.,  9.,  8., 20.,  8.,  6.]),\n",
       " array([48.  , 49.45, 50.9 , 52.35, 53.8 , 55.25, 56.7 , 58.15, 59.6 ,\n",
       "        61.05, 62.5 , 63.95, 65.4 , 66.85, 68.3 , 69.75, 71.2 , 72.65,\n",
       "        74.1 , 75.55, 77.  ]),\n",
       " <BarContainer object of 20 artists>)"
      ]
     },
     "execution_count": 54,
     "metadata": {},
     "output_type": "execute_result"
    },
    {
     "data": {
      "image/png": "[encoded data removed]",
      "text/plain": [
       "<Figure size 640x480 with 1 Axes>"
      ]
     },
     "metadata": {},
     "output_type": "display_data"
    }
   ],
   "source": [
    "wh90s=np.where(np.logical_and(date>1990,date<2000))\n",
    "plt.hist(h0.iloc[wh90s],bins=20,alpha=0.25)\n",
    "wh10=np.where(np.logical_and(date>2000,date<2012))\n",
    "plt.hist(h0.iloc[wh10],bins=20,alpha=0.25)\n",
    "wh12=np.where(np.logical_and(date>2012,date<2024))\n",
    "plt.hist(h0.iloc[wh12],bins=20,alpha=0.25)\n"
   ]
  },
  {
   "cell_type": "markdown",
   "metadata": {},
   "source": [
    "# If you're waiting for other groups...\n",
    "\n",
    "- Try exploring the recarray version of the data (`data_table`) and applying its methods.\n",
    "\n",
    "- Matplotlib offers many customization options.  Check out http://matplotlib.org/users/customizing.html#dynamic-rc-settings for discussion of how to change the settings temporarily for a program (using `mpl.rc()`).  The example matplotlibrc file at the end of that page lists all the possible things to change; e.g. to change the linewidth (lines.linewidth in the matplotlibrc file) you would do \n",
    "\n",
    "    mpl.rc('lines',linewidth=2.0)\n",
    "    \n",
    "Try changing various line/font/etc. settings for your plots above.\n",
    "\n",
    "A good way to help make your plots prettier is to look at example code for the plots in the matplotlib gallery, https://matplotlib.org/stable/gallery/index.html .    "
   ]
  },
  {
   "cell_type": "markdown",
   "metadata": {},
   "source": [
    "# Bootstrap resampling\n",
    "\n",
    "In Python, one way to generate bootstraps, which works with numpy arrays but __not__ pandas series, is generating an array of random index numbers (i.e., sets of indices within the orignal array), and then addressing the original array we want to make bootstraps from with the array of index numbers.  Their shapes need not match.\n",
    "\n",
    "The easy way, though, is to use `numpy.random.choice()`.  __Check the documentation on this routine in the code box below.__\n",
    "\n",
    "If we want a one-dimensional array of samples, the `.sample()` method of a dataframe (or series) works. However, we want 2D, as we will create a set of `nbootstraps` new samples each of length `ndata`, so we couldn't use `Dataframe.sample()` without having to loop over the number of bootstrap samples.  \n",
    "\n",
    "Note that in general the default value of `replace=True` is what you want for bootstraps."
   ]
  },
  {
   "cell_type": "code",
   "execution_count": null,
   "metadata": {},
   "outputs": [],
   "source": []
  },
  {
   "cell_type": "code",
   "execution_count": 18,
   "metadata": {},
   "outputs": [],
   "source": [
    "hdata=h0[date > 2001]\n",
    "ndata=len(hdata)\n",
    "nbootstraps=int(1E4)\n",
    "\n",
    "# The below code would work if we used astropy, but not pandas.  \n",
    "#bootidx=np.floor((random.rand(nbootstraps,ndata)*ndata))\n",
    "#bootidx=bootidx.astype(int)\n",
    "#hboot=hdata[bootidx]\n",
    "\n",
    "# this works in pandas:\n",
    "hboot=np.random.choice(hdata,(nbootstraps,ndata))\n"
   ]
  },
  {
   "cell_type": "markdown",
   "metadata": {},
   "source": [
    "In the code box below, \n",
    "\n",
    "__1) determine the minimum and maximum values in hdata and in hboot__\n",
    "\n",
    "__2) Plot a histogram of the values in `np.ravel(hboot)`__\n",
    "\n",
    "__3) Determine the dimensions of hboot using `np.shape()`__"
   ]
  },
  {
   "cell_type": "code",
   "execution_count": null,
   "metadata": {},
   "outputs": [
    {
     "name": "stdout",
     "output_type": "stream",
     "text": [
      "31.0 91.0\n",
      "(10000, 225)\n"
     ]
    },
    {
     "data": {
      "image/png": "[encoded data removed]",
      "text/plain": [
       "<Figure size 640x480 with 1 Axes>"
      ]
     },
     "metadata": {},
     "output_type": "display_data"
    }
   ],
   "source": [
    "print(np.min(hdata),np.max(hdata))\n",
    "plt.hist(np.ravel(hboot),bins=30)\n",
    "print(np.shape(hboot))"
   ]
  },
  {
   "cell_type": "markdown",
   "metadata": {},
   "source": [
    "### Using the bootstrap simulations\n",
    "\n",
    "We can, for instance, compute the standard deviation of the mean for `hdata` by determining the standard deviation of the mean values we compute from each bootstrap realization; but we could do this for any other statistic, too.  __Compare the standard deviation of the mean & of the median to what you'd expect for the standard error, using the code box below.__"
   ]
  },
  {
   "cell_type": "code",
   "execution_count": 62,
   "metadata": {},
   "outputs": [
    {
     "name": "stdout",
     "output_type": "stream",
     "text": [
      "the mean and median of the means are 68.25907005333333 and 68.26697777777778\n",
      "The mean and median of hdata are 68.25724444444445 and 70.0\n",
      "Std of the means and medians are 0.5022444193041472 0.4851656940510118\n",
      "median of medians 70.0\n"
     ]
    }
   ],
   "source": [
    "err_predicted=np.std(hdata)/np.sqrt(ndata)\n",
    "\n",
    "# compare to the standard deviation amongst the means, or amongst the medians, of each bootstrap sample:\n",
    "means=np.zeros(nbootstraps)\n",
    "\n",
    "# the slow way\n",
    "for i in np.arange(nbootstraps):\n",
    "    means[i]=np.mean(hboot[i,:])\n",
    "    \n",
    "# the fast way    \n",
    "medians = np.median(hboot,axis=1)    \n",
    "print('the mean and median of the means are',np.mean(means),'and',np.median(means))\n",
    "print('The mean and median of hdata are',np.mean(hdata),'and',np.median(hdata))\n",
    "print('Std of the means and medians are',np.std(means),np.std(medians))\n",
    "print('median of medians',np.median(medians))\n"
   ]
  },
  {
   "cell_type": "markdown",
   "metadata": {},
   "source": [
    "So, the mean of the means is really close to the real data's mean. "
   ]
  },
  {
   "cell_type": "markdown",
   "metadata": {},
   "source": [
    "__What do the distributions look like?  Plot the histograms of both means and medians and compare (use a bin size of 0.1).  Discuss with your group: why do these look different from each other?__\n"
   ]
  },
  {
   "cell_type": "code",
   "execution_count": 69,
   "metadata": {},
   "outputs": [
    {
     "data": {
      "text/plain": [
       "(array([0.000e+00, 0.000e+00, 0.000e+00, 0.000e+00, 0.000e+00, 0.000e+00,\n",
       "        0.000e+00, 0.000e+00, 0.000e+00, 0.000e+00, 0.000e+00, 0.000e+00,\n",
       "        0.000e+00, 0.000e+00, 0.000e+00, 0.000e+00, 0.000e+00, 0.000e+00,\n",
       "        0.000e+00, 0.000e+00, 0.000e+00, 0.000e+00, 0.000e+00, 0.000e+00,\n",
       "        0.000e+00, 0.000e+00, 0.000e+00, 0.000e+00, 0.000e+00, 0.000e+00,\n",
       "        7.000e+00, 3.000e+00, 0.000e+00, 1.000e+01, 0.000e+00, 2.600e+01,\n",
       "        0.000e+00, 2.300e+01, 3.700e+01, 1.070e+02, 8.030e+02, 2.440e+02,\n",
       "        2.690e+02, 0.000e+00, 0.000e+00, 3.350e+02, 8.160e+02, 4.830e+02,\n",
       "        1.032e+03, 0.000e+00, 4.574e+03, 0.000e+00, 0.000e+00, 2.330e+02,\n",
       "        0.000e+00, 2.100e+02, 1.690e+02, 0.000e+00, 0.000e+00, 0.000e+00,\n",
       "        6.060e+02, 3.000e+00, 0.000e+00, 6.000e+00, 0.000e+00, 0.000e+00,\n",
       "        0.000e+00, 0.000e+00, 2.000e+00, 1.000e+00, 1.000e+00, 0.000e+00,\n",
       "        0.000e+00, 0.000e+00, 0.000e+00, 0.000e+00, 0.000e+00, 0.000e+00,\n",
       "        0.000e+00, 0.000e+00, 0.000e+00, 0.000e+00, 0.000e+00, 0.000e+00,\n",
       "        0.000e+00, 0.000e+00, 0.000e+00, 0.000e+00, 0.000e+00, 0.000e+00,\n",
       "        0.000e+00, 0.000e+00, 0.000e+00, 0.000e+00, 0.000e+00, 0.000e+00,\n",
       "        0.000e+00, 0.000e+00, 0.000e+00]),\n",
       " array([65. , 65.1, 65.2, 65.3, 65.4, 65.5, 65.6, 65.7, 65.8, 65.9, 66. ,\n",
       "        66.1, 66.2, 66.3, 66.4, 66.5, 66.6, 66.7, 66.8, 66.9, 67. , 67.1,\n",
       "        67.2, 67.3, 67.4, 67.5, 67.6, 67.7, 67.8, 67.9, 68. , 68.1, 68.2,\n",
       "        68.3, 68.4, 68.5, 68.6, 68.7, 68.8, 68.9, 69. , 69.1, 69.2, 69.3,\n",
       "        69.4, 69.5, 69.6, 69.7, 69.8, 69.9, 70. , 70.1, 70.2, 70.3, 70.4,\n",
       "        70.5, 70.6, 70.7, 70.8, 70.9, 71. , 71.1, 71.2, 71.3, 71.4, 71.5,\n",
       "        71.6, 71.7, 71.8, 71.9, 72. , 72.1, 72.2, 72.3, 72.4, 72.5, 72.6,\n",
       "        72.7, 72.8, 72.9, 73. , 73.1, 73.2, 73.3, 73.4, 73.5, 73.6, 73.7,\n",
       "        73.8, 73.9, 74. , 74.1, 74.2, 74.3, 74.4, 74.5, 74.6, 74.7, 74.8,\n",
       "        74.9]),\n",
       " <BarContainer object of 99 artists>)"
      ]
     },
     "execution_count": 69,
     "metadata": {},
     "output_type": "execute_result"
    },
    {
     "data": {
      "image/png": "[encoded data removed]",
      "text/plain": [
       "<Figure size 640x480 with 1 Axes>"
      ]
     },
     "metadata": {},
     "output_type": "display_data"
    }
   ],
   "source": [
    "bins=np.arange(65,75,0.1)\n",
    "plt.hist(means,bins=bins)\n",
    "plt.hist(medians,bins=bins,alpha=0.5)\n",
    "# plt.hist(hdata)"
   ]
  },
  {
   "cell_type": "markdown",
   "metadata": {},
   "source": [
    "the median is robust to outliers.\n",
    "the distribution of medians kinda looks like the original distribution?\n"
   ]
  },
  {
   "cell_type": "code",
   "execution_count": null,
   "metadata": {},
   "outputs": [],
   "source": []
  },
  {
   "cell_type": "markdown",
   "metadata": {},
   "source": [
    "# Percentiles and Sorting\n",
    "\n",
    "3 examples of ways to get a 95% range for the median:"
   ]
  },
  {
   "cell_type": "code",
   "execution_count": 71,
   "metadata": {},
   "outputs": [
    {
     "name": "stdout",
     "output_type": "stream",
     "text": [
      "[69. 71.]\n",
      "69.0 71.0\n",
      "69.0 71.0\n"
     ]
    }
   ],
   "source": [
    "# use np.percentile\n",
    "print( np.percentile(medians, [2.5, 97.5]) )\n",
    "\n",
    "# use np.sort to create a sorted array\n",
    "sortmedians = np.sort(medians)\n",
    "print( sortmedians[int(0.025*nbootstraps)],sortmedians[int(0.975*nbootstraps)] )\n",
    "\n",
    "#use np.argsort to get an array of indices that sort the medians array\n",
    "sortidx=np.argsort(medians)\n",
    "print( medians[sortidx[int(0.025*nbootstraps)]], medians[sortidx[int(0.975*nbootstraps)]] )\n"
   ]
  },
  {
   "cell_type": "markdown",
   "metadata": {},
   "source": [
    "__Now, using one of these methods, determine a 95% confidence interval for H0 from the means of each bootstrap sample.__"
   ]
  },
  {
   "cell_type": "code",
   "execution_count": 74,
   "metadata": {},
   "outputs": [
    {
     "name": "stdout",
     "output_type": "stream",
     "text": [
      "67.26946666666666 69.21568888888888\n",
      "67.26946666666666 69.21568888888888\n",
      "[67.26940333 69.21495222]\n"
     ]
    }
   ],
   "source": [
    "sortmeans = np.sort(means)\n",
    "print( sortmeans[int(0.025*nbootstraps)],sortmeans[int(0.975*nbootstraps)] )\n",
    "sortidm=np.argsort(means)\n",
    "print( means[sortidm[int(0.025*nbootstraps)]], means[sortidm[int(0.975*nbootstraps)]] )\n",
    "print( np.percentile(means, [2.5, 97.5]) )"
   ]
  },
  {
   "cell_type": "markdown",
   "metadata": {},
   "source": [
    "# Smoothed bootstraps\n",
    "\n",
    "We can get nicer-looking distributions of bootstrap results by adding a modest amount of noise to the data generated from bootstrapping.  Example: add N(0,1) noise to our H0 bootstraps:"
   ]
  },
  {
   "cell_type": "code",
   "execution_count": 75,
   "metadata": {},
   "outputs": [],
   "source": [
    "sboot=hboot+random.randn(nbootstraps,ndata)\n",
    "smeans = np.mean(sboot,axis=1) \n",
    "smedians=np.median(sboot,axis=1) "
   ]
  },
  {
   "cell_type": "markdown",
   "metadata": {},
   "source": []
  },
  {
   "cell_type": "markdown",
   "metadata": {},
   "source": [
    "__Overplot histograms of the `medians` and `smedians` arrays using the same binning for each.  Then, determine 95% confidence regions for the smoothed mean and smoothed median, and compare to your values from above.__"
   ]
  },
  {
   "cell_type": "code",
   "execution_count": 83,
   "metadata": {},
   "outputs": [
    {
     "name": "stdout",
     "output_type": "stream",
     "text": [
      "[68.88955891 70.78923149]\n"
     ]
    },
    {
     "data": {
      "image/png": "[encoded data removed]",
      "text/plain": [
       "<Figure size 640x480 with 1 Axes>"
      ]
     },
     "metadata": {},
     "output_type": "display_data"
    }
   ],
   "source": [
    "bins=np.arange(65,75,0.1)\n",
    "plt.hist(smedians,bins=bins)\n",
    "plt.hist(medians,bins=bins,alpha=0.5)\n",
    "print( np.percentile(smedians, [2.5, 97.5]) )\n",
    "# plt.hist(smeans,bins=bins,alpha=0.5)"
   ]
  },
  {
   "cell_type": "code",
   "execution_count": 80,
   "metadata": {},
   "outputs": [
    {
     "data": {
      "text/plain": [
       "(array([  0.,   0.,   0.,   0.,   0.,   0.,   0.,   0.,   0.,   0.,   0.,\n",
       "          0.,   2.,   2.,   2.,   3.,   2.,  12.,  14.,  35.,  47.,  55.,\n",
       "        123., 161., 217., 296., 395., 485., 554., 588., 702., 737., 860.,\n",
       "        783., 706., 660., 637., 517., 416., 307., 238., 175., 114.,  67.,\n",
       "         35.,  25.,   9.,   9.,   6.,   2.,   1.,   0.,   0.,   1.,   0.,\n",
       "          0.,   0.,   0.,   0.,   0.,   0.,   0.,   0.,   0.,   0.,   0.,\n",
       "          0.,   0.,   0.,   0.,   0.,   0.,   0.,   0.,   0.,   0.,   0.,\n",
       "          0.,   0.,   0.,   0.,   0.,   0.,   0.,   0.,   0.,   0.,   0.,\n",
       "          0.,   0.,   0.,   0.,   0.,   0.,   0.,   0.,   0.,   0.,   0.]),\n",
       " array([65. , 65.1, 65.2, 65.3, 65.4, 65.5, 65.6, 65.7, 65.8, 65.9, 66. ,\n",
       "        66.1, 66.2, 66.3, 66.4, 66.5, 66.6, 66.7, 66.8, 66.9, 67. , 67.1,\n",
       "        67.2, 67.3, 67.4, 67.5, 67.6, 67.7, 67.8, 67.9, 68. , 68.1, 68.2,\n",
       "        68.3, 68.4, 68.5, 68.6, 68.7, 68.8, 68.9, 69. , 69.1, 69.2, 69.3,\n",
       "        69.4, 69.5, 69.6, 69.7, 69.8, 69.9, 70. , 70.1, 70.2, 70.3, 70.4,\n",
       "        70.5, 70.6, 70.7, 70.8, 70.9, 71. , 71.1, 71.2, 71.3, 71.4, 71.5,\n",
       "        71.6, 71.7, 71.8, 71.9, 72. , 72.1, 72.2, 72.3, 72.4, 72.5, 72.6,\n",
       "        72.7, 72.8, 72.9, 73. , 73.1, 73.2, 73.3, 73.4, 73.5, 73.6, 73.7,\n",
       "        73.8, 73.9, 74. , 74.1, 74.2, 74.3, 74.4, 74.5, 74.6, 74.7, 74.8,\n",
       "        74.9]),\n",
       " <BarContainer object of 99 artists>)"
      ]
     },
     "execution_count": 80,
     "metadata": {},
     "output_type": "execute_result"
    },
    {
     "data": {
      "image/png": "[encoded data removed]",
      "text/plain": [
       "<Figure size 640x480 with 1 Axes>"
      ]
     },
     "metadata": {},
     "output_type": "display_data"
    }
   ],
   "source": [
    "plt.hist(smeans,bins=bins,alpha=0.5)\n",
    "plt.hist(means,bins=bins,alpha=0.5)"
   ]
  },
  {
   "cell_type": "code",
   "execution_count": null,
   "metadata": {},
   "outputs": [],
   "source": []
  }
 ],
 "metadata": {
  "anaconda-cloud": {},
  "kernelspec": {
   "display_name": "datascience",
   "language": "python",
   "name": "python3"
  },
  "language_info": {
   "codemirror_mode": {
    "name": "ipython",
    "version": 3
   },
   "file_extension": ".py",
   "mimetype": "text/x-python",
   "name": "python",
   "nbconvert_exporter": "python",
   "pygments_lexer": "ipython3",
   "version": "3.13.1"
  }
 },
 "nbformat": 4,
 "nbformat_minor": 1
}
