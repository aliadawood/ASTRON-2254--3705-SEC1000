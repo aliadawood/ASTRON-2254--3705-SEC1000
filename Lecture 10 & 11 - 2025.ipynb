{
 "cells": [
  {
   "cell_type": "code",
   "execution_count": 27,
   "metadata": {},
   "outputs": [],
   "source": [
    "%matplotlib inline   \n",
    "                     # this sets up matplotlib to make plots show up in the notebook\n",
    "import numpy as np   # imports the numpy package, abbreviated as np\n",
    "import matplotlib    # imports the matplotlib package for making plots\n",
    "import matplotlib.pyplot as plt    # imports the part of matplotlib we use most,\n",
    "                                   #abbreviated as plt\n",
    "import scipy.stats as stats\n",
    "import astropy.stats as astats\n",
    "import numpy.random as random"
   ]
  },
  {
   "cell_type": "markdown",
   "metadata": {},
   "source": [
    "# Results when averaging data together"
   ]
  },
  {
   "cell_type": "code",
   "execution_count": 28,
   "metadata": {},
   "outputs": [],
   "source": [
    "nsims=int(1E5)\n",
    "navg=100\n",
    "data=random.randn(nsims,navg)\n",
    "\n",
    "# average each set of navg values\n",
    "means=np.mean(data,axis=1)"
   ]
  },
  {
   "cell_type": "markdown",
   "metadata": {},
   "source": [
    "- Using the below code block, __plot a histogram of the distribution of the means from each simulation, with binsize 0.01, over the range from -2 to +2 (what should you set the `bins` and `range` keywords to be for that?)__\n",
    "\n",
    "- __Determine the standard deviation of the array of means.__"
   ]
  },
  {
   "cell_type": "code",
   "execution_count": null,
   "metadata": {},
   "outputs": [],
   "source": []
  },
  {
   "cell_type": "markdown",
   "metadata": {},
   "source": [
    "- Now, in the same code box, also __create a second set of simulations with `navg` = 9.  Plot the histogram of averaging the results from these simulations on top of the histogram for averaging 100 measurements, and calculate the standard deviation of the new array of means.__\n",
    "\n",
    "\n",
    "\n",
    "- __Discuss with your group: How do you explain the differences between the results (both qualitatively and quantitatively)? How does the scatter of the means scale with `navg`?__"
   ]
  },
  {
   "cell_type": "code",
   "execution_count": null,
   "metadata": {},
   "outputs": [],
   "source": []
  },
  {
   "cell_type": "code",
   "execution_count": null,
   "metadata": {},
   "outputs": [],
   "source": []
  },
  {
   "cell_type": "markdown",
   "metadata": {},
   "source": [
    "# Determining the Asymptotic Relative Efficiency of the median\n",
    "\n",
    "__Run the code in the below box repeatedly; what is the ratio of standard deviations of the medians vs. the means?__  \n",
    "\n",
    "__Discuss with your group: What does this imply about the sample size needed for the standard deviation of the median to match the standard deviation of the mean?__"
   ]
  },
  {
   "cell_type": "code",
   "execution_count": 29,
   "metadata": {},
   "outputs": [
    {
     "name": "stdout",
     "output_type": "stream",
     "text": [
      "std. dev. of the means: 0.0141\n",
      "std. dev. of the medians: 0.0177\n",
      "ratio of std. devs.: 1.2504\n"
     ]
    }
   ],
   "source": [
    "nsims=int(1E4)\n",
    "navg=int(5E3)\n",
    "data=random.randn(nsims,navg)\n",
    "means=np.mean(data,axis=1)\n",
    "medians=np.median(data,axis=1)\n",
    "\n",
    "print(f'std. dev. of the means: {np.std(means,ddof=1):.4f}')\n",
    "print(f'std. dev. of the medians: {np.std(medians,ddof=1):.4f}')\n",
    "\n",
    "print(f'ratio of std. devs.: {np.std(medians,ddof=1)/ np.std(means,ddof=1):.4f}')\n"
   ]
  },
  {
   "cell_type": "markdown",
   "metadata": {},
   "source": [
    "Slide 21 lecture 10"
   ]
  },
  {
   "cell_type": "markdown",
   "metadata": {},
   "source": [
    "# Examples of applying robust statistics\n",
    "\n",
    "For convenience, let's define two functions: `hlmean` and `mode2`."
   ]
  },
  {
   "cell_type": "code",
   "execution_count": 30,
   "metadata": {},
   "outputs": [],
   "source": [
    "\n",
    "def hlmean(data,nsamp=-1):\n",
    "    # PURPOSE:\n",
    "    #\n",
    "    #  Calculate Hodges-Lehmann estimator of mean, using nsamp\n",
    "    #   bootstraps from the data\n",
    "    #\n",
    "    # The Hodges-Lehmann estimator is, formally, the median value of\n",
    "    #  (x_i+x_j)/2 over all pairs of indices i,j .\n",
    "    # Here, we estimate that quantity using nsamp randomly chosen values\n",
    "    # of i & j, rather than using all possible values.\n",
    "    #\n",
    "    # Although it has much of the robustness of an ordinary median, the\n",
    "    # H-L estimator yields much smaller errors (equivalent to the mean of\n",
    "    # >96% as much data, while the median has errors equivalent to the\n",
    "    # standard error of 64% as much data).\n",
    "    #\n",
    "    # CALLING SEQUENCE:\n",
    "    #\n",
    "    #  result=hlmean(data [,nsamp=nsamp])\n",
    "    #\n",
    "    # INPUTS:\n",
    "    #\n",
    "    #  data: array of values to calculate the H-L mean of\n",
    "    #\n",
    "    # OPTIONAL KEYWORD PARAMETERS:\n",
    "    #\n",
    "    #  nsamp= : if set, hlmean will use this number of bootstrap\n",
    "    #  samples to do the calculation.  If not set, it will use a number of random pairs equal to\n",
    "    #  50 times the number of elements of the data array\n",
    "    #\n",
    "    # OUTPUTS:\n",
    "    #\n",
    "    #  result: sampling-derived estimate of the H-L mean estimator\n",
    "    #\n",
    "    # EXAMPLE:\n",
    "    #    test=[1,2,0,1,2,20.]\n",
    "    #    print hlmean(test)\n",
    "    \n",
    "    ndata=len(data)\n",
    "    \n",
    "    # if the number of samples has not been provided, set it to 50*the size of the data array\n",
    "    \n",
    "    if nsamp < 0:\n",
    "        nsamp=50.*ndata\n",
    "    nsamp=int(nsamp)\n",
    "\n",
    "# create resampled version of original data\n",
    "    newdata = np.random.choice(data,size=(nsamp,2))\n",
    "    \n",
    "    # average x1 + x2 from each random draw\n",
    "    mn = (newdata[:,0]+newdata[:,1])/2.\n",
    "    \n",
    "    # calculate the median of the averages\n",
    "    return(np.median(mn))\n"
   ]
  },
  {
   "cell_type": "code",
   "execution_count": 31,
   "metadata": {},
   "outputs": [],
   "source": [
    "def mode2(data,**kwargs):\n",
    "# note: provide bins and (optionally) range keywords to not use\n",
    "# defaults of np.histogram (10 bins, full range)\n",
    "    counts,edges=np.histogram(data,**kwargs)\n",
    "    whmax=np.argmax(counts)\n",
    "    mode=(edges[whmax]+edges[whmax+1])/2\n",
    "    return(mode)"
   ]
  },
  {
   "cell_type": "markdown",
   "metadata": {},
   "source": [
    "## Trying different statistics for location\n",
    "\n",
    "Now, let's generate $10^5$ values from a standard normal distribution, and compare various statistics for the location of the sample.  __What value do you expect here?  Which statistics come closest? Compare results with your neighbors!__"
   ]
  },
  {
   "cell_type": "code",
   "execution_count": 32,
   "metadata": {},
   "outputs": [],
   "source": [
    "ndata=int(1E5)\n",
    "data=random.randn(ndata)\n"
   ]
  },
  {
   "cell_type": "code",
   "execution_count": 33,
   "metadata": {},
   "outputs": [
    {
     "name": "stdout",
     "output_type": "stream",
     "text": [
      "Mean: 0.0012\n",
      "Median: 0.0057\n",
      "Mode: 0.0350\n",
      "H-L mean: 0.0025\n",
      "\n",
      "10% Trimmed mean: 0.0030\n",
      "Sigma-clipped: 0.0025\n",
      "\n",
      "Winsorized: 0.0024\n",
      "Biweight: 0.0040\n"
     ]
    }
   ],
   "source": [
    "print(f'Mean: {data.mean():.4f}')\n",
    "print(f'Median: {np.median(data):.4f}')\n",
    "print(f'Mode: {mode2(data,bins=np.linspace(-10,10,2001)):.4f}')\n",
    "print(f'H-L mean: {hlmean(data):.4f}')\n",
    "print()\n",
    "\n",
    "limits=np.percentile(data,(10,90))\n",
    "print(f'10% Trimmed mean: {stats.tmean(data,limits=limits):.4f}')\n",
    "\n",
    "clipped_data,low_threshold,high_threshold =  \\\n",
    "    stats.sigmaclip(data,low=3.,high=3.)\n",
    "\n",
    "print(f'Sigma-clipped: {np.mean(clipped_data):.4f}')\n",
    "\n",
    "print()\n",
    "winsor_data = stats.mstats.winsorize(data,limits=(.1,.1))\n",
    "print(f'Winsorized: {np.mean(winsor_data):.4f}')\n",
    "print(f'Biweight: {astats.biweight_location(data):.4f}')"
   ]
  },
  {
   "cell_type": "markdown",
   "metadata": {},
   "source": [
    "## Trying different statistics for scale\n",
    "\n",
    "Now, let's generate $10^5$ values from a standard normal distribution, and compare various statistics for the scale (e.g., standard deviation) of the sample.  __What value do you expect here?  Which statistics come closest? Compare results with your group!__"
   ]
  },
  {
   "cell_type": "code",
   "execution_count": 34,
   "metadata": {},
   "outputs": [],
   "source": [
    "ndata=int(5E5)\n",
    "data=random.randn(ndata)\n"
   ]
  },
  {
   "cell_type": "code",
   "execution_count": 35,
   "metadata": {},
   "outputs": [
    {
     "name": "stdout",
     "output_type": "stream",
     "text": [
      "Standard deviation: 0.9998\n",
      "Normalized Mean Absolute Deviation: 1.00028\n",
      "Normalized Median Absolute Deviation: 1.00113\n",
      "Normalized IQR: 1.00115\n",
      "\n",
      "10% Trimmed Standard Deviation: 0.6619\n",
      "Norm. 10% Trimmed Standard Deviation: 0.9995\n",
      "\n",
      "Winsorized standard deviation: 0.8235\n",
      "Norm. Winsorized standard deviation: 0.9964\n",
      "\n",
      "Sigma-clipped standard deviation: 0.9844\n",
      "Norm. Sigma-clipped standard deviation: 0.9992\n",
      "\n",
      "Biweight standard deviation: 1.0091\n",
      "Norm. Biweight standard deviation: 0.9990\n"
     ]
    }
   ],
   "source": [
    "# note the need for correction factors to get estimates\n",
    "# of the Gaussian sigma!\n",
    "\n",
    "# the standard...\n",
    "print(f'Standard deviation: {data.std():.4f}')\n",
    "\n",
    "# average absolute deviation\n",
    "normavgabsdev = np.mean(np.abs(data-data.mean()))/0.7979\n",
    "print(f'Normalized Mean Absolute Deviation: {normavgabsdev:.5f}')\n",
    "\n",
    "# median absolute deviation\n",
    "# we coded this by hand before, but it's also available in scipy.stats\n",
    "# including option to scale to sigma equivalent\n",
    "normmad = stats.median_abs_deviation(data,scale='normal')\n",
    "print(f'Normalized Median Absolute Deviation: {normmad:.5f}')\n",
    "\n",
    "# IQR\n",
    "# we did this with np.percentile before, \n",
    "# but it's also available in scipy.stats\n",
    "# including option to scale to sigma equivalent\n",
    "normiqr = stats.iqr(data,scale='normal')\n",
    "print(f'Normalized IQR: {normiqr:.5f}')\n",
    "\n",
    "print()\n",
    "\n",
    "# 10% Trimmed standard deviation\n",
    "# Note: here and below, the scale factors for normalization were determined\n",
    "# just by calculating statistics for samples with very large N\n",
    "limits=np.percentile(data,(10,90))\n",
    "print(f'10% Trimmed Standard Deviation: {stats.tstd(data,limits=limits):.4f}')\n",
    "print(f'Norm. 10% Trimmed Standard Deviation: {stats.tstd(data,limits=limits)*1.51:.4f}')\n",
    "print()\n",
    "\n",
    "\n",
    "# 10% winsorized standard deviation\n",
    "winsor_data = stats.mstats.winsorize(data,limits=(.1,.1))\n",
    "print(f'Winsorized standard deviation: {np.std(winsor_data):.4f}')\n",
    "print(f'Norm. Winsorized standard deviation: {np.std(winsor_data)*1.21:.4f}')\n",
    "print()\n",
    "\n",
    "# note that the scale factor needed is smaller if we winsorize rather than trim\n",
    "\n",
    "\n",
    "# 3-sigma-clipped standard deviation\n",
    "clipped_data,low_threshold,high_threshold = stats.sigmaclip(data,low=3.,high=3.)\n",
    "\n",
    "print(f'Sigma-clipped standard deviation: {np.std(clipped_data):.4f}')\n",
    "print(f'Norm. Sigma-clipped standard deviation: {np.std(clipped_data)*1.015:.4f}')\n",
    "print()\n",
    "\n",
    "\n",
    "\n",
    "# biweight standard deviation\n",
    "print(f'Biweight standard deviation: {np.sqrt(astats.biweight_midvariance(data)):.4f}')\n",
    "print(f'Norm. Biweight standard deviation: {np.sqrt(astats.biweight_midvariance(data))*0.99:.4f}')\n",
    "\n",
    "\n"
   ]
  },
  {
   "cell_type": "code",
   "execution_count": null,
   "metadata": {},
   "outputs": [],
   "source": []
  },
  {
   "cell_type": "markdown",
   "metadata": {},
   "source": [
    "# Doing a more complicated Monte Carlo\n",
    "\n",
    "Consider a mixture of two Gaussians: a fraction  $(1-f_{outlier})$  of objects are distributed as $N(3150,930^2)$, and a fraction $f_{outlier}$ are distributed as $N(4750,200^2)$.  We can implement this by randomly selecting objects as outliers with probability $f_{outlier}$, and assigning random values according to whether they are an outlier or not."
   ]
  },
  {
   "cell_type": "code",
   "execution_count": 36,
   "metadata": {},
   "outputs": [],
   "source": [
    "nsims=int(5E4)\n",
    "ndata=100\n",
    "foutlier=0.1\n",
    "\n",
    "isoutlier=random.rand(nsims,ndata) < foutlier\n",
    "\n",
    "fakedata=(1-isoutlier)*(random.randn(nsims,ndata)*930.+3150) \\\n",
    "+ (isoutlier)*(random.randn(nsims,ndata)*200.+4750)\n"
   ]
  },
  {
   "cell_type": "markdown",
   "metadata": {},
   "source": [
    "__In the code box below, plot a histogram of the full set of fake data; and then choose one single simulation and plot the histogram for it. Use a bin size of 100 km/s.__  \n",
    "\n",
    "__Note__: To plot histograms of a multi-dimensional array, use `np.ravel(arrayname)`, not just `arrayname`, in the call to `plt.hist`.  That routine causes Python to treat the array as one-dimensional.  "
   ]
  },
  {
   "cell_type": "code",
   "execution_count": 37,
   "metadata": {},
   "outputs": [
    {
     "data": {
      "text/plain": [
       "(array([0.    , 0.    , 0.    , 0.    , 0.    , 0.    , 0.    , 0.    ,\n",
       "        0.    , 0.    , 0.    , 0.    , 0.    , 0.    , 0.    , 0.    ,\n",
       "        0.    , 0.    , 0.    , 0.    , 0.    , 0.    , 0.    , 0.    ,\n",
       "        0.    , 0.    , 0.    , 0.    , 0.0001, 0.    , 0.    , 0.    ,\n",
       "        0.    , 0.    , 0.    , 0.    , 0.0001, 0.    , 0.    , 0.0002,\n",
       "        0.0002, 0.0003, 0.0004, 0.0001, 0.0003, 0.0003, 0.0003, 0.0005,\n",
       "        0.0006, 0.0005, 0.0004, 0.0002, 0.0004, 0.0004, 0.0002, 0.0004,\n",
       "        0.0005, 0.0006, 0.0003, 0.0003, 0.0002, 0.0002, 0.0004, 0.0004,\n",
       "        0.0003, 0.    , 0.0002, 0.0001, 0.0002, 0.    , 0.0003, 0.    ,\n",
       "        0.0001, 0.    , 0.    , 0.    , 0.    , 0.    , 0.    , 0.    ,\n",
       "        0.    , 0.    , 0.    , 0.    , 0.    , 0.    , 0.    , 0.    ,\n",
       "        0.    , 0.    , 0.    , 0.    , 0.    , 0.    , 0.    , 0.    ,\n",
       "        0.    , 0.    , 0.    ]),\n",
       " array([-2000., -1900., -1800., -1700., -1600., -1500., -1400., -1300.,\n",
       "        -1200., -1100., -1000.,  -900.,  -800.,  -700.,  -600.,  -500.,\n",
       "         -400.,  -300.,  -200.,  -100.,     0.,   100.,   200.,   300.,\n",
       "          400.,   500.,   600.,   700.,   800.,   900.,  1000.,  1100.,\n",
       "         1200.,  1300.,  1400.,  1500.,  1600.,  1700.,  1800.,  1900.,\n",
       "         2000.,  2100.,  2200.,  2300.,  2400.,  2500.,  2600.,  2700.,\n",
       "         2800.,  2900.,  3000.,  3100.,  3200.,  3300.,  3400.,  3500.,\n",
       "         3600.,  3700.,  3800.,  3900.,  4000.,  4100.,  4200.,  4300.,\n",
       "         4400.,  4500.,  4600.,  4700.,  4800.,  4900.,  5000.,  5100.,\n",
       "         5200.,  5300.,  5400.,  5500.,  5600.,  5700.,  5800.,  5900.,\n",
       "         6000.,  6100.,  6200.,  6300.,  6400.,  6500.,  6600.,  6700.,\n",
       "         6800.,  6900.,  7000.,  7100.,  7200.,  7300.,  7400.,  7500.,\n",
       "         7600.,  7700.,  7800.,  7900.]),\n",
       " <BarContainer object of 99 artists>)"
      ]
     },
     "execution_count": 37,
     "metadata": {},
     "output_type": "execute_result"
    },
    {
     "data": {
      "image/png": "[encoded data removed]",
      "text/plain": [
       "<Figure size 640x480 with 1 Axes>"
      ]
     },
     "metadata": {},
     "output_type": "display_data"
    }
   ],
   "source": [
    "plt.hist(np.ravel(fakedata),bins=np.linspace(-5000,5000,100),density=True)\n",
    "plt.hist(np.ravel(fakedata[3,:]),bins=np.arange(-2000,8000,100),alpha=0.5,label='one single simulation',density=True)"
   ]
  },
  {
   "cell_type": "markdown",
   "metadata": {},
   "source": [
    "# Interpreting error estimates\n",
    "\n",
    "Frequentist statistics focuses on what will be observed, given an assumed truth.  Let's consider two possible interpretations:\n",
    "\n",
    "- 68.3% of the time we do an experiment like this, the true mean will lie between $m-\\hat{\\sigma_{<x>}}$ and $m+\\hat{\\sigma_{<x>}}$, where $m$ is the observed mean and $\\hat{\\sigma_{<x>}}$ is the sample standard deviation of the mean determined from the data, as $\\sigma_x \\over \\sqrt{n}$; or\n",
    "- 68.3% of the time we do an experiment like this, the true mean will lie between $m-{\\sigma_{<x>}}$ and $m+{\\sigma_{<x>}}$, where $\\sigma_{{<x>}}$ is the standard error we would calculate with perfect knowledge of the distribution, as $\\sigma \\over \\sqrt{n}$.\n",
    "\n",
    "Let's test this out with simulations of measuring the mean of 10 or 100 measurements drawn from $N(0,1)$."
   ]
  },
  {
   "cell_type": "code",
   "execution_count": 38,
   "metadata": {},
   "outputs": [],
   "source": [
    "# simulating averaging 10 measurements, 100_000 times\n",
    "nsims=int(1E5)\n",
    "ndata=10\n",
    "data=random.randn(nsims,ndata) \n",
    "\n",
    "means = np.mean(data,axis = 1)  # mean of each set of 10 measurements\n",
    "sample_std=np.std(data,axis=1)   # standard deviation of each set of 10 measurements. \n",
    "# Note that the axis= keyword works with np.std! Do ?np.std for details.\n",
    "\n",
    "# sample standard errors determined from each random dataset\n",
    "sample_serr=sample_std/np.sqrt(ndata) \n",
    "\n",
    "# standard error calculated knowing the actual distribution has sigma=1\n",
    "true_serr=1/np.sqrt(ndata)        \n",
    "\n"
   ]
  },
  {
   "cell_type": "markdown",
   "metadata": {},
   "source": [
    "__Using the below code box, plot the histograms of `means` and `sample_std` (as separate figures).  Are they both Normally distributed (Gaussian)?__\n"
   ]
  },
  {
   "cell_type": "code",
   "execution_count": 39,
   "metadata": {},
   "outputs": [
    {
     "data": {
      "text/plain": [
       "(array([2.000e+00, 4.000e+00, 2.000e+00, 5.000e+00, 1.100e+01, 1.800e+01,\n",
       "        2.700e+01, 3.600e+01, 5.600e+01, 7.600e+01, 1.040e+02, 1.280e+02,\n",
       "        1.740e+02, 2.130e+02, 2.800e+02, 3.770e+02, 4.470e+02, 5.480e+02,\n",
       "        7.420e+02, 8.440e+02, 9.430e+02, 1.104e+03, 1.282e+03, 1.432e+03,\n",
       "        1.627e+03, 1.889e+03, 2.023e+03, 2.199e+03, 2.412e+03, 2.549e+03,\n",
       "        2.722e+03, 2.922e+03, 2.937e+03, 3.171e+03, 3.189e+03, 3.230e+03,\n",
       "        3.360e+03, 3.398e+03, 3.307e+03, 3.289e+03, 3.326e+03, 3.270e+03,\n",
       "        3.154e+03, 2.999e+03, 2.943e+03, 2.829e+03, 2.643e+03, 2.553e+03,\n",
       "        2.303e+03, 2.186e+03, 2.066e+03, 1.960e+03, 1.666e+03, 1.554e+03,\n",
       "        1.456e+03, 1.295e+03, 1.129e+03, 1.059e+03, 9.110e+02, 7.570e+02,\n",
       "        7.130e+02, 6.250e+02, 5.350e+02, 4.840e+02, 3.960e+02, 3.640e+02,\n",
       "        2.780e+02, 2.640e+02, 1.930e+02, 2.030e+02, 1.480e+02, 1.350e+02,\n",
       "        1.140e+02, 6.300e+01, 5.200e+01, 6.300e+01, 5.500e+01, 4.600e+01,\n",
       "        3.200e+01, 2.800e+01, 1.600e+01, 1.200e+01, 8.000e+00, 1.200e+01,\n",
       "        3.000e+00, 6.000e+00, 3.000e+00, 4.000e+00, 3.000e+00, 2.000e+00,\n",
       "        0.000e+00, 0.000e+00, 0.000e+00, 0.000e+00, 0.000e+00, 0.000e+00,\n",
       "        0.000e+00, 0.000e+00, 0.000e+00, 2.000e+00]),\n",
       " array([0.18357942, 0.20227142, 0.22096343, 0.23965543, 0.25834743,\n",
       "        0.27703944, 0.29573144, 0.31442345, 0.33311545, 0.35180745,\n",
       "        0.37049946, 0.38919146, 0.40788347, 0.42657547, 0.44526747,\n",
       "        0.46395948, 0.48265148, 0.50134348, 0.52003549, 0.53872749,\n",
       "        0.5574195 , 0.5761115 , 0.5948035 , 0.61349551, 0.63218751,\n",
       "        0.65087952, 0.66957152, 0.68826352, 0.70695553, 0.72564753,\n",
       "        0.74433953, 0.76303154, 0.78172354, 0.80041555, 0.81910755,\n",
       "        0.83779955, 0.85649156, 0.87518356, 0.89387557, 0.91256757,\n",
       "        0.93125957, 0.94995158, 0.96864358, 0.98733558, 1.00602759,\n",
       "        1.02471959, 1.0434116 , 1.0621036 , 1.0807956 , 1.09948761,\n",
       "        1.11817961, 1.13687162, 1.15556362, 1.17425562, 1.19294763,\n",
       "        1.21163963, 1.23033163, 1.24902364, 1.26771564, 1.28640765,\n",
       "        1.30509965, 1.32379165, 1.34248366, 1.36117566, 1.37986767,\n",
       "        1.39855967, 1.41725167, 1.43594368, 1.45463568, 1.47332768,\n",
       "        1.49201969, 1.51071169, 1.5294037 , 1.5480957 , 1.5667877 ,\n",
       "        1.58547971, 1.60417171, 1.62286372, 1.64155572, 1.66024772,\n",
       "        1.67893973, 1.69763173, 1.71632373, 1.73501574, 1.75370774,\n",
       "        1.77239975, 1.79109175, 1.80978375, 1.82847576, 1.84716776,\n",
       "        1.86585977, 1.88455177, 1.90324377, 1.92193578, 1.94062778,\n",
       "        1.95931978, 1.97801179, 1.99670379, 2.0153958 , 2.0340878 ,\n",
       "        2.0527798 ]),\n",
       " <BarContainer object of 100 artists>)"
      ]
     },
     "execution_count": 39,
     "metadata": {},
     "output_type": "execute_result"
    },
    {
     "data": {
      "image/png": "[encoded data removed]",
      "text/plain": [
       "<Figure size 640x480 with 1 Axes>"
      ]
     },
     "metadata": {},
     "output_type": "display_data"
    }
   ],
   "source": [
    "plt.hist(means,bins=100)\n",
    "plt.hist(sample_std,bins=100)"
   ]
  },
  {
   "cell_type": "markdown",
   "metadata": {},
   "source": [
    "__In the below code box, write code to determine:__\n",
    "\n",
    "\n",
    "- What fraction of the time when we do an experiment like this does the true mean lie between `means-sample_serr` and `means+sample_serr`?\n",
    "\n",
    "- What fraction of the times when we do an experiment like this does the true mean lie between `means-true_serr` and `means+true_serr`?\n",
    "\n",
    "Recall: 68.3% of the time a normally-distributed value will be within 1 sigma of the mean.  __Which matches this?__"
   ]
  },
  {
   "cell_type": "code",
   "execution_count": 43,
   "metadata": {},
   "outputs": [
    {
     "name": "stdout",
     "output_type": "stream",
     "text": [
      "within sample serr: 0.6341\n",
      "Within true serr 0.68604\n"
     ]
    }
   ],
   "source": [
    "within_sample_serr = np.logical_and(0 > (means - sample_serr), 0 < (means + sample_serr))\n",
    "within_true_serr = np.logical_and(0 > (means - true_serr), 0 < (means + true_serr))\n",
    "frac_sample_serr = np.mean(within_sample_serr)\n",
    "frac_true_serr = np.mean(within_true_serr)\n",
    "print(f\"within sample serr: {frac_sample_serr}\")\n",
    "print(f\"Within true serr {frac_true_serr}\")\n"
   ]
  },
  {
   "cell_type": "code",
   "execution_count": null,
   "metadata": {},
   "outputs": [],
   "source": [
    "# rangearray=np.array[means-sample_serr, means+sample_serr]\n"
   ]
  },
  {
   "cell_type": "code",
   "execution_count": 46,
   "metadata": {},
   "outputs": [],
   "source": [
    "# Now, do the same for simulations of averaging 100 measurements\n",
    "\n",
    "nsims=int(1E5)\n",
    "ndata=100\n",
    "data=random.randn(nsims,ndata)   \n",
    "means = np.mean(data,axis = 1)  # mean of each set of 10 measurements\n",
    "sample_std=np.std(data,axis=1)   # standard deviation of each set of 10 measurements. \n",
    "# Note that the axis= keyword works with np.std! Do ?np.std for details.\n",
    "\n",
    "# sample standard errors determined from each random dataset\n",
    "sample_serr=sample_std/np.sqrt(ndata) \n",
    "\n",
    "# standard error calculated knowing the actual distribution\n",
    "true_serr=1/np.sqrt(ndata)        "
   ]
  },
  {
   "cell_type": "code",
   "execution_count": null,
   "metadata": {},
   "outputs": [
    {
     "name": "stdout",
     "output_type": "stream",
     "text": [
      "within sample serr: 0.676\n",
      "Within true serr 0.681\n"
     ]
    },
    {
     "data": {
      "image/png": "[encoded data removed]",
      "text/plain": [
       "<Figure size 640x480 with 1 Axes>"
      ]
     },
     "metadata": {},
     "output_type": "display_data"
    }
   ],
   "source": [
    "plt.hist(means,bins=100)\n",
    "plt.hist(sample_std,bins=100)\n"
   ]
  },
  {
   "cell_type": "code",
   "execution_count": 48,
   "metadata": {},
   "outputs": [
    {
     "name": "stdout",
     "output_type": "stream",
     "text": [
      "within sample serr: 0.676\n",
      "Within true serr 0.681\n"
     ]
    }
   ],
   "source": [
    "within_sample_serr = np.logical_and(0 > (means - sample_serr), 0 < (means + sample_serr))\n",
    "within_true_serr = np.logical_and(0 > (means - true_serr), 0 < (means + true_serr))\n",
    "frac_sample_serr = np.mean(within_sample_serr)\n",
    "frac_true_serr = np.mean(within_true_serr)\n",
    "print(f\"within sample serr: {frac_sample_serr:.3f}\")\n",
    "print(f\"Within true serr {frac_true_serr:.3f}\")"
   ]
  },
  {
   "cell_type": "markdown",
   "metadata": {},
   "source": [
    "Use true standar error then? "
   ]
  },
  {
   "cell_type": "markdown",
   "metadata": {},
   "source": [
    "# Calculating proper confidence intervals\n",
    "\n",
    "We can use the `cdf` method of an object from the `stats.t` class to calculate how much probability we expect to lie between `means-sample_serr` and `means+sample_serr`, for the two scenarios we looked at (10 data points = 9 degrees of freedom, 100 = 99 DOF).  __Compare to the results from your Monte Carlo simulations.__"
   ]
  },
  {
   "cell_type": "markdown",
   "metadata": {},
   "source": []
  },
  {
   "cell_type": "code",
   "execution_count": 49,
   "metadata": {},
   "outputs": [
    {
     "name": "stdout",
     "output_type": "stream",
     "text": [
      "0.6565636038620863\n",
      "0.6802515258606983\n"
     ]
    }
   ],
   "source": [
    "print(stats.t.cdf(1.,9)-stats.t.cdf(-1.,9))\n",
    "print(stats.t.cdf(1.,99)-stats.t.cdf(-1.,99))"
   ]
  },
  {
   "cell_type": "markdown",
   "metadata": {},
   "source": [
    "We can use the `ppf` method of an object from the `stats.t` class to calculate the $t$ value such that the CDF is 0.8413 (i.e., the upper edge of a 68.3% confidence interval).  Because the t distribution is symmetric, the lower edge will just be opposite  in sign but have the same absolute value.  __Let's calculate these cutoffs and test that the resulting intervals in fact contain 68.3% of the probability:__"
   ]
  },
  {
   "cell_type": "code",
   "execution_count": 52,
   "metadata": {},
   "outputs": [
    {
     "name": "stdout",
     "output_type": "stream",
     "text": [
      "9  DOF: Cutoff value: 1.0585\n",
      "        Probability contained: 0.6826\n",
      "99 DOF: Cutoff value: 1.0049\n",
      "        Probability contained: 0.6826\n"
     ]
    }
   ],
   "source": [
    "cutoff9 = stats.t.ppf(0.8413,9)\n",
    "cutoff99 = stats.t.ppf(0.8413,99)\n",
    "\n",
    "print(f'9  DOF: Cutoff value: {cutoff9:.4f}')\n",
    "print(f'        Probability contained: {stats.t.cdf(cutoff9,9)-stats.t.cdf(-cutoff9,9):.4f}')\n",
    "print(f'99 DOF: Cutoff value: {cutoff99:.4f}')\n",
    "print(f'        Probability contained: {stats.t.cdf(cutoff99,99)-stats.t.cdf(-cutoff99,99):.4f}')"
   ]
  },
  {
   "cell_type": "code",
   "execution_count": null,
   "metadata": {},
   "outputs": [],
   "source": []
  },
  {
   "cell_type": "markdown",
   "metadata": {},
   "source": [
    "How much difference does the difference between a $t$ distribution and a Gaussian make, as a function of the amount of data we have and which confidence interval we are looking at?  __Evaluate how close the cutoffs are to those for a Gaussian distribution, as a function of the number of degrees of freedom, for 68%, 95%, and 99% confidence intervals.__"
   ]
  },
  {
   "cell_type": "code",
   "execution_count": 53,
   "metadata": {},
   "outputs": [
    {
     "name": "stdout",
     "output_type": "stream",
     "text": [
      "68% range limits:\n",
      "DOF:  2   -1.83672, 1.836722\n",
      "DOF:  4   -1.19662, 1.196616\n",
      "DOF:  6   -1.11028, 1.110278\n",
      "DOF:  8   -1.07650, 1.076499\n",
      "DOF: 10   -1.05852, 1.058520\n",
      "DOF: 12   -1.04736, 1.047365\n",
      "DOF: 14   -1.03977, 1.039769\n",
      "DOF: 16   -1.03427, 1.034265\n",
      "DOF: 18   -1.03009, 1.030093\n",
      "\n",
      "95% range:\n",
      "DOF:  2   -12.70620, 12.706205\n",
      "DOF:  4   -3.18245, 3.182446\n",
      "DOF:  6   -2.57058, 2.570582\n",
      "DOF:  8   -2.36462, 2.364624\n",
      "DOF: 10   -2.26216, 2.262157\n",
      "DOF: 12   -2.20099, 2.200985\n",
      "DOF: 14   -2.16037, 2.160369\n",
      "DOF: 16   -2.13145, 2.131450\n",
      "DOF: 18   -2.10982, 2.109816\n",
      "\n",
      "99% range:\n",
      "DOF:  2   -63.65674, 63.656741\n",
      "DOF:  4   -5.84091, 5.840909\n",
      "DOF:  6   -4.03214, 4.032143\n",
      "DOF:  8   -3.49948, 3.499483\n",
      "DOF: 10   -3.24984, 3.249836\n",
      "DOF: 12   -3.10581, 3.105807\n",
      "DOF: 14   -3.01228, 3.012276\n",
      "DOF: 16   -2.94671, 2.946713\n",
      "DOF: 18   -2.89823, 2.898231\n",
      "\n",
      " large N limits (=cutoffs for a Gaussian distribution):\n",
      "68%: 0.99982\n",
      "95%: 1.95996\n",
      "99%: 2.57583\n"
     ]
    }
   ],
   "source": [
    "print('68% range limits:')\n",
    "\n",
    "for i in np.arange(2,20,2): \n",
    "    print(f'DOF: {i:2d}   {stats.t.ppf(0.1587,i-1):.5f}, {stats.t.ppf(0.8413,i-1):5f}')\n",
    "    \n",
    "print('\\n95% range:')\n",
    "\n",
    "for i in np.arange(2,20,2): \n",
    "    print(f'DOF: {i:2d}   {stats.t.ppf(0.025,i-1):.5f}, {stats.t.ppf(0.975,i-1):5f}')\n",
    "    \n",
    "    \n",
    "print('\\n99% range:')\n",
    "    \n",
    "for i in np.arange(2,20,2): \n",
    "    print(f'DOF: {i:2d}   {stats.t.ppf(0.005,i-1):.5f}, {stats.t.ppf(0.995,i-1):5f}')\n",
    "          \n",
    "print('\\n large N limits (=cutoffs for a Gaussian distribution):' )\n",
    "print(f'68%: {stats.t.ppf(1-0.1587,1E7):.5f}')\n",
    "print(f'95%: {stats.t.ppf(1-0.025,1E7):.5f}')\n",
    "print(f'99%: {stats.t.ppf(1-0.005,1E7):.5f}')"
   ]
  },
  {
   "cell_type": "markdown",
   "metadata": {},
   "source": [
    "If we increase the percentile range, it takes more time to converge to a value, and maybe that's because we get to the tails of the distribution.\n",
    "Also there might be a compound effect that propagates because for 68% it rounded up to almost 1 sigma but now quite."
   ]
  },
  {
   "cell_type": "markdown",
   "metadata": {},
   "source": [
    "We converge faster at smaller confidence intervals\n",
    "if N is big, don't worry. If N is small, it will make a difference in larger intervals."
   ]
  },
  {
   "cell_type": "code",
   "execution_count": null,
   "metadata": {},
   "outputs": [],
   "source": []
  },
  {
   "cell_type": "markdown",
   "metadata": {},
   "source": [
    "# If you have extra time\n",
    "\n",
    "- Explore the effect that the number of samples has on the accuracy of `hlmean`.  If you use ndata, 10 $\\times$ ndata, 25 $\\times$ data, or 100 $\\times$ ndata samples, how much does the estimate coming from `hlmean` vary when you rerun it?  You can use e.g. 100 or 1000 values from N(0,1) in testing.\n",
    "\n",
    "- Apply each of the estimators of location (applied above) on a situation where 10% of values are drawn from N(2,1) instead of N(0,1) (using an foutlier parameter as in the clusters example).  Which estimators appear to be most robust?\n",
    "\n"
   ]
  },
  {
   "cell_type": "code",
   "execution_count": null,
   "metadata": {},
   "outputs": [],
   "source": []
  },
  {
   "cell_type": "code",
   "execution_count": null,
   "metadata": {},
   "outputs": [],
   "source": []
  },
  {
   "cell_type": "code",
   "execution_count": null,
   "metadata": {},
   "outputs": [],
   "source": []
  }
 ],
 "metadata": {
  "anaconda-cloud": {},
  "kernelspec": {
   "display_name": "datascience",
   "language": "python",
   "name": "python3"
  },
  "language_info": {
   "codemirror_mode": {
    "name": "ipython",
    "version": 3
   },
   "file_extension": ".py",
   "mimetype": "text/x-python",
   "name": "python",
   "nbconvert_exporter": "python",
   "pygments_lexer": "ipython3",
   "version": "3.13.1"
  }
 },
 "nbformat": 4,
 "nbformat_minor": 1
}
