{
 "cells": [
  {
   "cell_type": "markdown",
   "metadata": {},
   "source": [
    "# Lecture 3: Exploring Probability\n",
    "\n",
    "We pretty much always want to start notebooks with standard imports like these and a %matplotlib magic command to make sure figures show up in the notebook:"
   ]
  },
  {
   "cell_type": "code",
   "execution_count": 3,
   "metadata": {},
   "outputs": [],
   "source": [
    "%matplotlib inline   \n",
    "                     # this sets up matplotlib to make plots show up in the notebook\n",
    "import numpy as np   # imports the numpy package, abbreviated as np\n",
    "import matplotlib    # imports the matplotlib package for making plots\n",
    "import matplotlib.pyplot as plt    # imports the part of matplotlib we use most,\n",
    "                             #abbreviated as plt"
   ]
  },
  {
   "cell_type": "code",
   "execution_count": 21,
   "metadata": {},
   "outputs": [],
   "source": [
    "import sys\n",
    "sys.path.append('/Users/aliadawood/datascience')"
   ]
  },
  {
   "cell_type": "markdown",
   "metadata": {},
   "source": [
    "## More work with modules\n",
    "\n",
    "You should have put the function from lecture2.ipynb in a file we can use as a module.  Our code was:\n",
    "\n",
    "\n",
    "    import numpy.random as random\n",
    "    import numpy as np\n",
    "    \n",
    "    def sim2coins(ntests):\n",
    "        # simulate ntests tosses of 2 coins \n",
    "        ntests=int(ntests)\n",
    "        coin1=random.rand(ntests) > 0.5\n",
    "        coin2=random.rand(ntests) > 0.5\n",
    "        return np.sum( coin1 == coin2 )/ntests\n",
    "        \n",
    "You should have placed this in a file named sim2coins.py .     \n",
    "\n",
    "__Next import and test your code: change the number of simulations below.__"
   ]
  },
  {
   "cell_type": "code",
   "execution_count": 22,
   "metadata": {},
   "outputs": [
    {
     "name": "stdout",
     "output_type": "stream",
     "text": [
      "0.25106\n"
     ]
    }
   ],
   "source": [
    "\n",
    "import sim2coins as s2c\n",
    "\n",
    "ntests = 5E4\n",
    "print(s2c.sim2coins( int(ntests) ) )"
   ]
  },
  {
   "cell_type": "code",
   "execution_count": 20,
   "metadata": {},
   "outputs": [
    {
     "data": {
      "text/plain": [
       "['/Users/aliadawood/.local/share/mamba/envs/datascience/lib/python313.zip',\n",
       " '/Users/aliadawood/.local/share/mamba/envs/datascience/lib/python3.13',\n",
       " '/Users/aliadawood/.local/share/mamba/envs/datascience/lib/python3.13/lib-dynload',\n",
       " '',\n",
       " '/Users/aliadawood/.local/share/mamba/envs/datascience/lib/python3.13/site-packages',\n",
       " '/Users/newman/python',\n",
       " '/Users/aliadawood/python',\n",
       " 'Users/aliadawood/datascience/',\n",
       " 'Users/aliadawood/datascience']"
      ]
     },
     "execution_count": 20,
     "metadata": {},
     "output_type": "execute_result"
    }
   ],
   "source": [
    "sys.path"
   ]
  },
  {
   "cell_type": "markdown",
   "metadata": {},
   "source": [
    "__Now, modify sim2coins to check for the fraction of cases where coin1 is tails (==False) and coin2 is heads (==True).  Run that code below.__  Note that you will need to use `np.logical_and`; you can also get help on it in the code box below, using ?.  For convenience, you should also make it convert ntests to an integer using the `int()` function."
   ]
  },
  {
   "cell_type": "code",
   "execution_count": null,
   "metadata": {},
   "outputs": [],
   "source": [
    "np.logical_and"
   ]
  },
  {
   "cell_type": "code",
   "execution_count": null,
   "metadata": {},
   "outputs": [],
   "source": []
  },
  {
   "cell_type": "markdown",
   "metadata": {},
   "source": [
    "Python will automatically compile a module the first time you import it.  However, to save time it won't automatically recompile a routine after that.  We have to force it to.\n",
    "\n",
    "To get python to incorporate our changes, just reimporting won't do it.  __Do `reload(s2c)` in the below code box, and test your code again in the box below.__  \n",
    "\n",
    "(Note: you could also go to the Kernel menu above and choose 'Restart', then the Cell menu above and do 'run all'; but that's overkill)."
   ]
  },
  {
   "cell_type": "code",
   "execution_count": 23,
   "metadata": {},
   "outputs": [
    {
     "data": {
      "text/plain": [
       "<module 'sim2coins' from '/Users/aliadawood/datascience/sim2coins.py'>"
      ]
     },
     "execution_count": 23,
     "metadata": {},
     "output_type": "execute_result"
    }
   ],
   "source": [
    "from importlib import reload\n",
    "reload(s2c)"
   ]
  },
  {
   "cell_type": "code",
   "execution_count": null,
   "metadata": {},
   "outputs": [],
   "source": []
  },
  {
   "cell_type": "markdown",
   "metadata": {},
   "source": [
    "## Testing the frequentist definition of probability\n",
    "\n",
    "Let's calculate the fraction of successes for different numbers of trials.  __Note there are a couple of items I want you to predict and discuss with your group!__"
   ]
  },
  {
   "cell_type": "code",
   "execution_count": 24,
   "metadata": {},
   "outputs": [
    {
     "name": "stdout",
     "output_type": "stream",
     "text": [
      "[0. 0. 0. 0. 0. 0. 0. 0.]\n"
     ]
    }
   ],
   "source": [
    "nsims_list=np.array([100,500,1000,5000,1E4,5E4,1E5,1E6])\n",
    "\n",
    "nsims_list=nsims_list.astype(int) # this will convert the array to integers all at once\n",
    "\n",
    "# PREDICT AND DISCUSS:\n",
    "result=nsims_list*0.\n",
    "print(result)\n"
   ]
  },
  {
   "cell_type": "code",
   "execution_count": 25,
   "metadata": {},
   "outputs": [
    {
     "name": "stdout",
     "output_type": "stream",
     "text": [
      "[0.22     0.248    0.243    0.233    0.2524   0.2492   0.24863  0.249941]\n"
     ]
    }
   ],
   "source": [
    "# PREDICT AND DISCUSS:\n",
    "for i,nsims in enumerate(nsims_list):\n",
    "     result[i]=s2c.sim2coins(nsims )\n",
    "\n",
    "print(result)\n",
    "        \n",
    "#PUT YOUR CODE FOR PLOTTING IN THIS CODE BOX! \n",
    "#WHEN YOU MODIFY TO LOOP THROUGH 20 TIMES, DO THAT IN THIS BOX TOO\n",
    "#  (MAKE SURE THE PLOT COMMAND IS INSIDE THE LOOP!)"
   ]
  },
  {
   "cell_type": "code",
   "execution_count": null,
   "metadata": {},
   "outputs": [],
   "source": []
  },
  {
   "cell_type": "markdown",
   "metadata": {},
   "source": [
    "# Plotting and exploring\n",
    "\n",
    "__In the code cell above, plot the fraction of successes as a function of the number of simulations.__\n",
    "\n",
    "Now, make a series of modifications:\n",
    "\n",
    "__1) Plot the result with 0.25 (the expected probability) subtracted from it, as a function of nsims, with the below changes.__\n",
    "- Plot the points as green stars (look at the help on `plt.plot()` ).  \n",
    "- Use a logarithmic x axis (look at the help on `plt.xscale` or `plt.semilogx`)\n",
    "- Use a y axis range from -0.05 to +0.05 (look at the help on `plt.ylim()`)\n",
    "\n",
    "__2) By adding another, outer for loop, repeat the calculation 20 times, overplotting all the results.__\n",
    "\t\tIf you put all the plot commands in the same code box (within the loop), all the plots will be shown on the same axes, as we want.\n",
    "\n",
    "__3) Overplot the line y=0 to help guide the eye.__\n",
    "\n",
    "__Extra: If your group is done and you are waiting around for other groups, add code to overplot the average of all the results at each `nsims` value as a line.  Add labels to your axes and a title to the figure.  Remember that you can type plt. and then hit tab to get a list of all the functions in the `plt` (actually `pyplot`) library.__"
   ]
  },
  {
   "cell_type": "markdown",
   "metadata": {},
   "source": [
    "?plt.xscale"
   ]
  },
  {
   "cell_type": "code",
   "execution_count": 45,
   "metadata": {},
   "outputs": [
    {
     "data": {
      "text/plain": [
       "Text(0, 0.5, 'result-0.25')"
      ]
     },
     "execution_count": 45,
     "metadata": {},
     "output_type": "execute_result"
    },
    {
     "data": {
      "image/png": "[encoded data removed]",
      "text/plain": [
       "<Figure size 640x480 with 1 Axes>"
      ]
     },
     "metadata": {},
     "output_type": "display_data"
    }
   ],
   "source": [
    "for j in range(20):\n",
    "    for i,nsims in enumerate(nsims_list):\n",
    "        result[i]=s2c.sim2coins(nsims )\n",
    "    plt.semilogx(nsims_list,result-0.25,'*g')\n",
    "plt.ylim(-0.05,0.05)\n",
    "plt.xlabel('nsims_list in log')\n",
    "plt.ylabel('result-0.25')\n"
   ]
  },
  {
   "cell_type": "markdown",
   "metadata": {},
   "source": [
    "## Simulating Dice\n",
    "\n",
    "__Here are 3 ways for generating dice rolls.  Check that they give similar results in the average using np.mean().__ Note that I have not filled in all the code for the `np.ceil()` method as an exercise for you to fill in."
   ]
  },
  {
   "cell_type": "code",
   "execution_count": 47,
   "metadata": {},
   "outputs": [],
   "source": [
    "from numpy import random\n",
    "nsims=1000\n",
    "\n",
    "#Floor: \n",
    "rolls_f=np.floor(random.rand(nsims)*6) + 1\n",
    "\n",
    "#Round:\n",
    "rolls_r=np.round(random.rand(nsims)*6 + 0.5)\n",
    "\n",
    "#Ceil:\n",
    "#rolls_c = np.ceil( ??? ) # Your code here\n"
   ]
  },
  {
   "cell_type": "code",
   "execution_count": 49,
   "metadata": {},
   "outputs": [
    {
     "name": "stdout",
     "output_type": "stream",
     "text": [
      "[1. 2. 1. 1. 6. 1. 4. 2. 3. 5. 2. 4. 3. 4. 1. 5. 5. 6. 4. 5. 5. 6. 3. 6.\n",
      " 5. 1. 1. 6. 1. 5. 5. 5. 2. 1. 3. 4. 1. 6. 3. 2. 4. 3. 1. 2. 4. 3. 3. 5.\n",
      " 3. 4. 2. 6. 2. 3. 4. 2. 1. 2. 1. 6. 5. 1. 3. 3. 5. 2. 3. 5. 1. 6. 1. 2.\n",
      " 5. 5. 1. 6. 4. 6. 1. 5. 1. 6. 3. 4. 4. 6. 4. 6. 2. 3. 2. 4. 6. 2. 5. 4.\n",
      " 6. 2. 5. 1. 1. 6. 2. 4. 4. 3. 2. 2. 3. 4. 4. 5. 6. 4. 5. 3. 6. 3. 3. 6.\n",
      " 3. 1. 5. 4. 5. 1. 5. 3. 4. 3. 1. 3. 5. 6. 2. 4. 3. 6. 6. 6. 1. 3. 6. 6.\n",
      " 2. 5. 6. 4. 1. 6. 2. 2. 1. 4. 6. 4. 5. 6. 3. 3. 5. 2. 2. 2. 2. 1. 4. 3.\n",
      " 4. 3. 6. 1. 5. 1. 2. 6. 6. 2. 2. 1. 1. 3. 1. 4. 3. 6. 6. 3. 4. 4. 2. 4.\n",
      " 4. 1. 6. 5. 6. 6. 4. 1. 2. 4. 5. 6. 5. 2. 4. 6. 3. 1. 2. 3. 6. 2. 4. 5.\n",
      " 6. 2. 6. 3. 4. 5. 4. 1. 6. 4. 6. 4. 3. 3. 5. 2. 5. 5. 2. 5. 1. 2. 4. 3.\n",
      " 5. 1. 6. 4. 6. 3. 3. 2. 4. 2. 5. 5. 3. 2. 4. 6. 6. 5. 1. 3. 6. 2. 1. 1.\n",
      " 4. 6. 4. 3. 4. 1. 6. 1. 3. 2. 5. 3. 2. 1. 6. 5. 3. 5. 3. 6. 5. 1. 5. 4.\n",
      " 1. 6. 2. 1. 5. 3. 3. 1. 6. 1. 4. 2. 2. 6. 5. 3. 6. 4. 2. 2. 3. 6. 6. 6.\n",
      " 1. 2. 2. 2. 1. 1. 5. 4. 3. 4. 3. 3. 3. 2. 1. 1. 4. 6. 1. 5. 3. 1. 6. 5.\n",
      " 6. 3. 1. 2. 1. 1. 4. 2. 1. 3. 4. 4. 5. 6. 1. 1. 6. 4. 2. 5. 6. 1. 5. 2.\n",
      " 1. 6. 2. 3. 2. 4. 6. 2. 1. 3. 5. 3. 1. 5. 2. 3. 2. 4. 3. 1. 2. 2. 3. 6.\n",
      " 4. 5. 6. 5. 3. 5. 6. 5. 1. 6. 4. 5. 4. 5. 5. 6. 1. 6. 5. 6. 3. 3. 3. 4.\n",
      " 5. 4. 3. 4. 5. 2. 2. 3. 3. 6. 1. 2. 2. 3. 5. 1. 2. 2. 3. 3. 3. 1. 4. 5.\n",
      " 2. 5. 3. 2. 3. 4. 1. 2. 1. 1. 5. 3. 1. 1. 1. 6. 4. 4. 3. 4. 5. 5. 3. 3.\n",
      " 2. 5. 5. 5. 1. 2. 3. 3. 1. 3. 6. 1. 5. 4. 3. 2. 2. 2. 3. 3. 1. 6. 1. 6.\n",
      " 4. 2. 6. 2. 6. 2. 5. 3. 4. 2. 5. 2. 3. 2. 6. 4. 6. 3. 5. 6. 3. 4. 6. 5.\n",
      " 4. 6. 4. 1. 5. 1. 6. 6. 5. 1. 1. 2. 6. 3. 4. 1. 5. 2. 2. 3. 6. 2. 2. 5.\n",
      " 5. 2. 4. 4. 2. 3. 2. 5. 4. 2. 5. 4. 4. 3. 1. 6. 4. 5. 2. 6. 5. 3. 2. 4.\n",
      " 6. 6. 4. 5. 4. 2. 1. 4. 1. 1. 2. 6. 4. 6. 5. 4. 1. 4. 5. 2. 5. 3. 2. 4.\n",
      " 4. 4. 3. 1. 2. 2. 4. 1. 3. 6. 2. 4. 1. 1. 5. 1. 5. 4. 3. 2. 5. 5. 2. 2.\n",
      " 1. 3. 2. 5. 2. 3. 4. 4. 6. 3. 5. 5. 5. 1. 6. 3. 2. 4. 5. 5. 6. 5. 5. 5.\n",
      " 2. 2. 6. 1. 5. 6. 2. 5. 1. 2. 5. 1. 5. 6. 2. 4. 1. 5. 2. 2. 2. 5. 4. 1.\n",
      " 2. 1. 3. 3. 4. 2. 2. 6. 6. 3. 1. 1. 1. 6. 4. 1. 4. 1. 1. 6. 1. 3. 3. 1.\n",
      " 5. 2. 4. 6. 4. 3. 1. 3. 6. 3. 3. 2. 4. 3. 6. 1. 2. 1. 1. 6. 1. 1. 4. 5.\n",
      " 5. 2. 5. 2. 2. 6. 4. 4. 6. 3. 6. 4. 4. 5. 1. 3. 4. 1. 5. 4. 3. 6. 5. 1.\n",
      " 6. 5. 2. 2. 3. 1. 3. 1. 1. 2. 3. 2. 4. 6. 1. 1. 3. 4. 5. 1. 3. 6. 3. 5.\n",
      " 2. 3. 4. 3. 2. 2. 2. 6. 2. 6. 3. 4. 5. 6. 6. 4. 5. 5. 1. 4. 3. 3. 1. 6.\n",
      " 5. 5. 2. 4. 2. 5. 2. 4. 1. 5. 5. 1. 1. 2. 2. 4. 3. 5. 5. 5. 4. 4. 3. 4.\n",
      " 2. 2. 3. 6. 4. 6. 1. 4. 2. 3. 5. 5. 3. 3. 6. 5. 4. 3. 1. 2. 1. 2. 5. 6.\n",
      " 1. 3. 6. 4. 3. 2. 4. 1. 6. 6. 5. 1. 2. 6. 6. 6. 6. 1. 1. 6. 6. 2. 3. 3.\n",
      " 4. 1. 6. 3. 5. 1. 2. 5. 4. 5. 1. 3. 6. 1. 6. 5. 1. 2. 6. 3. 5. 5. 2. 6.\n",
      " 1. 5. 4. 4. 3. 6. 3. 1. 4. 3. 5. 4. 2. 2. 2. 1. 1. 3. 4. 3. 5. 2. 6. 6.\n",
      " 5. 5. 3. 6. 5. 4. 3. 4. 1. 2. 2. 6. 4. 6. 4. 3. 2. 1. 1. 2. 6. 4. 6. 6.\n",
      " 6. 1. 3. 6. 6. 6. 4. 5. 6. 5. 4. 3. 1. 5. 3. 6. 5. 3. 6. 6. 4. 1. 3. 1.\n",
      " 1. 1. 2. 6. 1. 2. 2. 4. 6. 2. 1. 5. 5. 1. 5. 5. 2. 3. 1. 6. 1. 1. 5. 1.\n",
      " 6. 1. 4. 3. 3. 2. 4. 3. 4. 1. 3. 1. 2. 2. 6. 5. 2. 2. 5. 5. 3. 3. 3. 6.\n",
      " 6. 2. 6. 4. 4. 4. 2. 6. 2. 2. 6. 4. 4. 2. 6. 5.] [1. 3. 2. 3. 2. 6. 2. 3. 1. 3. 4. 3. 1. 5. 4. 4. 3. 4. 4. 2. 4. 2. 6. 5.\n",
      " 2. 3. 4. 6. 1. 2. 2. 2. 5. 1. 1. 3. 3. 3. 4. 4. 2. 2. 3. 1. 2. 4. 1. 6.\n",
      " 3. 5. 2. 3. 1. 3. 5. 1. 6. 5. 5. 4. 2. 6. 5. 1. 1. 1. 3. 5. 1. 2. 4. 6.\n",
      " 6. 4. 3. 2. 5. 5. 5. 2. 5. 4. 3. 5. 3. 2. 6. 2. 1. 3. 3. 2. 2. 6. 5. 5.\n",
      " 3. 5. 3. 3. 4. 4. 1. 1. 2. 3. 5. 1. 5. 3. 6. 1. 2. 6. 1. 2. 6. 1. 4. 2.\n",
      " 5. 1. 4. 3. 3. 3. 4. 6. 5. 6. 1. 3. 5. 2. 3. 5. 5. 3. 3. 1. 2. 6. 5. 3.\n",
      " 3. 4. 6. 3. 5. 4. 6. 3. 2. 5. 6. 6. 1. 2. 2. 5. 4. 2. 2. 1. 4. 3. 6. 1.\n",
      " 4. 2. 4. 4. 1. 3. 4. 1. 5. 6. 6. 2. 2. 4. 6. 4. 6. 1. 5. 6. 1. 1. 3. 5.\n",
      " 4. 4. 1. 6. 1. 3. 5. 5. 1. 6. 2. 2. 1. 6. 2. 5. 4. 6. 6. 6. 2. 2. 5. 2.\n",
      " 3. 3. 3. 1. 3. 2. 4. 3. 1. 1. 1. 1. 5. 2. 1. 2. 1. 1. 2. 1. 5. 4. 1. 2.\n",
      " 6. 3. 6. 1. 1. 5. 2. 3. 2. 5. 2. 6. 5. 6. 5. 4. 6. 5. 4. 3. 2. 6. 6. 5.\n",
      " 3. 6. 6. 4. 3. 2. 4. 1. 1. 2. 3. 2. 3. 6. 4. 1. 1. 5. 6. 5. 3. 2. 1. 3.\n",
      " 3. 1. 5. 6. 3. 1. 3. 2. 4. 3. 3. 1. 2. 2. 2. 2. 2. 6. 3. 6. 2. 3. 4. 3.\n",
      " 5. 2. 5. 2. 3. 2. 2. 1. 5. 1. 3. 3. 2. 5. 2. 1. 2. 6. 6. 4. 6. 3. 5. 1.\n",
      " 3. 6. 1. 6. 6. 3. 5. 5. 5. 4. 5. 5. 1. 5. 2. 5. 5. 6. 4. 3. 4. 2. 4. 2.\n",
      " 4. 3. 3. 3. 2. 1. 3. 4. 1. 5. 3. 3. 4. 2. 2. 6. 4. 2. 3. 4. 4. 1. 1. 6.\n",
      " 2. 1. 5. 2. 3. 5. 1. 1. 4. 4. 3. 5. 5. 4. 5. 4. 3. 1. 1. 4. 1. 2. 2. 2.\n",
      " 4. 1. 6. 5. 4. 1. 4. 3. 1. 1. 6. 2. 4. 4. 5. 6. 3. 2. 1. 1. 1. 3. 6. 2.\n",
      " 5. 2. 3. 1. 2. 2. 5. 5. 2. 4. 6. 4. 6. 6. 4. 4. 6. 4. 3. 6. 3. 4. 4. 4.\n",
      " 6. 3. 3. 1. 3. 4. 6. 5. 5. 5. 5. 3. 1. 2. 3. 3. 6. 2. 4. 4. 6. 2. 1. 6.\n",
      " 2. 2. 5. 1. 2. 6. 5. 2. 3. 1. 6. 4. 2. 4. 1. 4. 5. 3. 5. 2. 1. 3. 2. 4.\n",
      " 1. 1. 6. 2. 6. 4. 5. 2. 6. 3. 6. 4. 4. 5. 1. 5. 6. 2. 5. 4. 4. 1. 2. 3.\n",
      " 4. 4. 3. 6. 2. 6. 2. 6. 2. 3. 3. 5. 2. 1. 5. 1. 5. 2. 5. 1. 4. 5. 5. 6.\n",
      " 5. 3. 5. 1. 6. 3. 1. 6. 1. 3. 5. 1. 1. 2. 3. 4. 5. 6. 1. 5. 5. 3. 1. 5.\n",
      " 4. 1. 3. 2. 1. 5. 6. 5. 4. 4. 1. 6. 2. 2. 1. 5. 5. 3. 4. 1. 3. 6. 4. 5.\n",
      " 6. 4. 5. 1. 4. 4. 2. 1. 1. 3. 1. 6. 2. 4. 3. 4. 5. 5. 2. 1. 4. 3. 1. 4.\n",
      " 4. 2. 6. 6. 3. 1. 3. 5. 2. 2. 4. 4. 3. 5. 3. 2. 6. 2. 4. 3. 2. 1. 3. 3.\n",
      " 4. 5. 2. 6. 1. 6. 1. 3. 2. 6. 6. 3. 4. 2. 2. 1. 2. 2. 1. 5. 6. 5. 3. 6.\n",
      " 3. 1. 1. 3. 5. 6. 2. 3. 6. 6. 2. 2. 4. 1. 6. 6. 5. 5. 2. 3. 4. 2. 4. 5.\n",
      " 3. 6. 3. 2. 4. 1. 4. 6. 3. 5. 5. 1. 1. 5. 4. 3. 6. 3. 4. 4. 6. 1. 4. 3.\n",
      " 6. 6. 4. 4. 1. 3. 1. 6. 2. 5. 6. 3. 3. 1. 2. 5. 2. 4. 6. 1. 5. 5. 3. 3.\n",
      " 4. 3. 6. 6. 5. 3. 5. 1. 5. 3. 1. 2. 1. 4. 5. 2. 6. 6. 5. 4. 5. 3. 5. 5.\n",
      " 4. 5. 6. 2. 6. 2. 1. 2. 6. 5. 4. 3. 6. 3. 4. 3. 3. 6. 1. 5. 1. 6. 2. 4.\n",
      " 1. 4. 1. 6. 1. 6. 1. 3. 5. 3. 1. 4. 6. 5. 2. 1. 1. 1. 5. 6. 6. 4. 6. 3.\n",
      " 6. 1. 5. 5. 3. 2. 6. 5. 6. 2. 6. 2. 1. 2. 6. 1. 3. 4. 5. 6. 4. 3. 1. 6.\n",
      " 2. 2. 4. 4. 1. 5. 5. 1. 4. 4. 4. 2. 4. 2. 1. 2. 5. 5. 5. 6. 5. 4. 6. 2.\n",
      " 4. 5. 3. 3. 4. 1. 5. 2. 2. 1. 6. 5. 4. 3. 5. 4. 3. 4. 1. 6. 3. 5. 2. 1.\n",
      " 5. 2. 1. 4. 4. 6. 1. 3. 4. 6. 3. 6. 1. 1. 1. 4. 5. 6. 5. 3. 6. 4. 6. 3.\n",
      " 1. 4. 4. 6. 6. 4. 3. 1. 1. 4. 4. 3. 3. 2. 1. 5. 2. 5. 4. 3. 2. 1. 5. 2.\n",
      " 4. 6. 2. 2. 4. 3. 2. 1. 3. 2. 4. 4. 3. 4. 3. 6. 3. 6. 5. 3. 3. 6. 3. 5.\n",
      " 4. 4. 4. 5. 3. 5. 1. 1. 3. 3. 3. 5. 1. 5. 6. 4. 6. 4. 3. 6. 1. 5. 6. 2.\n",
      " 6. 6. 6. 1. 3. 3. 5. 5. 5. 4. 2. 5. 1. 6. 2. 6.]\n"
     ]
    }
   ],
   "source": [
    "print(rolls_f, rolls_r)\n",
    "rolls_c=np.ceil(random.rand(nsims)*6)"
   ]
  },
  {
   "cell_type": "markdown",
   "metadata": {},
   "source": [
    "## Plotting histograms\n",
    "\n",
    "Below we plot a histogram of die rolls.\n",
    "\n",
    "__In the below code box, use the `bins` and `range` keywords with `plt.hist()` to plot the results in 6 bins, centered at 1,2,3,...6.  This is not how the bins will be set up by default!__  \n",
    "\n",
    "As usual, you can do `?plt.hist()` to see the help information."
   ]
  },
  {
   "cell_type": "code",
   "execution_count": 54,
   "metadata": {},
   "outputs": [
    {
     "data": {
      "text/plain": [
       "(array([171., 174., 164., 157., 163., 171.]),\n",
       " array([0.5, 1.5, 2.5, 3.5, 4.5, 5.5, 6.5]),\n",
       " <BarContainer object of 6 artists>)"
      ]
     },
     "execution_count": 54,
     "metadata": {},
     "output_type": "execute_result"
    },
    {
     "data": {
      "image/png": "[encoded data removed]",
      "text/plain": [
       "<Figure size 640x480 with 1 Axes>"
      ]
     },
     "metadata": {},
     "output_type": "display_data"
    }
   ],
   "source": [
    "plt.hist(rolls_f, bins=6, range=(0.5,6.5))\n"
   ]
  },
  {
   "cell_type": "markdown",
   "metadata": {},
   "source": [
    "# Multi-Dimensional Arrays \n",
    "\n",
    "A numpy array need not have only one dimension.  E.g.:\n",
    "\n",
    "    img = np.zeros( (200,200) )\n",
    "\n",
    "will create a 200 x 200 array, with zeros everywhere.  \n",
    "\n",
    "Note: `np.zeros()` and similar routines can take a tuple of dimension sizes as input, for arbitrary numbers of dimensions. \n",
    "\n"
   ]
  },
  {
   "cell_type": "code",
   "execution_count": 55,
   "metadata": {},
   "outputs": [],
   "source": [
    "img= np.zeros((200,200))"
   ]
  },
  {
   "cell_type": "markdown",
   "metadata": {},
   "source": [
    "## Rolling 10 dice\n",
    "\n",
    "Two options: the slow way and the fast way.  First, some setup:"
   ]
  },
  {
   "cell_type": "code",
   "execution_count": 56,
   "metadata": {},
   "outputs": [],
   "source": [
    "nsims = int(2E4)\n",
    "rolls=np.floor(random.rand(nsims,10)*6 ) + 1\n"
   ]
  },
  {
   "cell_type": "code",
   "execution_count": 60,
   "metadata": {},
   "outputs": [
    {
     "name": "stdout",
     "output_type": "stream",
     "text": [
      "33.3 ms ± 270 μs per loop (mean ± std. dev. of 7 runs, 10 loops each)\n"
     ]
    }
   ],
   "source": [
    "%%timeit\n",
    "total_roll=np.zeros(nsims) \n",
    "for i in np.arange(nsims):\n",
    "     total_roll[i]=np.sum(rolls[i,:])"
   ]
  },
  {
   "cell_type": "code",
   "execution_count": 58,
   "metadata": {},
   "outputs": [
    {
     "name": "stdout",
     "output_type": "stream",
     "text": [
      "154 μs ± 17.3 μs per loop (mean ± std. dev. of 7 runs, 10,000 loops each)\n"
     ]
    }
   ],
   "source": [
    "%%timeit\n",
    "#This code does things the fast way\n",
    "total_roll=np.sum(rolls,axis=1)\n"
   ]
  },
  {
   "cell_type": "markdown",
   "metadata": {},
   "source": [
    "### Plotting the results\n",
    "\n",
    "__Use `plt.hist(total_roll)` to examine the results of your simulation in the below code box... adjust the number of bins and range as necessary to show all the values in the array__ (you may find `np.min()` and `np.max()` helpful)"
   ]
  },
  {
   "cell_type": "code",
   "execution_count": 73,
   "metadata": {},
   "outputs": [
    {
     "name": "stdout",
     "output_type": "stream",
     "text": [
      "283.0 416.0\n"
     ]
    },
    {
     "data": {
      "image/png": "[encoded data removed]",
      "text/plain": [
       "<Figure size 640x480 with 1 Axes>"
      ]
     },
     "metadata": {},
     "output_type": "display_data"
    }
   ],
   "source": [
    "total_roll=np.sum(rolls,axis=1)\n",
    "plt.hist(total_roll,bins=10, range=(282,417) )\n",
    "print(np.min(total_roll),np.max(total_roll))"
   ]
  },
  {
   "cell_type": "markdown",
   "metadata": {},
   "source": [
    "### Simulating more dice\n",
    "\n",
    "We can just simulate once, and take sums over different subsets with array slicing.\n",
    "\n",
    "__Modify the below code cell to plot histograms for, 2, 5, 10, and 100 rolls.__"
   ]
  },
  {
   "cell_type": "code",
   "execution_count": 74,
   "metadata": {},
   "outputs": [
    {
     "data": {
      "text/plain": [
       "(array([0.000e+00, 0.000e+00, 0.000e+00, 0.000e+00, 0.000e+00, 2.000e+00,\n",
       "        1.300e+01, 4.200e+01, 9.500e+01, 1.560e+02, 3.210e+02, 5.240e+02,\n",
       "        7.690e+02, 1.095e+03, 1.411e+03, 1.606e+03, 1.945e+03, 2.048e+03,\n",
       "        2.001e+03, 1.918e+03, 1.702e+03, 1.342e+03, 1.038e+03, 7.690e+02,\n",
       "        5.280e+02, 3.400e+02, 1.750e+02, 1.010e+02, 4.000e+01, 1.900e+01]),\n",
       " array([ 0.,  1.,  2.,  3.,  4.,  5.,  6.,  7.,  8.,  9., 10., 11., 12.,\n",
       "        13., 14., 15., 16., 17., 18., 19., 20., 21., 22., 23., 24., 25.,\n",
       "        26., 27., 28., 29., 30.]),\n",
       " <BarContainer object of 30 artists>)"
      ]
     },
     "execution_count": 74,
     "metadata": {},
     "output_type": "execute_result"
    },
    {
     "data": {
      "image/png": "[encoded data removed]",
      "text/plain": [
       "<Figure size 640x480 with 1 Axes>"
      ]
     },
     "metadata": {},
     "output_type": "display_data"
    }
   ],
   "source": [
    "nsims=int(2E4)\n",
    "rolls=np.floor(random.rand(nsims,100)*6 ) + 1\n",
    "\n",
    "# add up to get results for the sum of 5 die rolls\n",
    "total_roll_5=np.sum(rolls[:,0:5],axis=1)\n",
    "#or just go ahead and plot that quantity:\n",
    "plt.hist(np.sum(rolls[:,0:5],axis=1),range=[0,30],bins=30)\n"
   ]
  },
  {
   "cell_type": "code",
   "execution_count": null,
   "metadata": {},
   "outputs": [],
   "source": []
  },
  {
   "cell_type": "code",
   "execution_count": null,
   "metadata": {},
   "outputs": [],
   "source": []
  },
  {
   "cell_type": "code",
   "execution_count": null,
   "metadata": {},
   "outputs": [],
   "source": []
  },
  {
   "cell_type": "markdown",
   "metadata": {},
   "source": [
    "# Saving output to a file\n",
    "\n",
    "You can use `plt.savefig(\"<filename>\")` in the above code box to store the plot in a file named `<filename>`.\n",
    "\n",
    "__Save your plot in a PDF file named spam.pdf__.  Then, using the Mac finder/linux file explorer or the below code box, view the file.  In ipython/jupyter, you can issue shell commands by preceding them by '!'."
   ]
  },
  {
   "cell_type": "code",
   "execution_count": null,
   "metadata": {},
   "outputs": [],
   "source": [
    "plt.savefig(\"\")"
   ]
  },
  {
   "cell_type": "markdown",
   "metadata": {},
   "source": [
    "# If you have extra time\n",
    "\n",
    "Try changing one of your plots to use a different font, choosing based upon your own aesthetic preferences.  See the example at http://matplotlib.org/examples/pylab_examples/fonts_demo.html  .\n",
    "\n",
    "If you find something you like, you may want to change your default font; see http://matplotlib.org/users/customizing.html .\n",
    "\n",
    "Try rolling even more dice, or plotting the mean roll (using `np.mean`) instead of the sum."
   ]
  },
  {
   "cell_type": "code",
   "execution_count": null,
   "metadata": {},
   "outputs": [],
   "source": []
  }
 ],
 "metadata": {
  "anaconda-cloud": {},
  "kernelspec": {
   "display_name": "datascience",
   "language": "python",
   "name": "python3"
  },
  "language_info": {
   "codemirror_mode": {
    "name": "ipython",
    "version": 3
   },
   "file_extension": ".py",
   "mimetype": "text/x-python",
   "name": "python",
   "nbconvert_exporter": "python",
   "pygments_lexer": "ipython3",
   "version": "3.13.1"
  }
 },
 "nbformat": 4,
 "nbformat_minor": 1
}
