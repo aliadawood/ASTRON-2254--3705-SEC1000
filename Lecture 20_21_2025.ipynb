{
 "cells": [
  {
   "cell_type": "code",
   "execution_count": 1,
   "metadata": {},
   "outputs": [],
   "source": [
    "# imports\n",
    "%matplotlib inline   \n",
    "                     # this sets up matplotlib to make plots show up in the notebook\n",
    "import numpy as np   # imports the numpy package, abbreviated as np\n",
    "import matplotlib    # imports the matplotlib package for making plots\n",
    "import matplotlib.pyplot as plt    # imports the part of matplotlib we use most,\n",
    " \n",
    "import numpy.random as random\n",
    "import scipy.stats as stats\n"
   ]
  },
  {
   "cell_type": "markdown",
   "metadata": {},
   "source": [
    "# Reviewing some things from before . . .\n",
    "\n",
    "Set up two sets of 18 values from normal distributions, N(0,1) or N(1,1):"
   ]
  },
  {
   "cell_type": "code",
   "execution_count": 2,
   "metadata": {},
   "outputs": [],
   "source": [
    "#initialize the arrays\n",
    "ndata=18\n",
    "data1=random.randn(ndata)\n",
    "data2=random.randn(ndata)+1."
   ]
  },
  {
   "cell_type": "code",
   "execution_count": 3,
   "metadata": {},
   "outputs": [
    {
     "name": "stdout",
     "output_type": "stream",
     "text": [
      "means: -0.2910 , 1.1726\n",
      "sigmas: 0.2236 , 0.2315\n",
      "Confidence Interval for mean 1: [ -0.7628 , 0.1808 ]\n",
      "Confidence Interval for mean 2: [ 0.6841 , 1.6611 ]\n"
     ]
    }
   ],
   "source": [
    "#find mean of each array\n",
    "mean1=np.mean(data1)\n",
    "mean2=np.mean(data2)\n",
    "\n",
    "sigma1=np.std(data1,ddof=1)/np.sqrt(ndata) # want the standard deviation of the mean of data1\n",
    "sigma2=np.std(data2,ddof=1)/np.sqrt(ndata) # want the standard deviation of the mean of data2\n",
    "\n",
    "\n",
    "print(f'means: {mean1:.4f} , {mean2:.4f}')\n",
    "print(f'sigmas: {sigma1:.4f} , {sigma2:.4f}')\n",
    "\n",
    "tfactor=stats.t.ppf(1-0.025,ndata-1)\n",
    "print(f'Confidence Interval for mean 1: [ {mean1-tfactor*sigma1:.4f} , {mean1+tfactor*sigma1:.4f} ]')\n",
    "print(f'Confidence Interval for mean 2: [ {mean2-tfactor*sigma2:.4f} , {mean2+tfactor*sigma2:.4f} ]')\n"
   ]
  },
  {
   "cell_type": "markdown",
   "metadata": {},
   "source": [
    "Confidence intervals for the difference:"
   ]
  },
  {
   "cell_type": "code",
   "execution_count": 4,
   "metadata": {},
   "outputs": [
    {
     "name": "stdout",
     "output_type": "stream",
     "text": [
      "Observed difference of means: 1.4636 \n",
      "2-sided Confidence Interval: [ 0.8094 , 2.1178 ]\n",
      "1-sided Confidence Interval: > 0.9193\n"
     ]
    }
   ],
   "source": [
    "mean_diff=mean2-mean1\n",
    "sigma_diff=np.sqrt(sigma1**2 + sigma2**2)\n",
    "tfactor=stats.t.ppf(1-0.025, 2*ndata-2)\n",
    "\n",
    "print(f'Observed difference of means: {mean_diff:.4f} ')\n",
    "\n",
    "print(f'2-sided Confidence Interval: [ {mean_diff-tfactor*sigma_diff:.4f} , {mean_diff+tfactor*sigma_diff:.4f} ]')\n",
    "\n",
    "tfactor=stats.t.ppf(1-0.05, 2*ndata-2)\n",
    "print(f'1-sided Confidence Interval: > {mean_diff-tfactor*sigma_diff:.4f}')"
   ]
  },
  {
   "cell_type": "markdown",
   "metadata": {},
   "source": [
    "# Permutation tests\n",
    "\n",
    "We will combine `data1` and `data2` into 1 array; then generate sets of 2 datasets of size `ndata` and see how often their means differ as much as in the observed case."
   ]
  },
  {
   "cell_type": "code",
   "execution_count": 5,
   "metadata": {},
   "outputs": [],
   "source": [
    "# choose number of bootstrap samples\n",
    "nsims=int(5E4)\n",
    "\n",
    "# make a combined dataset from both original data arrays\n",
    "datac=np.concatenate( (data1,data2) )\n",
    "\n",
    "# generate the two bootstrap samples\n",
    "fake1=np.random.choice(datac,size=(ndata,nsims) )\n",
    "fake2=np.random.choice(datac,size=(ndata,nsims) )\n",
    "\n"
   ]
  },
  {
   "cell_type": "markdown",
   "metadata": {},
   "source": [
    "## Application to means"
   ]
  },
  {
   "cell_type": "code",
   "execution_count": 6,
   "metadata": {},
   "outputs": [],
   "source": [
    "# Calculate the means for each simulated dataset: should be nsims elements in each array\n",
    "fakemeans1 = np.mean(fake1,axis=0)\n",
    "fakemeans2 = np.mean(fake2,axis=0)\n",
    "\n",
    "# Calculate the difference between the means\n",
    "diffs=fakemeans2-fakemeans1  "
   ]
  },
  {
   "cell_type": "markdown",
   "metadata": {},
   "source": [
    "__Using the below code box, plot histograms of the distributions of `fakemeans1` and `fakemeans2`, using the same binning and ~100 bins.__\n",
    "\n"
   ]
  },
  {
   "cell_type": "code",
   "execution_count": 11,
   "metadata": {},
   "outputs": [
    {
     "data": {
      "text/plain": [
       "(array([1.000e+00, 2.000e+00, 0.000e+00, 0.000e+00, 0.000e+00, 0.000e+00,\n",
       "        4.000e+00, 0.000e+00, 3.000e+00, 2.000e+00, 5.000e+00, 2.000e+00,\n",
       "        9.000e+00, 5.000e+00, 7.000e+00, 1.300e+01, 2.300e+01, 2.900e+01,\n",
       "        2.600e+01, 4.500e+01, 3.300e+01, 6.200e+01, 5.800e+01, 7.600e+01,\n",
       "        9.000e+01, 1.180e+02, 1.430e+02, 1.570e+02, 1.680e+02, 2.270e+02,\n",
       "        2.510e+02, 3.250e+02, 3.980e+02, 4.090e+02, 4.810e+02, 5.000e+02,\n",
       "        6.070e+02, 7.490e+02, 7.850e+02, 8.690e+02, 9.540e+02, 1.094e+03,\n",
       "        1.156e+03, 1.234e+03, 1.318e+03, 1.333e+03, 1.344e+03, 1.474e+03,\n",
       "        1.563e+03, 1.581e+03, 1.638e+03, 1.639e+03, 1.650e+03, 1.653e+03,\n",
       "        1.599e+03, 1.566e+03, 1.593e+03, 1.570e+03, 1.522e+03, 1.448e+03,\n",
       "        1.389e+03, 1.351e+03, 1.256e+03, 1.151e+03, 1.079e+03, 1.011e+03,\n",
       "        9.000e+02, 8.240e+02, 8.040e+02, 6.460e+02, 6.270e+02, 5.350e+02,\n",
       "        4.550e+02, 4.040e+02, 3.340e+02, 3.170e+02, 2.460e+02, 2.050e+02,\n",
       "        1.530e+02, 1.270e+02, 1.260e+02, 1.060e+02, 7.000e+01, 5.600e+01,\n",
       "        5.200e+01, 4.000e+01, 3.200e+01, 2.400e+01, 1.400e+01, 1.100e+01,\n",
       "        8.000e+00, 1.500e+01, 6.000e+00, 5.000e+00, 5.000e+00, 3.000e+00,\n",
       "        0.000e+00, 0.000e+00, 0.000e+00, 2.000e+00]),\n",
       " array([-0.80698784, -0.78350954, -0.76003124, -0.73655295, -0.71307465,\n",
       "        -0.68959635, -0.66611805, -0.64263976, -0.61916146, -0.59568316,\n",
       "        -0.57220487, -0.54872657, -0.52524827, -0.50176998, -0.47829168,\n",
       "        -0.45481338, -0.43133509, -0.40785679, -0.38437849, -0.3609002 ,\n",
       "        -0.3374219 , -0.3139436 , -0.29046531, -0.26698701, -0.24350871,\n",
       "        -0.22003041, -0.19655212, -0.17307382, -0.14959552, -0.12611723,\n",
       "        -0.10263893, -0.07916063, -0.05568234, -0.03220404, -0.00872574,\n",
       "         0.01475255,  0.03823085,  0.06170915,  0.08518744,  0.10866574,\n",
       "         0.13214404,  0.15562233,  0.17910063,  0.20257893,  0.22605723,\n",
       "         0.24953552,  0.27301382,  0.29649212,  0.31997041,  0.34344871,\n",
       "         0.36692701,  0.3904053 ,  0.4138836 ,  0.4373619 ,  0.46084019,\n",
       "         0.48431849,  0.50779679,  0.53127508,  0.55475338,  0.57823168,\n",
       "         0.60170997,  0.62518827,  0.64866657,  0.67214487,  0.69562316,\n",
       "         0.71910146,  0.74257976,  0.76605805,  0.78953635,  0.81301465,\n",
       "         0.83649294,  0.85997124,  0.88344954,  0.90692783,  0.93040613,\n",
       "         0.95388443,  0.97736272,  1.00084102,  1.02431932,  1.04779762,\n",
       "         1.07127591,  1.09475421,  1.11823251,  1.1417108 ,  1.1651891 ,\n",
       "         1.1886674 ,  1.21214569,  1.23562399,  1.25910229,  1.28258058,\n",
       "         1.30605888,  1.32953718,  1.35301547,  1.37649377,  1.39997207,\n",
       "         1.42345036,  1.44692866,  1.47040696,  1.49388526,  1.51736355,\n",
       "         1.54084185]),\n",
       " <BarContainer object of 100 artists>)"
      ]
     },
     "execution_count": 11,
     "metadata": {},
     "output_type": "execute_result"
    },
    {
     "data": {
      "image/png": "[encoded data removed]",
      "text/plain": [
       "<Figure size 640x480 with 1 Axes>"
      ]
     },
     "metadata": {},
     "output_type": "display_data"
    }
   ],
   "source": [
    "plt.hist(np.ravel(fakemeans1),alpha=0.5,bins=100)\n",
    "plt.hist(np.ravel(fakemeans2),alpha=0.5,bins=100)"
   ]
  },
  {
   "cell_type": "markdown",
   "metadata": {},
   "source": [
    "__Using the below code box, plot a histogram of the distribution of differences between the means of each sample(`diffs`), using ~100 bins.  Add a vertical dashed line at the observed value of the difference between the means of the two real data samples (`data1` and `data2`) (you can use `plt.axvline` for this).__"
   ]
  },
  {
   "cell_type": "code",
   "execution_count": 23,
   "metadata": {},
   "outputs": [
    {
     "data": {
      "text/plain": [
       "<matplotlib.lines.Line2D at 0x1416ff9d0>"
      ]
     },
     "execution_count": 23,
     "metadata": {},
     "output_type": "execute_result"
    },
    {
     "data": {
      "image/png": "[encoded data removed]",
      "text/plain": [
       "<Figure size 640x480 with 1 Axes>"
      ]
     },
     "metadata": {},
     "output_type": "display_data"
    }
   ],
   "source": [
    "plt.hist(diffs,bins=100,alpha=0.5)\n",
    "plt.axvline(0)\n",
    "plt.axvline(1.4636) #observed difference of means"
   ]
  },
  {
   "cell_type": "markdown",
   "metadata": {},
   "source": [
    "\n"
   ]
  },
  {
   "cell_type": "code",
   "execution_count": 21,
   "metadata": {},
   "outputs": [
    {
     "name": "stdout",
     "output_type": "stream",
     "text": [
      "cutoffs: [0.18545878 0.64893073 0.91934913 1.216952  ]\n",
      "\n",
      "Observed difference of means: 1.4636 \n",
      "\n"
     ]
    }
   ],
   "source": [
    "# print significance (alpha) = 0.32, 0.05, 0.01, and 0.001 limits on mean2-mean1\n",
    "print(f'cutoffs: {np.percentile(diffs,(68.,95.,99.,99.9))}')\n",
    "\n",
    "#make some empty space\n",
    "print()\n",
    "\n",
    "# compare the observed difference between the means to these cutoffs\n",
    "print(f'Observed difference of means: {mean_diff:.4f} ')\n",
    "print()"
   ]
  },
  {
   "cell_type": "markdown",
   "metadata": {},
   "source": [
    "We can get a p-value using `scipy.stats.percentileofscore(array,value)`, which returns the percentile in `array` corresponding to the observed value `value`."
   ]
  },
  {
   "cell_type": "code",
   "execution_count": 22,
   "metadata": {},
   "outputs": [
    {
     "name": "stdout",
     "output_type": "stream",
     "text": [
      "p-value: 0.00014\n"
     ]
    }
   ],
   "source": [
    "print(f'p-value: {( 100-stats.percentileofscore(diffs,mean2-mean1) )/100.:.6g}')"
   ]
  },
  {
   "cell_type": "markdown",
   "metadata": {},
   "source": [
    "not consistent datasets, it was not right to put them together."
   ]
  },
  {
   "cell_type": "markdown",
   "metadata": {},
   "source": [
    "## Application to standard deviations\n",
    "\n",
    "We can also use the permutation test to investigate whether the ratio of standard deviations of the two samples could be different (note that each array by construction had the same intrinsic standard deviation, 1)."
   ]
  },
  {
   "cell_type": "code",
   "execution_count": 14,
   "metadata": {},
   "outputs": [],
   "source": [
    "# calculate std. dev. of each bootstrap fake sample\n",
    "\n",
    "fakesigmas1=np.std(fake1,axis=0,ddof=1)\n",
    "fakesigmas2=np.std(fake2,axis=0,ddof=1)\n",
    "\n",
    "ratio=fakesigmas2/fakesigmas1\n",
    "realratio=np.std(data2,ddof=1)/np.std(data1,ddof=1)"
   ]
  },
  {
   "cell_type": "code",
   "execution_count": null,
   "metadata": {},
   "outputs": [],
   "source": []
  },
  {
   "cell_type": "markdown",
   "metadata": {},
   "source": [
    "__Using the below code box, plot histograms of the two `fakesigmas` arrays, using ~100 bins each and the same binning.__"
   ]
  },
  {
   "cell_type": "code",
   "execution_count": 27,
   "metadata": {},
   "outputs": [
    {
     "data": {
      "text/plain": [
       "(array([4.000e+00, 2.000e+00, 5.000e+00, 2.000e+00, 5.000e+00, 5.000e+00,\n",
       "        3.000e+00, 4.000e+00, 8.000e+00, 1.800e+01, 1.500e+01, 2.400e+01,\n",
       "        3.100e+01, 3.000e+01, 4.000e+01, 6.100e+01, 5.700e+01, 6.800e+01,\n",
       "        9.400e+01, 1.110e+02, 1.080e+02, 1.450e+02, 1.750e+02, 2.060e+02,\n",
       "        2.320e+02, 2.610e+02, 3.070e+02, 3.740e+02, 4.190e+02, 4.390e+02,\n",
       "        4.910e+02, 5.420e+02, 6.220e+02, 6.940e+02, 6.730e+02, 8.550e+02,\n",
       "        8.780e+02, 9.150e+02, 1.071e+03, 1.107e+03, 1.118e+03, 1.150e+03,\n",
       "        1.271e+03, 1.385e+03, 1.323e+03, 1.469e+03, 1.457e+03, 1.420e+03,\n",
       "        1.519e+03, 1.561e+03, 1.495e+03, 1.491e+03, 1.563e+03, 1.470e+03,\n",
       "        1.411e+03, 1.349e+03, 1.328e+03, 1.306e+03, 1.262e+03, 1.207e+03,\n",
       "        1.163e+03, 1.078e+03, 9.740e+02, 9.260e+02, 8.410e+02, 8.140e+02,\n",
       "        7.240e+02, 6.580e+02, 5.880e+02, 4.900e+02, 4.800e+02, 4.100e+02,\n",
       "        3.430e+02, 3.150e+02, 2.880e+02, 2.040e+02, 1.750e+02, 1.720e+02,\n",
       "        1.500e+02, 9.500e+01, 1.150e+02, 7.300e+01, 5.800e+01, 5.000e+01,\n",
       "        2.800e+01, 3.800e+01, 2.100e+01, 2.300e+01, 1.000e+01, 1.000e+01,\n",
       "        1.300e+01, 5.000e+00, 3.000e+00, 4.000e+00, 2.000e+00, 1.000e+00,\n",
       "        0.000e+00, 0.000e+00, 0.000e+00, 2.000e+00]),\n",
       " array([0.47202502, 0.48608652, 0.50014801, 0.51420951, 0.528271  ,\n",
       "        0.5423325 , 0.556394  , 0.57045549, 0.58451699, 0.59857848,\n",
       "        0.61263998, 0.62670147, 0.64076297, 0.65482446, 0.66888596,\n",
       "        0.68294745, 0.69700895, 0.71107045, 0.72513194, 0.73919344,\n",
       "        0.75325493, 0.76731643, 0.78137792, 0.79543942, 0.80950091,\n",
       "        0.82356241, 0.8376239 , 0.8516854 , 0.86574689, 0.87980839,\n",
       "        0.89386989, 0.90793138, 0.92199288, 0.93605437, 0.95011587,\n",
       "        0.96417736, 0.97823886, 0.99230035, 1.00636185, 1.02042334,\n",
       "        1.03448484, 1.04854634, 1.06260783, 1.07666933, 1.09073082,\n",
       "        1.10479232, 1.11885381, 1.13291531, 1.1469768 , 1.1610383 ,\n",
       "        1.17509979, 1.18916129, 1.20322279, 1.21728428, 1.23134578,\n",
       "        1.24540727, 1.25946877, 1.27353026, 1.28759176, 1.30165325,\n",
       "        1.31571475, 1.32977624, 1.34383774, 1.35789923, 1.37196073,\n",
       "        1.38602223, 1.40008372, 1.41414522, 1.42820671, 1.44226821,\n",
       "        1.4563297 , 1.4703912 , 1.48445269, 1.49851419, 1.51257568,\n",
       "        1.52663718, 1.54069868, 1.55476017, 1.56882167, 1.58288316,\n",
       "        1.59694466, 1.61100615, 1.62506765, 1.63912914, 1.65319064,\n",
       "        1.66725213, 1.68131363, 1.69537513, 1.70943662, 1.72349812,\n",
       "        1.73755961, 1.75162111, 1.7656826 , 1.7797441 , 1.79380559,\n",
       "        1.80786709, 1.82192858, 1.83599008, 1.85005158, 1.86411307,\n",
       "        1.87817457]),\n",
       " <BarContainer object of 100 artists>)"
      ]
     },
     "execution_count": 27,
     "metadata": {},
     "output_type": "execute_result"
    },
    {
     "data": {
      "image/png": "[encoded data removed]",
      "text/plain": [
       "<Figure size 640x480 with 1 Axes>"
      ]
     },
     "metadata": {},
     "output_type": "display_data"
    }
   ],
   "source": [
    "plt.hist(np.ravel (fakesigmas1),bins=100,alpha=0.5)\n",
    "plt.hist(np.ravel (fakesigmas2),bins=100,alpha=0.5)"
   ]
  },
  {
   "cell_type": "markdown",
   "metadata": {},
   "source": [
    "__Using the below code box, plot a histogram of the ratio of the two sigmas, i.e. `ratio=fakesigma2/fakesigma1`, with ~100 bins.  Put a vertical line at the observed value of the ratio calculated from `data1` and `data2`.__"
   ]
  },
  {
   "cell_type": "code",
   "execution_count": 30,
   "metadata": {},
   "outputs": [
    {
     "data": {
      "text/plain": [
       "<matplotlib.lines.Line2D at 0x142236fd0>"
      ]
     },
     "execution_count": 30,
     "metadata": {},
     "output_type": "execute_result"
    },
    {
     "data": {
      "image/png": "[encoded data removed]",
      "text/plain": [
       "<Figure size 640x480 with 1 Axes>"
      ]
     },
     "metadata": {},
     "output_type": "display_data"
    }
   ],
   "source": [
    "plt.hist(ratio,bins=100,alpha=0.5)\n",
    "plt.axvline(realratio)"
   ]
  },
  {
   "cell_type": "code",
   "execution_count": 47,
   "metadata": {},
   "outputs": [
    {
     "data": {
      "text/plain": [
       "<matplotlib.legend.Legend at 0x136003b60>"
      ]
     },
     "execution_count": 47,
     "metadata": {},
     "output_type": "execute_result"
    },
    {
     "data": {
      "image/png": "[encoded data removed]",
      "text/plain": [
       "<Figure size 640x480 with 1 Axes>"
      ]
     },
     "metadata": {},
     "output_type": "display_data"
    }
   ],
   "source": [
    "plt.hist(ratio,bins=100,label='ratio')\n",
    "plt.axvline(x = realratio, ymin = 0, ymax = 2500,\n",
    "            linewidth = 4, linestyle =\"--\",\n",
    "            color ='red',label='real ratio')\n",
    "plt.legend()"
   ]
  },
  {
   "cell_type": "markdown",
   "metadata": {},
   "source": [
    "That means we don't reject these values"
   ]
  },
  {
   "cell_type": "markdown",
   "metadata": {},
   "source": [
    "__Using the below code box, determine the limits of the 68 and 95 percent regions (NOT the 68/95th percentile points, as we want a 2-sided test) for the value of this ratio, determined using the permutation tests.__ \n",
    "\n",
    "__Compare these limits to the observed value.__\n",
    "\n",
    "__Also calculate the p-value for the observed ratio (again, keeping in mind that we want to do a 2-sided test, so we want to calculate the probability of anything either more extremely large OR more extremely small under the hypothesis that there is no difference): so this must be twice as large as the difference of your observed percentile/100  and either 0 or 1, whichever is closer...__\n",
    "\n",
    "__What do you conclude about whether the observed ratio of standard deviations is consistent with the hypothesis of no difference?__"
   ]
  },
  {
   "cell_type": "code",
   "execution_count": 39,
   "metadata": {},
   "outputs": [
    {
     "name": "stdout",
     "output_type": "stream",
     "text": [
      "p-value: 0.5624\n"
     ]
    }
   ],
   "source": [
    "print(f'p-value: {( 100-stats.percentileofscore(ratio,sigma1/sigma2))/100.:.6g}')"
   ]
  },
  {
   "cell_type": "code",
   "execution_count": 42,
   "metadata": {},
   "outputs": [
    {
     "name": "stdout",
     "output_type": "stream",
     "text": [
      "\u001b[0;31mSignature:\u001b[0m\n",
      "\u001b[0mstats\u001b[0m\u001b[0;34m.\u001b[0m\u001b[0mkstest\u001b[0m\u001b[0;34m(\u001b[0m\u001b[0;34m\u001b[0m\n",
      "\u001b[0;34m\u001b[0m    \u001b[0mrvs\u001b[0m\u001b[0;34m,\u001b[0m\u001b[0;34m\u001b[0m\n",
      "\u001b[0;34m\u001b[0m    \u001b[0mcdf\u001b[0m\u001b[0;34m,\u001b[0m\u001b[0;34m\u001b[0m\n",
      "\u001b[0;34m\u001b[0m    \u001b[0margs\u001b[0m\u001b[0;34m=\u001b[0m\u001b[0;34m(\u001b[0m\u001b[0;34m)\u001b[0m\u001b[0;34m,\u001b[0m\u001b[0;34m\u001b[0m\n",
      "\u001b[0;34m\u001b[0m    \u001b[0mN\u001b[0m\u001b[0;34m=\u001b[0m\u001b[0;36m20\u001b[0m\u001b[0;34m,\u001b[0m\u001b[0;34m\u001b[0m\n",
      "\u001b[0;34m\u001b[0m    \u001b[0malternative\u001b[0m\u001b[0;34m=\u001b[0m\u001b[0;34m'two-sided'\u001b[0m\u001b[0;34m,\u001b[0m\u001b[0;34m\u001b[0m\n",
      "\u001b[0;34m\u001b[0m    \u001b[0mmethod\u001b[0m\u001b[0;34m=\u001b[0m\u001b[0;34m'auto'\u001b[0m\u001b[0;34m,\u001b[0m\u001b[0;34m\u001b[0m\n",
      "\u001b[0;34m\u001b[0m    \u001b[0;34m*\u001b[0m\u001b[0;34m,\u001b[0m\u001b[0;34m\u001b[0m\n",
      "\u001b[0;34m\u001b[0m    \u001b[0maxis\u001b[0m\u001b[0;34m=\u001b[0m\u001b[0;36m0\u001b[0m\u001b[0;34m,\u001b[0m\u001b[0;34m\u001b[0m\n",
      "\u001b[0;34m\u001b[0m    \u001b[0mnan_policy\u001b[0m\u001b[0;34m=\u001b[0m\u001b[0;34m'propagate'\u001b[0m\u001b[0;34m,\u001b[0m\u001b[0;34m\u001b[0m\n",
      "\u001b[0;34m\u001b[0m    \u001b[0mkeepdims\u001b[0m\u001b[0;34m=\u001b[0m\u001b[0;32mFalse\u001b[0m\u001b[0;34m,\u001b[0m\u001b[0;34m\u001b[0m\n",
      "\u001b[0;34m\u001b[0m\u001b[0;34m)\u001b[0m\u001b[0;34m\u001b[0m\u001b[0;34m\u001b[0m\u001b[0m\n",
      "\u001b[0;31mDocstring:\u001b[0m\n",
      "Performs the (one-sample or two-sample) Kolmogorov-Smirnov test for\n",
      "goodness of fit.\n",
      "\n",
      "The one-sample test compares the underlying distribution F(x) of a sample\n",
      "against a given distribution G(x). The two-sample test compares the\n",
      "underlying distributions of two independent samples. Both tests are valid\n",
      "only for continuous distributions.\n",
      "\n",
      "Parameters\n",
      "----------\n",
      "rvs : str, array_like, or callable\n",
      "    If an array, it should be a 1-D array of observations of random\n",
      "    variables.\n",
      "    If a callable, it should be a function to generate random variables;\n",
      "    it is required to have a keyword argument `size`.\n",
      "    If a string, it should be the name of a distribution in `scipy.stats`,\n",
      "    which will be used to generate random variables.\n",
      "cdf : str, array_like or callable\n",
      "    If array_like, it should be a 1-D array of observations of random\n",
      "    variables, and the two-sample test is performed\n",
      "    (and rvs must be array_like).\n",
      "    If a callable, that callable is used to calculate the cdf.\n",
      "    If a string, it should be the name of a distribution in `scipy.stats`,\n",
      "    which will be used as the cdf function.\n",
      "args : tuple, sequence, optional\n",
      "    Distribution parameters, used if `rvs` or `cdf` are strings or\n",
      "    callables.\n",
      "N : int, optional\n",
      "    Sample size if `rvs` is string or callable.  Default is 20.\n",
      "alternative : {'two-sided', 'less', 'greater'}, optional\n",
      "    Defines the null and alternative hypotheses. Default is 'two-sided'.\n",
      "    Please see explanations in the Notes below.\n",
      "method : {'auto', 'exact', 'approx', 'asymp'}, optional\n",
      "    Defines the distribution used for calculating the p-value.\n",
      "    The following options are available (default is 'auto'):\n",
      "    \n",
      "      * 'auto' : selects one of the other options.\n",
      "      * 'exact' : uses the exact distribution of test statistic.\n",
      "      * 'approx' : approximates the two-sided probability with twice the\n",
      "        one-sided probability\n",
      "      * 'asymp': uses asymptotic distribution of test statistic\n",
      "axis : int or None, default: 0\n",
      "    If an int, the axis of the input along which to compute the statistic.\n",
      "    The statistic of each axis-slice (e.g. row) of the input will appear in a\n",
      "    corresponding element of the output.\n",
      "    If ``None``, the input will be raveled before computing the statistic.\n",
      "nan_policy : {'propagate', 'omit', 'raise'}\n",
      "    Defines how to handle input NaNs.\n",
      "    \n",
      "    - ``propagate``: if a NaN is present in the axis slice (e.g. row) along\n",
      "      which the  statistic is computed, the corresponding entry of the output\n",
      "      will be NaN.\n",
      "    - ``omit``: NaNs will be omitted when performing the calculation.\n",
      "      If insufficient data remains in the axis slice along which the\n",
      "      statistic is computed, the corresponding entry of the output will be\n",
      "      NaN.\n",
      "    - ``raise``: if a NaN is present, a ``ValueError`` will be raised.\n",
      "keepdims : bool, default: False\n",
      "    If this is set to True, the axes which are reduced are left\n",
      "    in the result as dimensions with size one. With this option,\n",
      "    the result will broadcast correctly against the input array.\n",
      "\n",
      "Returns\n",
      "-------\n",
      "res: KstestResult\n",
      "    An object containing attributes:\n",
      "    \n",
      "    statistic : float\n",
      "        KS test statistic, either D+, D-, or D (the maximum of the two)\n",
      "    pvalue : float\n",
      "        One-tailed or two-tailed p-value.\n",
      "    statistic_location : float\n",
      "        In a one-sample test, this is the value of `rvs`\n",
      "        corresponding with the KS statistic; i.e., the distance between\n",
      "        the empirical distribution function and the hypothesized cumulative\n",
      "        distribution function is measured at this observation.\n",
      "    \n",
      "        In a two-sample test, this is the value from `rvs` or `cdf`\n",
      "        corresponding with the KS statistic; i.e., the distance between\n",
      "        the empirical distribution functions is measured at this\n",
      "        observation.\n",
      "    statistic_sign : int\n",
      "        In a one-sample test, this is +1 if the KS statistic is the\n",
      "        maximum positive difference between the empirical distribution\n",
      "        function and the hypothesized cumulative distribution function\n",
      "        (D+); it is -1 if the KS statistic is the maximum negative\n",
      "        difference (D-).\n",
      "    \n",
      "        In a two-sample test, this is +1 if the empirical distribution\n",
      "        function of `rvs` exceeds the empirical distribution\n",
      "        function of `cdf` at `statistic_location`, otherwise -1.\n",
      "\n",
      "See Also\n",
      "--------\n",
      "\n",
      ":func:`ks_1samp`, :func:`ks_2samp`\n",
      "    ..\n",
      "\n",
      "Notes\n",
      "-----\n",
      "There are three options for the null and corresponding alternative\n",
      "hypothesis that can be selected using the `alternative` parameter.\n",
      "\n",
      "- `two-sided`: The null hypothesis is that the two distributions are\n",
      "  identical, F(x)=G(x) for all x; the alternative is that they are not\n",
      "  identical.\n",
      "\n",
      "- `less`: The null hypothesis is that F(x) >= G(x) for all x; the\n",
      "  alternative is that F(x) < G(x) for at least one x.\n",
      "\n",
      "- `greater`: The null hypothesis is that F(x) <= G(x) for all x; the\n",
      "  alternative is that F(x) > G(x) for at least one x.\n",
      "\n",
      "Note that the alternative hypotheses describe the *CDFs* of the\n",
      "underlying distributions, not the observed values. For example,\n",
      "suppose x1 ~ F and x2 ~ G. If F(x) > G(x) for all x, the values in\n",
      "x1 tend to be less than those in x2.\n",
      "\n",
      "Beginning in SciPy 1.9, ``np.matrix`` inputs (not recommended for new\n",
      "code) are converted to ``np.ndarray`` before the calculation is performed. In\n",
      "this case, the output will be a scalar or ``np.ndarray`` of appropriate shape\n",
      "rather than a 2D ``np.matrix``. Similarly, while masked elements of masked\n",
      "arrays are ignored, the output will be a scalar or ``np.ndarray`` rather than a\n",
      "masked array with ``mask=False``.\n",
      "\n",
      "Examples\n",
      "--------\n",
      "Suppose we wish to test the null hypothesis that a sample is distributed\n",
      "according to the standard normal.\n",
      "We choose a confidence level of 95%; that is, we will reject the null\n",
      "hypothesis in favor of the alternative if the p-value is less than 0.05.\n",
      "\n",
      "When testing uniformly distributed data, we would expect the\n",
      "null hypothesis to be rejected.\n",
      "\n",
      ">>> import numpy as np\n",
      ">>> from scipy import stats\n",
      ">>> rng = np.random.default_rng()\n",
      ">>> stats.kstest(stats.uniform.rvs(size=100, random_state=rng),\n",
      "...              stats.norm.cdf)\n",
      "KstestResult(statistic=0.5001899973268688,\n",
      "             pvalue=1.1616392184763533e-23,\n",
      "             statistic_location=0.00047625268963724654,\n",
      "             statistic_sign=-1)\n",
      "\n",
      "Indeed, the p-value is lower than our threshold of 0.05, so we reject the\n",
      "null hypothesis in favor of the default \"two-sided\" alternative: the data\n",
      "are *not* distributed according to the standard normal.\n",
      "\n",
      "When testing random variates from the standard normal distribution, we\n",
      "expect the data to be consistent with the null hypothesis most of the time.\n",
      "\n",
      ">>> x = stats.norm.rvs(size=100, random_state=rng)\n",
      ">>> stats.kstest(x, stats.norm.cdf)\n",
      "KstestResult(statistic=0.05345882212970396,\n",
      "             pvalue=0.9227159037744717,\n",
      "             statistic_location=-1.2451343873745018,\n",
      "             statistic_sign=1)\n",
      "\n",
      "As expected, the p-value of 0.92 is not below our threshold of 0.05, so\n",
      "we cannot reject the null hypothesis.\n",
      "\n",
      "Suppose, however, that the random variates are distributed according to\n",
      "a normal distribution that is shifted toward greater values. In this case,\n",
      "the cumulative density function (CDF) of the underlying distribution tends\n",
      "to be *less* than the CDF of the standard normal. Therefore, we would\n",
      "expect the null hypothesis to be rejected with ``alternative='less'``:\n",
      "\n",
      ">>> x = stats.norm.rvs(size=100, loc=0.5, random_state=rng)\n",
      ">>> stats.kstest(x, stats.norm.cdf, alternative='less')\n",
      "KstestResult(statistic=0.17482387821055168,\n",
      "             pvalue=0.001913921057766743,\n",
      "             statistic_location=0.3713830565352756,\n",
      "             statistic_sign=-1)\n",
      "\n",
      "and indeed, with p-value smaller than our threshold, we reject the null\n",
      "hypothesis in favor of the alternative.\n",
      "\n",
      "For convenience, the previous test can be performed using the name of the\n",
      "distribution as the second argument.\n",
      "\n",
      ">>> stats.kstest(x, \"norm\", alternative='less')\n",
      "KstestResult(statistic=0.17482387821055168,\n",
      "             pvalue=0.001913921057766743,\n",
      "             statistic_location=0.3713830565352756,\n",
      "             statistic_sign=-1)\n",
      "\n",
      "The examples above have all been one-sample tests identical to those\n",
      "performed by `ks_1samp`. Note that `kstest` can also perform two-sample\n",
      "tests identical to those performed by `ks_2samp`. For example, when two\n",
      "samples are drawn from the same distribution, we expect the data to be\n",
      "consistent with the null hypothesis most of the time.\n",
      "\n",
      ">>> sample1 = stats.laplace.rvs(size=105, random_state=rng)\n",
      ">>> sample2 = stats.laplace.rvs(size=95, random_state=rng)\n",
      ">>> stats.kstest(sample1, sample2)\n",
      "KstestResult(statistic=0.11779448621553884,\n",
      "             pvalue=0.4494256912629795,\n",
      "             statistic_location=0.6138814275424155,\n",
      "             statistic_sign=1)\n",
      "\n",
      "As expected, the p-value of 0.45 is not below our threshold of 0.05, so\n",
      "we cannot reject the null hypothesis.\n",
      "\u001b[0;31mFile:\u001b[0m      ~/.local/share/mamba/envs/datascience/lib/python3.13/site-packages/scipy/stats/_stats_py.py\n",
      "\u001b[0;31mType:\u001b[0m      function"
     ]
    }
   ],
   "source": [
    "?stats.kstest"
   ]
  },
  {
   "cell_type": "code",
   "execution_count": null,
   "metadata": {},
   "outputs": [],
   "source": []
  },
  {
   "cell_type": "markdown",
   "metadata": {},
   "source": [
    "# The Kolmogorov-Smirnov Test\n",
    "\n",
    "Let's set up two sets of Poisson-distributed data, with mean 5 or 7.5, and see if we can detect differences.  "
   ]
  },
  {
   "cell_type": "code",
   "execution_count": 40,
   "metadata": {},
   "outputs": [],
   "source": [
    "ndata = 25\n",
    "countb = stats.poisson.rvs(5,size=(ndata) )\n",
    "countr =stats.poisson.rvs(7.5,size=(ndata) )"
   ]
  },
  {
   "cell_type": "markdown",
   "metadata": {},
   "source": [
    "__Use the below code box to bring up the help on `stats.ks_2samp`.__"
   ]
  },
  {
   "cell_type": "code",
   "execution_count": 44,
   "metadata": {},
   "outputs": [
    {
     "name": "stdout",
     "output_type": "stream",
     "text": [
      "\u001b[0;31mSignature:\u001b[0m\n",
      "\u001b[0mstats\u001b[0m\u001b[0;34m.\u001b[0m\u001b[0mks_2samp\u001b[0m\u001b[0;34m(\u001b[0m\u001b[0;34m\u001b[0m\n",
      "\u001b[0;34m\u001b[0m    \u001b[0mdata1\u001b[0m\u001b[0;34m,\u001b[0m\u001b[0;34m\u001b[0m\n",
      "\u001b[0;34m\u001b[0m    \u001b[0mdata2\u001b[0m\u001b[0;34m,\u001b[0m\u001b[0;34m\u001b[0m\n",
      "\u001b[0;34m\u001b[0m    \u001b[0malternative\u001b[0m\u001b[0;34m=\u001b[0m\u001b[0;34m'two-sided'\u001b[0m\u001b[0;34m,\u001b[0m\u001b[0;34m\u001b[0m\n",
      "\u001b[0;34m\u001b[0m    \u001b[0mmethod\u001b[0m\u001b[0;34m=\u001b[0m\u001b[0;34m'auto'\u001b[0m\u001b[0;34m,\u001b[0m\u001b[0;34m\u001b[0m\n",
      "\u001b[0;34m\u001b[0m    \u001b[0;34m*\u001b[0m\u001b[0;34m,\u001b[0m\u001b[0;34m\u001b[0m\n",
      "\u001b[0;34m\u001b[0m    \u001b[0maxis\u001b[0m\u001b[0;34m=\u001b[0m\u001b[0;36m0\u001b[0m\u001b[0;34m,\u001b[0m\u001b[0;34m\u001b[0m\n",
      "\u001b[0;34m\u001b[0m    \u001b[0mnan_policy\u001b[0m\u001b[0;34m=\u001b[0m\u001b[0;34m'propagate'\u001b[0m\u001b[0;34m,\u001b[0m\u001b[0;34m\u001b[0m\n",
      "\u001b[0;34m\u001b[0m    \u001b[0mkeepdims\u001b[0m\u001b[0;34m=\u001b[0m\u001b[0;32mFalse\u001b[0m\u001b[0;34m,\u001b[0m\u001b[0;34m\u001b[0m\n",
      "\u001b[0;34m\u001b[0m\u001b[0;34m)\u001b[0m\u001b[0;34m\u001b[0m\u001b[0;34m\u001b[0m\u001b[0m\n",
      "\u001b[0;31mDocstring:\u001b[0m\n",
      "Performs the two-sample Kolmogorov-Smirnov test for goodness of fit.\n",
      "\n",
      "This test compares the underlying continuous distributions F(x) and G(x)\n",
      "of two independent samples.  See Notes for a description of the available\n",
      "null and alternative hypotheses.\n",
      "\n",
      "Parameters\n",
      "----------\n",
      "data1, data2 : array_like, 1-Dimensional\n",
      "    Two arrays of sample observations assumed to be drawn from a continuous\n",
      "    distribution, sample sizes can be different.\n",
      "alternative : {'two-sided', 'less', 'greater'}, optional\n",
      "    Defines the null and alternative hypotheses. Default is 'two-sided'.\n",
      "    Please see explanations in the Notes below.\n",
      "method : {'auto', 'exact', 'asymp'}, optional\n",
      "    Defines the method used for calculating the p-value.\n",
      "    The following options are available (default is 'auto'):\n",
      "    \n",
      "      * 'auto' : use 'exact' for small size arrays, 'asymp' for large\n",
      "      * 'exact' : use exact distribution of test statistic\n",
      "      * 'asymp' : use asymptotic distribution of test statistic\n",
      "axis : int or None, default: 0\n",
      "    If an int, the axis of the input along which to compute the statistic.\n",
      "    The statistic of each axis-slice (e.g. row) of the input will appear in a\n",
      "    corresponding element of the output.\n",
      "    If ``None``, the input will be raveled before computing the statistic.\n",
      "nan_policy : {'propagate', 'omit', 'raise'}\n",
      "    Defines how to handle input NaNs.\n",
      "    \n",
      "    - ``propagate``: if a NaN is present in the axis slice (e.g. row) along\n",
      "      which the  statistic is computed, the corresponding entry of the output\n",
      "      will be NaN.\n",
      "    - ``omit``: NaNs will be omitted when performing the calculation.\n",
      "      If insufficient data remains in the axis slice along which the\n",
      "      statistic is computed, the corresponding entry of the output will be\n",
      "      NaN.\n",
      "    - ``raise``: if a NaN is present, a ``ValueError`` will be raised.\n",
      "keepdims : bool, default: False\n",
      "    If this is set to True, the axes which are reduced are left\n",
      "    in the result as dimensions with size one. With this option,\n",
      "    the result will broadcast correctly against the input array.\n",
      "\n",
      "Returns\n",
      "-------\n",
      "res: KstestResult\n",
      "    An object containing attributes:\n",
      "    \n",
      "    statistic : float\n",
      "        KS test statistic.\n",
      "    pvalue : float\n",
      "        One-tailed or two-tailed p-value.\n",
      "    statistic_location : float\n",
      "        Value from `data1` or `data2` corresponding with the KS statistic;\n",
      "        i.e., the distance between the empirical distribution functions is\n",
      "        measured at this observation.\n",
      "    statistic_sign : int\n",
      "        +1 if the empirical distribution function of `data1` exceeds\n",
      "        the empirical distribution function of `data2` at\n",
      "        `statistic_location`, otherwise -1.\n",
      "\n",
      "See Also\n",
      "--------\n",
      "\n",
      ":func:`kstest`, :func:`ks_1samp`, :func:`epps_singleton_2samp`, :func:`anderson_ksamp`\n",
      "    ..\n",
      "\n",
      "Notes\n",
      "-----\n",
      "There are three options for the null and corresponding alternative\n",
      "hypothesis that can be selected using the `alternative` parameter.\n",
      "\n",
      "- `less`: The null hypothesis is that F(x) >= G(x) for all x; the\n",
      "  alternative is that F(x) < G(x) for at least one x. The statistic\n",
      "  is the magnitude of the minimum (most negative) difference between the\n",
      "  empirical distribution functions of the samples.\n",
      "\n",
      "- `greater`: The null hypothesis is that F(x) <= G(x) for all x; the\n",
      "  alternative is that F(x) > G(x) for at least one x. The statistic\n",
      "  is the maximum (most positive) difference between the empirical\n",
      "  distribution functions of the samples.\n",
      "\n",
      "- `two-sided`: The null hypothesis is that the two distributions are\n",
      "  identical, F(x)=G(x) for all x; the alternative is that they are not\n",
      "  identical. The statistic is the maximum absolute difference between the\n",
      "  empirical distribution functions of the samples.\n",
      "\n",
      "Note that the alternative hypotheses describe the *CDFs* of the\n",
      "underlying distributions, not the observed values of the data. For example,\n",
      "suppose x1 ~ F and x2 ~ G. If F(x) > G(x) for all x, the values in\n",
      "x1 tend to be less than those in x2.\n",
      "\n",
      "If the KS statistic is large, then the p-value will be small, and this may\n",
      "be taken as evidence against the null hypothesis in favor of the\n",
      "alternative.\n",
      "\n",
      "If ``method='exact'``, `ks_2samp` attempts to compute an exact p-value,\n",
      "that is, the probability under the null hypothesis of obtaining a test\n",
      "statistic value as extreme as the value computed from the data.\n",
      "If ``method='asymp'``, the asymptotic Kolmogorov-Smirnov distribution is\n",
      "used to compute an approximate p-value.\n",
      "If ``method='auto'``, an exact p-value computation is attempted if both\n",
      "sample sizes are less than 10000; otherwise, the asymptotic method is used.\n",
      "In any case, if an exact p-value calculation is attempted and fails, a\n",
      "warning will be emitted, and the asymptotic p-value will be returned.\n",
      "\n",
      "The 'two-sided' 'exact' computation computes the complementary probability\n",
      "and then subtracts from 1.  As such, the minimum probability it can return\n",
      "is about 1e-16.  While the algorithm itself is exact, numerical\n",
      "errors may accumulate for large sample sizes.   It is most suited to\n",
      "situations in which one of the sample sizes is only a few thousand.\n",
      "\n",
      "We generally follow Hodges' treatment of Drion/Gnedenko/Korolyuk [1]_.\n",
      "\n",
      "Beginning in SciPy 1.9, ``np.matrix`` inputs (not recommended for new\n",
      "code) are converted to ``np.ndarray`` before the calculation is performed. In\n",
      "this case, the output will be a scalar or ``np.ndarray`` of appropriate shape\n",
      "rather than a 2D ``np.matrix``. Similarly, while masked elements of masked\n",
      "arrays are ignored, the output will be a scalar or ``np.ndarray`` rather than a\n",
      "masked array with ``mask=False``.\n",
      "\n",
      "References\n",
      "----------\n",
      ".. [1] Hodges, J.L. Jr.,  \"The Significance Probability of the Smirnov\n",
      "       Two-Sample Test,\" Arkiv fiur Matematik, 3, No. 43 (1958), 469-486.\n",
      "\n",
      "Examples\n",
      "--------\n",
      "Suppose we wish to test the null hypothesis that two samples were drawn\n",
      "from the same distribution.\n",
      "We choose a confidence level of 95%; that is, we will reject the null\n",
      "hypothesis in favor of the alternative if the p-value is less than 0.05.\n",
      "\n",
      "If the first sample were drawn from a uniform distribution and the second\n",
      "were drawn from the standard normal, we would expect the null hypothesis\n",
      "to be rejected.\n",
      "\n",
      ">>> import numpy as np\n",
      ">>> from scipy import stats\n",
      ">>> rng = np.random.default_rng()\n",
      ">>> sample1 = stats.uniform.rvs(size=100, random_state=rng)\n",
      ">>> sample2 = stats.norm.rvs(size=110, random_state=rng)\n",
      ">>> stats.ks_2samp(sample1, sample2)\n",
      "KstestResult(statistic=0.5454545454545454,\n",
      "             pvalue=7.37417839555191e-15,\n",
      "             statistic_location=-0.014071496412861274,\n",
      "             statistic_sign=-1)\n",
      "\n",
      "Indeed, the p-value is lower than our threshold of 0.05, so we reject the\n",
      "null hypothesis in favor of the default \"two-sided\" alternative: the data\n",
      "were *not* drawn from the same distribution.\n",
      "\n",
      "When both samples are drawn from the same distribution, we expect the data\n",
      "to be consistent with the null hypothesis most of the time.\n",
      "\n",
      ">>> sample1 = stats.norm.rvs(size=105, random_state=rng)\n",
      ">>> sample2 = stats.norm.rvs(size=95, random_state=rng)\n",
      ">>> stats.ks_2samp(sample1, sample2)\n",
      "KstestResult(statistic=0.10927318295739348,\n",
      "             pvalue=0.5438289009927495,\n",
      "             statistic_location=-0.1670157701848795,\n",
      "             statistic_sign=-1)\n",
      "\n",
      "As expected, the p-value of 0.54 is not below our threshold of 0.05, so\n",
      "we cannot reject the null hypothesis.\n",
      "\n",
      "Suppose, however, that the first sample were drawn from\n",
      "a normal distribution shifted toward greater values. In this case,\n",
      "the cumulative density function (CDF) of the underlying distribution tends\n",
      "to be *less* than the CDF underlying the second sample. Therefore, we would\n",
      "expect the null hypothesis to be rejected with ``alternative='less'``:\n",
      "\n",
      ">>> sample1 = stats.norm.rvs(size=105, loc=0.5, random_state=rng)\n",
      ">>> stats.ks_2samp(sample1, sample2, alternative='less')\n",
      "KstestResult(statistic=0.4055137844611529,\n",
      "             pvalue=3.5474563068855554e-08,\n",
      "             statistic_location=-0.13249370614972575,\n",
      "             statistic_sign=-1)\n",
      "\n",
      "and indeed, with p-value smaller than our threshold, we reject the null\n",
      "hypothesis in favor of the alternative.\n",
      "\u001b[0;31mFile:\u001b[0m      ~/.local/share/mamba/envs/datascience/lib/python3.13/site-packages/scipy/stats/_stats_py.py\n",
      "\u001b[0;31mType:\u001b[0m      function"
     ]
    }
   ],
   "source": [
    "?stats.ks_2samp"
   ]
  },
  {
   "cell_type": "markdown",
   "metadata": {},
   "source": [
    "__Evaluate whether the K-S test below finds a statistically significant difference between the two samples.__"
   ]
  },
  {
   "cell_type": "code",
   "execution_count": 41,
   "metadata": {},
   "outputs": [
    {
     "name": "stdout",
     "output_type": "stream",
     "text": [
      "d value: 0.4800 , p-value: 0.00561441\n"
     ]
    }
   ],
   "source": [
    "d,p = stats.ks_2samp(countb,countr)\n",
    "print(f'd value: {d:.4f} , p-value: {p:.6g}')"
   ]
  },
  {
   "cell_type": "markdown",
   "metadata": {},
   "source": [
    "try bootstrapping or t test to see how much the values bounce?"
   ]
  },
  {
   "cell_type": "markdown",
   "metadata": {},
   "source": [
    "# The Mann-Whitney U Test\n",
    "\n",
    "__Use the below code box to bring up the help on `stats.mannwhitneyu`.__"
   ]
  },
  {
   "cell_type": "code",
   "execution_count": 45,
   "metadata": {},
   "outputs": [
    {
     "name": "stdout",
     "output_type": "stream",
     "text": [
      "\u001b[0;31mSignature:\u001b[0m\n",
      "\u001b[0mstats\u001b[0m\u001b[0;34m.\u001b[0m\u001b[0mmannwhitneyu\u001b[0m\u001b[0;34m(\u001b[0m\u001b[0;34m\u001b[0m\n",
      "\u001b[0;34m\u001b[0m    \u001b[0mx\u001b[0m\u001b[0;34m,\u001b[0m\u001b[0;34m\u001b[0m\n",
      "\u001b[0;34m\u001b[0m    \u001b[0my\u001b[0m\u001b[0;34m,\u001b[0m\u001b[0;34m\u001b[0m\n",
      "\u001b[0;34m\u001b[0m    \u001b[0muse_continuity\u001b[0m\u001b[0;34m=\u001b[0m\u001b[0;32mTrue\u001b[0m\u001b[0;34m,\u001b[0m\u001b[0;34m\u001b[0m\n",
      "\u001b[0;34m\u001b[0m    \u001b[0malternative\u001b[0m\u001b[0;34m=\u001b[0m\u001b[0;34m'two-sided'\u001b[0m\u001b[0;34m,\u001b[0m\u001b[0;34m\u001b[0m\n",
      "\u001b[0;34m\u001b[0m    \u001b[0maxis\u001b[0m\u001b[0;34m=\u001b[0m\u001b[0;36m0\u001b[0m\u001b[0;34m,\u001b[0m\u001b[0;34m\u001b[0m\n",
      "\u001b[0;34m\u001b[0m    \u001b[0mmethod\u001b[0m\u001b[0;34m=\u001b[0m\u001b[0;34m'auto'\u001b[0m\u001b[0;34m,\u001b[0m\u001b[0;34m\u001b[0m\n",
      "\u001b[0;34m\u001b[0m    \u001b[0;34m*\u001b[0m\u001b[0;34m,\u001b[0m\u001b[0;34m\u001b[0m\n",
      "\u001b[0;34m\u001b[0m    \u001b[0mnan_policy\u001b[0m\u001b[0;34m=\u001b[0m\u001b[0;34m'propagate'\u001b[0m\u001b[0;34m,\u001b[0m\u001b[0;34m\u001b[0m\n",
      "\u001b[0;34m\u001b[0m    \u001b[0mkeepdims\u001b[0m\u001b[0;34m=\u001b[0m\u001b[0;32mFalse\u001b[0m\u001b[0;34m,\u001b[0m\u001b[0;34m\u001b[0m\n",
      "\u001b[0;34m\u001b[0m\u001b[0;34m)\u001b[0m\u001b[0;34m\u001b[0m\u001b[0;34m\u001b[0m\u001b[0m\n",
      "\u001b[0;31mDocstring:\u001b[0m\n",
      "Perform the Mann-Whitney U rank test on two independent samples.\n",
      "\n",
      "The Mann-Whitney U test is a nonparametric test of the null hypothesis\n",
      "that the distribution underlying sample `x` is the same as the\n",
      "distribution underlying sample `y`. It is often used as a test of\n",
      "difference in location between distributions.\n",
      "\n",
      "Parameters\n",
      "----------\n",
      "x, y : array-like\n",
      "    N-d arrays of samples. The arrays must be broadcastable except along\n",
      "    the dimension given by `axis`.\n",
      "use_continuity : bool, optional\n",
      "    Whether a continuity correction (1/2) should be applied.\n",
      "    Default is True when `method` is ``'asymptotic'``; has no effect\n",
      "    otherwise.\n",
      "alternative : {'two-sided', 'less', 'greater'}, optional\n",
      "    Defines the alternative hypothesis. Default is 'two-sided'.\n",
      "    Let *SX(u)* and *SY(u)* be the survival functions of the\n",
      "    distributions underlying `x` and `y`, respectively. Then the following\n",
      "    alternative hypotheses are available:\n",
      "    \n",
      "    * 'two-sided': the distributions are not equal, i.e. *SX(u) ≠ SY(u)* for\n",
      "      at least one *u*.\n",
      "    * 'less': the distribution underlying `x` is stochastically less\n",
      "      than the distribution underlying `y`, i.e. *SX(u) < SY(u)* for all *u*.\n",
      "    * 'greater': the distribution underlying `x` is stochastically greater\n",
      "      than the distribution underlying `y`, i.e. *SX(u) > SY(u)* for all *u*.\n",
      "    \n",
      "    Under a more restrictive set of assumptions, the alternative hypotheses\n",
      "    can be expressed in terms of the locations of the distributions;\n",
      "    see [5]_ section 5.1.\n",
      "axis : int or None, default: 0\n",
      "    If an int, the axis of the input along which to compute the statistic.\n",
      "    The statistic of each axis-slice (e.g. row) of the input will appear in a\n",
      "    corresponding element of the output.\n",
      "    If ``None``, the input will be raveled before computing the statistic.\n",
      "method : {'auto', 'asymptotic', 'exact'} or `PermutationMethod` instance, optional\n",
      "    Selects the method used to calculate the *p*-value.\n",
      "    Default is 'auto'. The following options are available.\n",
      "    \n",
      "    * ``'asymptotic'``: compares the standardized test statistic\n",
      "      against the normal distribution, correcting for ties.\n",
      "    * ``'exact'``: computes the exact *p*-value by comparing the observed\n",
      "      :math:`U` statistic against the exact distribution of the :math:`U`\n",
      "      statistic under the null hypothesis. No correction is made for ties.\n",
      "    * ``'auto'``: chooses ``'exact'`` when the size of one of the samples\n",
      "      is less than or equal to 8 and there are no ties;\n",
      "      chooses ``'asymptotic'`` otherwise.\n",
      "    * `PermutationMethod` instance. In this case, the p-value\n",
      "      is computed using `permutation_test` with the provided\n",
      "      configuration options and other appropriate settings.\n",
      "nan_policy : {'propagate', 'omit', 'raise'}\n",
      "    Defines how to handle input NaNs.\n",
      "    \n",
      "    - ``propagate``: if a NaN is present in the axis slice (e.g. row) along\n",
      "      which the  statistic is computed, the corresponding entry of the output\n",
      "      will be NaN.\n",
      "    - ``omit``: NaNs will be omitted when performing the calculation.\n",
      "      If insufficient data remains in the axis slice along which the\n",
      "      statistic is computed, the corresponding entry of the output will be\n",
      "      NaN.\n",
      "    - ``raise``: if a NaN is present, a ``ValueError`` will be raised.\n",
      "keepdims : bool, default: False\n",
      "    If this is set to True, the axes which are reduced are left\n",
      "    in the result as dimensions with size one. With this option,\n",
      "    the result will broadcast correctly against the input array.\n",
      "\n",
      "Returns\n",
      "-------\n",
      "res : MannwhitneyuResult\n",
      "    An object containing attributes:\n",
      "    \n",
      "    statistic : float\n",
      "        The Mann-Whitney U statistic corresponding with sample `x`. See\n",
      "        Notes for the test statistic corresponding with sample `y`.\n",
      "    pvalue : float\n",
      "        The associated *p*-value for the chosen `alternative`.\n",
      "\n",
      "See Also\n",
      "--------\n",
      "\n",
      ":func:`scipy.stats.wilcoxon`, :func:`scipy.stats.ranksums`, :func:`scipy.stats.ttest_ind`\n",
      "    ..\n",
      "\n",
      "Notes\n",
      "-----\n",
      "If ``U1`` is the statistic corresponding with sample `x`, then the\n",
      "statistic corresponding with sample `y` is\n",
      "``U2 = x.shape[axis] * y.shape[axis] - U1``.\n",
      "\n",
      "`mannwhitneyu` is for independent samples. For related / paired samples,\n",
      "consider `scipy.stats.wilcoxon`.\n",
      "\n",
      "`method` ``'exact'`` is recommended when there are no ties and when either\n",
      "sample size is less than 8 [1]_. The implementation follows the algorithm\n",
      "reported in [3]_.\n",
      "Note that the exact method is *not* corrected for ties, but\n",
      "`mannwhitneyu` will not raise errors or warnings if there are ties in the\n",
      "data. If there are ties and either samples is small (fewer than ~10\n",
      "observations), consider passing an instance of `PermutationMethod`\n",
      "as the `method` to perform a permutation test.\n",
      "\n",
      "The Mann-Whitney U test is a non-parametric version of the t-test for\n",
      "independent samples. When the means of samples from the populations\n",
      "are normally distributed, consider `scipy.stats.ttest_ind`.\n",
      "\n",
      "Beginning in SciPy 1.9, ``np.matrix`` inputs (not recommended for new\n",
      "code) are converted to ``np.ndarray`` before the calculation is performed. In\n",
      "this case, the output will be a scalar or ``np.ndarray`` of appropriate shape\n",
      "rather than a 2D ``np.matrix``. Similarly, while masked elements of masked\n",
      "arrays are ignored, the output will be a scalar or ``np.ndarray`` rather than a\n",
      "masked array with ``mask=False``.\n",
      "\n",
      "References\n",
      "----------\n",
      ".. [1] H.B. Mann and D.R. Whitney, \"On a test of whether one of two random\n",
      "       variables is stochastically larger than the other\", The Annals of\n",
      "       Mathematical Statistics, Vol. 18, pp. 50-60, 1947.\n",
      ".. [2] Mann-Whitney U Test, Wikipedia,\n",
      "       http://en.wikipedia.org/wiki/Mann-Whitney_U_test\n",
      ".. [3] Andreas Löffler,\n",
      "       \"Über eine Partition der nat. Zahlen und ihr Anwendung beim U-Test\",\n",
      "       Wiss. Z. Univ. Halle, XXXII'83 pp. 87-89.\n",
      ".. [4] Rosie Shier, \"Statistics: 2.3 The Mann-Whitney U Test\", Mathematics\n",
      "       Learning Support Centre, 2004.\n",
      ".. [5] Michael P. Fay and Michael A. Proschan. \"Wilcoxon-Mann-Whitney\n",
      "       or t-test? On assumptions for hypothesis tests and multiple \\\n",
      "       interpretations of decision rules.\" Statistics surveys, Vol. 4, pp.\n",
      "       1-39, 2010. https://www.ncbi.nlm.nih.gov/pmc/articles/PMC2857732/\n",
      "\n",
      "Examples\n",
      "--------\n",
      "We follow the example from [4]_: nine randomly sampled young adults were\n",
      "diagnosed with type II diabetes at the ages below.\n",
      "\n",
      ">>> males = [19, 22, 16, 29, 24]\n",
      ">>> females = [20, 11, 17, 12]\n",
      "\n",
      "We use the Mann-Whitney U test to assess whether there is a statistically\n",
      "significant difference in the diagnosis age of males and females.\n",
      "The null hypothesis is that the distribution of male diagnosis ages is\n",
      "the same as the distribution of female diagnosis ages. We decide\n",
      "that a confidence level of 95% is required to reject the null hypothesis\n",
      "in favor of the alternative that the distributions are different.\n",
      "Since the number of samples is very small and there are no ties in the\n",
      "data, we can compare the observed test statistic against the *exact*\n",
      "distribution of the test statistic under the null hypothesis.\n",
      "\n",
      ">>> from scipy.stats import mannwhitneyu\n",
      ">>> U1, p = mannwhitneyu(males, females, method=\"exact\")\n",
      ">>> print(U1)\n",
      "17.0\n",
      "\n",
      "`mannwhitneyu` always reports the statistic associated with the first\n",
      "sample, which, in this case, is males. This agrees with :math:`U_M = 17`\n",
      "reported in [4]_. The statistic associated with the second statistic\n",
      "can be calculated:\n",
      "\n",
      ">>> nx, ny = len(males), len(females)\n",
      ">>> U2 = nx*ny - U1\n",
      ">>> print(U2)\n",
      "3.0\n",
      "\n",
      "This agrees with :math:`U_F = 3` reported in [4]_. The two-sided\n",
      "*p*-value can be calculated from either statistic, and the value produced\n",
      "by `mannwhitneyu` agrees with :math:`p = 0.11` reported in [4]_.\n",
      "\n",
      ">>> print(p)\n",
      "0.1111111111111111\n",
      "\n",
      "The exact distribution of the test statistic is asymptotically normal, so\n",
      "the example continues by comparing the exact *p*-value against the\n",
      "*p*-value produced using the normal approximation.\n",
      "\n",
      ">>> _, pnorm = mannwhitneyu(males, females, method=\"asymptotic\")\n",
      ">>> print(pnorm)\n",
      "0.11134688653314041\n",
      "\n",
      "Here `mannwhitneyu`'s reported *p*-value appears to conflict with the\n",
      "value :math:`p = 0.09` given in [4]_. The reason is that [4]_\n",
      "does not apply the continuity correction performed by `mannwhitneyu`;\n",
      "`mannwhitneyu` reduces the distance between the test statistic and the\n",
      "mean :math:`\\mu = n_x n_y / 2` by 0.5 to correct for the fact that the\n",
      "discrete statistic is being compared against a continuous distribution.\n",
      "Here, the :math:`U` statistic used is less than the mean, so we reduce\n",
      "the distance by adding 0.5 in the numerator.\n",
      "\n",
      ">>> import numpy as np\n",
      ">>> from scipy.stats import norm\n",
      ">>> U = min(U1, U2)\n",
      ">>> N = nx + ny\n",
      ">>> z = (U - nx*ny/2 + 0.5) / np.sqrt(nx*ny * (N + 1)/ 12)\n",
      ">>> p = 2 * norm.cdf(z)  # use CDF to get p-value from smaller statistic\n",
      ">>> print(p)\n",
      "0.11134688653314041\n",
      "\n",
      "If desired, we can disable the continuity correction to get a result\n",
      "that agrees with that reported in [4]_.\n",
      "\n",
      ">>> _, pnorm = mannwhitneyu(males, females, use_continuity=False,\n",
      "...                         method=\"asymptotic\")\n",
      ">>> print(pnorm)\n",
      "0.0864107329737\n",
      "\n",
      "Regardless of whether we perform an exact or asymptotic test, the\n",
      "probability of the test statistic being as extreme or more extreme by\n",
      "chance exceeds 5%, so we do not consider the results statistically\n",
      "significant.\n",
      "\n",
      "Suppose that, before seeing the data, we had hypothesized that females\n",
      "would tend to be diagnosed at a younger age than males.\n",
      "In that case, it would be natural to provide the female ages as the\n",
      "first input, and we would have performed a one-sided test using\n",
      "``alternative = 'less'``: females are diagnosed at an age that is\n",
      "stochastically less than that of males.\n",
      "\n",
      ">>> res = mannwhitneyu(females, males, alternative=\"less\", method=\"exact\")\n",
      ">>> print(res)\n",
      "MannwhitneyuResult(statistic=3.0, pvalue=0.05555555555555555)\n",
      "\n",
      "Again, the probability of getting a sufficiently low value of the\n",
      "test statistic by chance under the null hypothesis is greater than 5%,\n",
      "so we do not reject the null hypothesis in favor of our alternative.\n",
      "\n",
      "If it is reasonable to assume that the means of samples from the\n",
      "populations are normally distributed, we could have used a t-test to\n",
      "perform the analysis.\n",
      "\n",
      ">>> from scipy.stats import ttest_ind\n",
      ">>> res = ttest_ind(females, males, alternative=\"less\")\n",
      ">>> print(res)\n",
      "TtestResult(statistic=-2.239334696520584,\n",
      "            pvalue=0.030068441095757924,\n",
      "            df=7.0)\n",
      "\n",
      "Under this assumption, the *p*-value would be low enough to reject the\n",
      "null hypothesis in favor of the alternative.\n",
      "\u001b[0;31mFile:\u001b[0m      ~/.local/share/mamba/envs/datascience/lib/python3.13/site-packages/scipy/stats/_mannwhitneyu.py\n",
      "\u001b[0;31mType:\u001b[0m      function"
     ]
    }
   ],
   "source": [
    "?stats.mannwhitneyu"
   ]
  },
  {
   "cell_type": "markdown",
   "metadata": {},
   "source": [
    "__Evaluate whether the U test below finds a statistically significant difference between the two samples.__"
   ]
  },
  {
   "cell_type": "code",
   "execution_count": 46,
   "metadata": {},
   "outputs": [
    {
     "name": "stdout",
     "output_type": "stream",
     "text": [
      "U value: 127.0000 , p-value: 0.0002947\n"
     ]
    }
   ],
   "source": [
    "u,p = stats.mannwhitneyu(countb,countr)\n",
    "print(f'U value: {u:.4f} , p-value: {p:.4g}')\n"
   ]
  },
  {
   "cell_type": "code",
   "execution_count": null,
   "metadata": {},
   "outputs": [],
   "source": []
  }
 ],
 "metadata": {
  "anaconda-cloud": {},
  "kernelspec": {
   "display_name": "datascience",
   "language": "python",
   "name": "python3"
  },
  "language_info": {
   "codemirror_mode": {
    "name": "ipython",
    "version": 3
   },
   "file_extension": ".py",
   "mimetype": "text/x-python",
   "name": "python",
   "nbconvert_exporter": "python",
   "pygments_lexer": "ipython3",
   "version": "3.13.1"
  }
 },
 "nbformat": 4,
 "nbformat_minor": 4
}
